{
 "cells": [
  {
   "cell_type": "code",
   "execution_count": 10,
   "metadata": {},
   "outputs": [],
   "source": [
    "library(readr)\n",
    "library(dplyr)\n",
    "library(tidyr)\n",
    "library(stringr)\n",
    "library(lubridate)"
   ]
  },
  {
   "cell_type": "code",
   "execution_count": 11,
   "metadata": {},
   "outputs": [
    {
     "name": "stderr",
     "output_type": "stream",
     "text": [
      "Parsed with column specification:\n",
      "cols(\n",
      "  STAID = \u001b[31mcol_character()\u001b[39m,\n",
      "  STANAME = \u001b[31mcol_character()\u001b[39m,\n",
      "  CN = \u001b[31mcol_character()\u001b[39m,\n",
      "  lat = \u001b[32mcol_double()\u001b[39m,\n",
      "  lng = \u001b[32mcol_double()\u001b[39m\n",
      ")\n",
      "\n",
      "Parsed with column specification:\n",
      "cols(\n",
      "  STAID = \u001b[31mcol_character()\u001b[39m,\n",
      "  DATE = \u001b[32mcol_double()\u001b[39m,\n",
      "  PRCP = \u001b[32mcol_double()\u001b[39m,\n",
      "  TMAX = \u001b[32mcol_double()\u001b[39m\n",
      ")\n",
      "\n"
     ]
    }
   ],
   "source": [
    "### Reading in Data\n",
    "fp <- '/pool001/mfzhao/PROCESSED_DATA/'\n",
    "ecad_stations <- read_csv(str_c(fp, \"ecad_stations.csv\"),\n",
    "                          col_types = cols(\n",
    "                              STAID = col_character(),\n",
    "                              STANAME = col_character(),\n",
    "                              lat = col_double(),\n",
    "                              lng = col_double()\n",
    "                 ))\n",
    "ghcn_stations <- read_csv(str_c(fp, \"ghcn_stations.csv\"))\n",
    "\n",
    "ecad <- read_csv(str_c(fp, \"ecad_weather.csv\"), \n",
    "                 col_types = cols(\n",
    "                     STAID = col_character(),\n",
    "                     DATE = col_double(),\n",
    "                     PRCP = col_double(),\n",
    "                     TMAX = col_double()\n",
    "                 ))\n",
    "ghcn <- read_csv(str_c(fp, \"ghcn_weather.csv\"))"
   ]
  },
  {
   "cell_type": "code",
   "execution_count": 12,
   "metadata": {},
   "outputs": [
    {
     "name": "stderr",
     "output_type": "stream",
     "text": [
      "Parsed with column specification:\n",
      "cols(\n",
      "  key = \u001b[31mcol_character()\u001b[39m,\n",
      "  ds = \u001b[34mcol_date(format = \"\")\u001b[39m,\n",
      "  btvrc = \u001b[32mcol_double()\u001b[39m,\n",
      "  rstu = \u001b[32mcol_double()\u001b[39m,\n",
      "  n = \u001b[32mcol_double()\u001b[39m\n",
      ")\n",
      "\n"
     ]
    }
   ],
   "source": [
    "CN <- read_csv(str_c(fp, \"eu_mobility.csv\")) %>%\n",
    "    mutate(CN = str_sub(key, 1, 2)) %>%\n",
    "    select(CN) %>%\n",
    "    distinct()\n",
    "\n",
    "CN <- data.frame(CN = c(CN$CN, 'US'), stringsAsFactors = F)"
   ]
  },
  {
   "cell_type": "code",
   "execution_count": 13,
   "metadata": {},
   "outputs": [
    {
     "name": "stderr",
     "output_type": "stream",
     "text": [
      "Joining, by = \"CN\"\n",
      "\n",
      "Joining, by = \"STAID\"\n",
      "\n",
      "Joining, by = \"CN\"\n",
      "\n",
      "Joining, by = \"STAID\"\n",
      "\n"
     ]
    }
   ],
   "source": [
    "ecad_stations %>%\n",
    "    inner_join(CN) %>%\n",
    "    inner_join(ecad %>% select(STAID) %>% distinct()) -> ecad_stations\n",
    "\n",
    "ghcn_stations %>%\n",
    "    inner_join(CN) %>%\n",
    "    inner_join(ghcn %>% select(STAID) %>% distinct()) -> ghcn_stations"
   ]
  },
  {
   "cell_type": "code",
   "execution_count": 14,
   "metadata": {},
   "outputs": [
    {
     "name": "stderr",
     "output_type": "stream",
     "text": [
      "Joining, by = c(\"STANAME\", \"CN\")\n",
      "\n",
      "Joining, by = c(\"STANAME\", \"CN\")\n",
      "\n"
     ]
    }
   ],
   "source": [
    "ecad_stations %>% \n",
    "    select(STANAME, CN) %>%\n",
    "    inner_join(ghcn_stations %>% \n",
    "               select(STANAME, CN) %>%\n",
    "               distinct()) %>%\n",
    "    distinct() -> intersection\n",
    "\n",
    "ghcn_stations %>% \n",
    "    anti_join(intersection) -> ghcn_stations\n",
    "\n",
    "ecad_stations %>% \n",
    "    mutate(STAID = str_c('ECAD', str_pad(STAID, 5, pad = '0'))) %>%\n",
    "    bind_rows(ghcn_stations) -> stations"
   ]
  },
  {
   "cell_type": "code",
   "execution_count": 15,
   "metadata": {},
   "outputs": [
    {
     "name": "stderr",
     "output_type": "stream",
     "text": [
      "Joining, by = \"STAID\"\n",
      "\n"
     ]
    }
   ],
   "source": [
    "ecad %>% \n",
    "    mutate(STAID = str_c('ECAD', str_pad(STAID, 5, pad = '0'))) %>%\n",
    "    bind_rows(ghcn %>%\n",
    "              semi_join(ghcn_stations)) -> weather\n",
    "\n",
    "weather %>%\n",
    "    mutate(DATE = ymd(DATE),\n",
    "           PRCP = PRCP/10,\n",
    "           TMAX = TMAX/10) %>% \n",
    "    filter(DATE < as.Date('2020-07-01')) -> weather "
   ]
  },
  {
   "cell_type": "code",
   "execution_count": 16,
   "metadata": {},
   "outputs": [],
   "source": [
    "write_csv(stations, str_c(fp, 'stations.csv'))\n",
    "write_csv(weather, str_c(fp, 'weather.csv'))"
   ]
  },
  {
   "cell_type": "code",
   "execution_count": null,
   "metadata": {},
   "outputs": [],
   "source": []
  }
 ],
 "metadata": {
  "kernelspec": {
   "display_name": "R 3.6",
   "language": "R",
   "name": "ir36"
  },
  "language_info": {
   "codemirror_mode": "r",
   "file_extension": ".r",
   "mimetype": "text/x-r-source",
   "name": "R",
   "pygments_lexer": "r",
   "version": "3.6.3"
  }
 },
 "nbformat": 4,
 "nbformat_minor": 2
}
