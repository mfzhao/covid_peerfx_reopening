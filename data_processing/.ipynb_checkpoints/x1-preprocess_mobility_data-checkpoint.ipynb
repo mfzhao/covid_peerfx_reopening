{
 "cells": [
  {
   "cell_type": "code",
   "execution_count": 1,
   "metadata": {},
   "outputs": [
    {
     "name": "stderr",
     "output_type": "stream",
     "text": [
      "\n",
      "Attaching package: ‘dplyr’\n",
      "\n",
      "\n",
      "The following objects are masked from ‘package:stats’:\n",
      "\n",
      "    filter, lag\n",
      "\n",
      "\n",
      "The following objects are masked from ‘package:base’:\n",
      "\n",
      "    intersect, setdiff, setequal, union\n",
      "\n",
      "\n",
      "Loading required package: foreach\n",
      "\n",
      "Loading required package: iterators\n",
      "\n",
      "Loading required package: parallel\n",
      "\n"
     ]
    }
   ],
   "source": [
    "library(dplyr)\n",
    "library(tidyr)\n",
    "library(readr)\n",
    "library(doMC)\n",
    "library(stringr)\n",
    "registerDoMC(cores = 28)"
   ]
  },
  {
   "cell_type": "code",
   "execution_count": 2,
   "metadata": {},
   "outputs": [],
   "source": [
    "flist <- Sys.glob('/pool001/mfzhao/mobility/*/*')\n",
    "eu_mobility <- foreach(f = flist[!str_detect(flist, 'united_states')], .combine = 'rbind') %dopar% read_csv(f)\n",
    "us_mobility <- foreach(f = flist[str_detect(flist, 'united_states')], .combine = 'rbind') %dopar% read_csv(f)"
   ]
  },
  {
   "cell_type": "code",
   "execution_count": 3,
   "metadata": {},
   "outputs": [],
   "source": [
    "eu_mobility %>% \n",
    "    filter(baseline_name != 'limited_february') %>%\n",
    "    select(key = external_polygon_id,\n",
    "           ds, \n",
    "           btvrc = all_day_bing_tiles_visited_relative_change, \n",
    "           rstu = all_day_ratio_single_tile_users) %>%\n",
    "    arrange(key, ds) %>%\n",
    "    mutate(key = ifelse(key == 'UKN0A', 'UKN10', key),\n",
    "           key = ifelse(key == 'UKN0B', 'UKN11', key),\n",
    "           key = ifelse(key == 'UKN0C', 'UKN12', key),\n",
    "           key = ifelse(key == 'UKN0D', 'UKN13', key),\n",
    "           key = ifelse(key == 'UKN0E', 'UKN14', key),\n",
    "           key = ifelse(key == 'UKN0F', 'UKN15', key),\n",
    "           key = ifelse(key == 'UKN0G', 'UKN16', key)) -> eu_mobility\n",
    "\n",
    "us_mobility %>% \n",
    "    filter(baseline_name != 'limited_february') %>%\n",
    "    select(key = external_polygon_id,\n",
    "           ds, \n",
    "           btvrc = all_day_bing_tiles_visited_relative_change, \n",
    "           rstu = all_day_ratio_single_tile_users) %>%\n",
    "    mutate(key = str_pad(key, 5, pad = '0')) %>%\n",
    "    arrange(key, ds) -> us_mobility"
   ]
  },
  {
   "cell_type": "code",
   "execution_count": 4,
   "metadata": {},
   "outputs": [
    {
     "name": "stderr",
     "output_type": "stream",
     "text": [
      "Parsed with column specification:\n",
      "cols(\n",
      "  `sex,unit,age,geo\\time` = \u001b[31mcol_character()\u001b[39m,\n",
      "  `2019` = \u001b[31mcol_character()\u001b[39m,\n",
      "  `2018` = \u001b[31mcol_character()\u001b[39m,\n",
      "  `2017` = \u001b[31mcol_character()\u001b[39m,\n",
      "  `2016` = \u001b[31mcol_character()\u001b[39m,\n",
      "  `2015` = \u001b[31mcol_character()\u001b[39m,\n",
      "  `2014` = \u001b[31mcol_character()\u001b[39m\n",
      ")\n",
      "\n",
      "Warning message:\n",
      "“NAs introduced by coercion”\n"
     ]
    }
   ],
   "source": [
    "eu_pop <- read_delim('/pool001/mfzhao/geo_data/europe_population.tsv', '\\t', escape_double = FALSE, trim_ws = TRUE)\n",
    "\n",
    "eu_pop %>%\n",
    "    separate('sex,unit,age,geo\\\\time', into = c('sex', 'unit', 'age', 'key'), sep = ',') %>%\n",
    "    filter(sex == 'T', age == 'TOTAL') %>%\n",
    "    select(key, n = `2018`) %>%\n",
    "    mutate(n = str_replace(n, ' p', ''),\n",
    "           n = as.numeric(n)) -> eu_pop"
   ]
  },
  {
   "cell_type": "code",
   "execution_count": 5,
   "metadata": {},
   "outputs": [
    {
     "name": "stderr",
     "output_type": "stream",
     "text": [
      "Parsed with column specification:\n",
      "cols(\n",
      "  .default = col_double(),\n",
      "  SUMLEV = \u001b[31mcol_character()\u001b[39m,\n",
      "  STATE = \u001b[31mcol_character()\u001b[39m,\n",
      "  COUNTY = \u001b[31mcol_character()\u001b[39m,\n",
      "  STNAME = \u001b[31mcol_character()\u001b[39m,\n",
      "  CTYNAME = \u001b[31mcol_character()\u001b[39m\n",
      ")\n",
      "\n",
      "See spec(...) for full column specifications.\n",
      "\n"
     ]
    }
   ],
   "source": [
    "us_pop <- read_csv('/pool001/mfzhao/geo_data/cc-est2018-alldata.csv')\n",
    "\n",
    "us_pop %>%\n",
    "    unite('key', STATE, COUNTY, sep = '') %>%\n",
    "    filter(YEAR == 11, \n",
    "           AGEGRP==0) %>% \n",
    "    group_by(key) %>%\n",
    "    summarize(n = sum(TOT_POP)) -> us_pop"
   ]
  },
  {
   "cell_type": "code",
   "execution_count": 6,
   "metadata": {},
   "outputs": [
    {
     "name": "stderr",
     "output_type": "stream",
     "text": [
      "Joining, by = \"key\"\n",
      "\n",
      "Joining, by = \"key\"\n",
      "\n"
     ]
    }
   ],
   "source": [
    "eu_mobility %>% \n",
    "    inner_join(eu_pop) -> eu_mobility\n",
    "\n",
    "us_mobility %>% \n",
    "    inner_join(us_pop) -> us_mobility"
   ]
  },
  {
   "cell_type": "code",
   "execution_count": 7,
   "metadata": {},
   "outputs": [],
   "source": [
    "write_csv(eu_mobility, '/pool001/mfzhao/PROCESSED_DATA/eu_mobility.csv')\n",
    "write_csv(us_mobility, '/pool001/mfzhao/PROCESSED_DATA/us_mobility.csv')"
   ]
  },
  {
   "cell_type": "code",
   "execution_count": null,
   "metadata": {},
   "outputs": [],
   "source": []
  }
 ],
 "metadata": {
  "kernelspec": {
   "display_name": "R 3.6",
   "language": "R",
   "name": "ir36"
  },
  "language_info": {
   "codemirror_mode": "r",
   "file_extension": ".r",
   "mimetype": "text/x-r-source",
   "name": "R",
   "pygments_lexer": "r",
   "version": "3.6.3"
  }
 },
 "nbformat": 4,
 "nbformat_minor": 2
}
