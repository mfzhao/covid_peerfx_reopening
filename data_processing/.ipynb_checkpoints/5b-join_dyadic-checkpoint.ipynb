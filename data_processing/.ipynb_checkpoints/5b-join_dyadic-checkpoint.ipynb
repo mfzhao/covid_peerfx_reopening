{
 "cells": [
  {
   "cell_type": "code",
   "execution_count": 1,
   "metadata": {},
   "outputs": [
    {
     "name": "stderr",
     "output_type": "stream",
     "text": [
      "\n",
      "Attaching package: ‘dplyr’\n",
      "\n",
      "\n",
      "The following objects are masked from ‘package:stats’:\n",
      "\n",
      "    filter, lag\n",
      "\n",
      "\n",
      "The following objects are masked from ‘package:base’:\n",
      "\n",
      "    intersect, setdiff, setequal, union\n",
      "\n",
      "\n",
      "Linking to GEOS 3.5.2, GDAL 2.4.2, PROJ 4.8.0\n",
      "\n"
     ]
    }
   ],
   "source": [
    "library(readr)\n",
    "library(tidyr)\n",
    "library(stringr)\n",
    "library(dplyr)\n",
    "library(USAboundaries)\n",
    "library(sf)"
   ]
  },
  {
   "cell_type": "code",
   "execution_count": 2,
   "metadata": {},
   "outputs": [
    {
     "name": "stderr",
     "output_type": "stream",
     "text": [
      "Parsed with column specification:\n",
      "cols(\n",
      "  key = \u001b[31mcol_character()\u001b[39m\n",
      ")\n",
      "\n",
      "Parsed with column specification:\n",
      "cols(\n",
      "  key = \u001b[31mcol_character()\u001b[39m,\n",
      "  date = \u001b[34mcol_date(format = \"\")\u001b[39m,\n",
      "  cluster = \u001b[31mcol_character()\u001b[39m,\n",
      "  reopening = \u001b[32mcol_double()\u001b[39m,\n",
      "  sdPolicy = \u001b[32mcol_double()\u001b[39m,\n",
      "  stayHome = \u001b[32mcol_double()\u001b[39m\n",
      ")\n",
      "\n",
      "Parsed with column specification:\n",
      "cols(\n",
      "  key = \u001b[31mcol_character()\u001b[39m,\n",
      "  DATE = \u001b[34mcol_date(format = \"\")\u001b[39m,\n",
      "  PRCP = \u001b[32mcol_double()\u001b[39m,\n",
      "  TMAX = \u001b[32mcol_double()\u001b[39m\n",
      ")\n",
      "\n",
      "Parsed with column specification:\n",
      "cols(\n",
      "  date = \u001b[34mcol_date(format = \"\")\u001b[39m,\n",
      "  origin_county = \u001b[32mcol_double()\u001b[39m,\n",
      "  destination_county = \u001b[32mcol_double()\u001b[39m,\n",
      "  n = \u001b[32mcol_double()\u001b[39m\n",
      ")\n",
      "\n"
     ]
    }
   ],
   "source": [
    "fp      <- '/pool001/mfzhao/'\n",
    "keys    <- read_csv(str_c(fp, 'PROCESSED_DATA/keys.csv'))\n",
    "policy  <- read_csv(str_c(fp, 'PROCESSED_DATA/policy.csv'))\n",
    "weather <- read_csv(str_c(fp, 'PROCESSED_DATA/region_weather_2020.csv'))\n",
    "df      <- read_csv(str_c(fp, 'safegraph/dyadic2020.csv'))"
   ]
  },
  {
   "cell_type": "code",
   "execution_count": 3,
   "metadata": {},
   "outputs": [
    {
     "name": "stderr",
     "output_type": "stream",
     "text": [
      "Joining, by = \"L3\"\n",
      "\n"
     ]
    }
   ],
   "source": [
    "county_sf <- us_counties()\n",
    "\n",
    "as.data.frame(county_sf) %>%\n",
    "    select(-geometry) %>%\n",
    "    mutate(L3 = row_number(),\n",
    "           key = str_c(statefp, countyfp)) %>%\n",
    "    left_join(as.data.frame(st_coordinates(county_sf))) %>%\n",
    "    select(key, X, Y) -> coords\n",
    "\n",
    "coords %>%\n",
    "    inner_join(coords, by = c('X', 'Y')) %>%\n",
    "    filter(key.x != key.y) %>%\n",
    "    select(origin_county = key.x,\n",
    "           destination_county = key.y) %>%\n",
    "    mutate(bordering = 1) %>%\n",
    "    arrange(origin_county, destination_county) -> bordering"
   ]
  },
  {
   "cell_type": "code",
   "execution_count": 4,
   "metadata": {},
   "outputs": [
    {
     "name": "stderr",
     "output_type": "stream",
     "text": [
      "Joining, by = c(\"origin_county\", \"destination_county\")\n",
      "\n",
      "Joining, by = \"key\"\n",
      "\n"
     ]
    }
   ],
   "source": [
    "df %>%\n",
    "    filter(date >= as.Date('2020-03-01'), date < as.Date('2020-07-01')) %>%\n",
    "    mutate(origin_county      = str_pad(origin_county, 5, pad = '0'),\n",
    "           destination_county = str_pad(destination_county, 5, pad = '0')) %>%\n",
    "    inner_join(keys, by = c('origin_county' = 'key')) %>%\n",
    "    inner_join(keys, by = c('destination_county' = 'key')) %>%\n",
    "    left_join(bordering) %>%\n",
    "    mutate(bordering = replace_na(bordering, 0)) -> df\n",
    "\n",
    "weather %>%\n",
    "    rename(date = DATE) %>%\n",
    "    filter(date >= as.Date('2020-03-01'), date < as.Date('2020-07-01')) %>%\n",
    "    inner_join(keys) -> weather\n",
    "\n",
    "df %>%\n",
    "    group_by(origin_county, destination_county) %>%\n",
    "    summarize(n = sum(n), days = n()) -> dyad_stats"
   ]
  },
  {
   "cell_type": "code",
   "execution_count": 5,
   "metadata": {},
   "outputs": [
    {
     "data": {
      "text/html": [
       "<table>\n",
       "<caption>A tibble: 6 × 3</caption>\n",
       "<thead>\n",
       "\t<tr><th scope=col>days</th><th scope=col>n</th><th scope=col>ecdf</th></tr>\n",
       "\t<tr><th scope=col>&lt;int&gt;</th><th scope=col>&lt;dbl&gt;</th><th scope=col>&lt;dbl&gt;</th></tr>\n",
       "</thead>\n",
       "<tbody>\n",
       "\t<tr><td>122</td><td>3769828171</td><td>0.5504554</td></tr>\n",
       "\t<tr><td>610</td><td> 379611045</td><td>0.6058847</td></tr>\n",
       "\t<tr><td>488</td><td> 379228196</td><td>0.6612581</td></tr>\n",
       "\t<tr><td>366</td><td> 324377223</td><td>0.7086224</td></tr>\n",
       "\t<tr><td>732</td><td> 311580576</td><td>0.7541181</td></tr>\n",
       "\t<tr><td>854</td><td> 283291358</td><td>0.7954832</td></tr>\n",
       "</tbody>\n",
       "</table>\n"
      ],
      "text/latex": [
       "A tibble: 6 × 3\n",
       "\\begin{tabular}{lll}\n",
       " days & n & ecdf\\\\\n",
       " <int> & <dbl> & <dbl>\\\\\n",
       "\\hline\n",
       "\t 122 & 3769828171 & 0.5504554\\\\\n",
       "\t 610 &  379611045 & 0.6058847\\\\\n",
       "\t 488 &  379228196 & 0.6612581\\\\\n",
       "\t 366 &  324377223 & 0.7086224\\\\\n",
       "\t 732 &  311580576 & 0.7541181\\\\\n",
       "\t 854 &  283291358 & 0.7954832\\\\\n",
       "\\end{tabular}\n"
      ],
      "text/markdown": [
       "\n",
       "A tibble: 6 × 3\n",
       "\n",
       "| days &lt;int&gt; | n &lt;dbl&gt; | ecdf &lt;dbl&gt; |\n",
       "|---|---|---|\n",
       "| 122 | 3769828171 | 0.5504554 |\n",
       "| 610 |  379611045 | 0.6058847 |\n",
       "| 488 |  379228196 | 0.6612581 |\n",
       "| 366 |  324377223 | 0.7086224 |\n",
       "| 732 |  311580576 | 0.7541181 |\n",
       "| 854 |  283291358 | 0.7954832 |\n",
       "\n"
      ],
      "text/plain": [
       "  days n          ecdf     \n",
       "1 122  3769828171 0.5504554\n",
       "2 610   379611045 0.6058847\n",
       "3 488   379228196 0.6612581\n",
       "4 366   324377223 0.7086224\n",
       "5 732   311580576 0.7541181\n",
       "6 854   283291358 0.7954832"
      ]
     },
     "metadata": {},
     "output_type": "display_data"
    }
   ],
   "source": [
    "dyad_stats %>%\n",
    "    group_by(days) %>%\n",
    "    summarize(n = sum(n)) %>%\n",
    "    arrange(desc(n)) %>%\n",
    "    mutate(ecdf = cumsum(n)/sum(n)) %>%\n",
    "    head()"
   ]
  },
  {
   "cell_type": "code",
   "execution_count": 6,
   "metadata": {},
   "outputs": [
    {
     "data": {
      "text/html": [
       "<table>\n",
       "<caption>A tibble: 6 × 3</caption>\n",
       "<thead>\n",
       "\t<tr><th scope=col>days</th><th scope=col>n</th><th scope=col>ecdf</th></tr>\n",
       "\t<tr><th scope=col>&lt;int&gt;</th><th scope=col>&lt;dbl&gt;</th><th scope=col>&lt;dbl&gt;</th></tr>\n",
       "</thead>\n",
       "<tbody>\n",
       "\t<tr><td>610</td><td>379611045</td><td>0.1152388</td></tr>\n",
       "\t<tr><td>488</td><td>379228196</td><td>0.2303613</td></tr>\n",
       "\t<tr><td>366</td><td>324377223</td><td>0.3288327</td></tr>\n",
       "\t<tr><td>732</td><td>311580576</td><td>0.4234195</td></tr>\n",
       "\t<tr><td>854</td><td>283291358</td><td>0.5094184</td></tr>\n",
       "\t<tr><td>122</td><td>215391521</td><td>0.5748049</td></tr>\n",
       "</tbody>\n",
       "</table>\n"
      ],
      "text/latex": [
       "A tibble: 6 × 3\n",
       "\\begin{tabular}{lll}\n",
       " days & n & ecdf\\\\\n",
       " <int> & <dbl> & <dbl>\\\\\n",
       "\\hline\n",
       "\t 610 & 379611045 & 0.1152388\\\\\n",
       "\t 488 & 379228196 & 0.2303613\\\\\n",
       "\t 366 & 324377223 & 0.3288327\\\\\n",
       "\t 732 & 311580576 & 0.4234195\\\\\n",
       "\t 854 & 283291358 & 0.5094184\\\\\n",
       "\t 122 & 215391521 & 0.5748049\\\\\n",
       "\\end{tabular}\n"
      ],
      "text/markdown": [
       "\n",
       "A tibble: 6 × 3\n",
       "\n",
       "| days &lt;int&gt; | n &lt;dbl&gt; | ecdf &lt;dbl&gt; |\n",
       "|---|---|---|\n",
       "| 610 | 379611045 | 0.1152388 |\n",
       "| 488 | 379228196 | 0.2303613 |\n",
       "| 366 | 324377223 | 0.3288327 |\n",
       "| 732 | 311580576 | 0.4234195 |\n",
       "| 854 | 283291358 | 0.5094184 |\n",
       "| 122 | 215391521 | 0.5748049 |\n",
       "\n"
      ],
      "text/plain": [
       "  days n         ecdf     \n",
       "1 610  379611045 0.1152388\n",
       "2 488  379228196 0.2303613\n",
       "3 366  324377223 0.3288327\n",
       "4 732  311580576 0.4234195\n",
       "5 854  283291358 0.5094184\n",
       "6 122  215391521 0.5748049"
      ]
     },
     "metadata": {},
     "output_type": "display_data"
    }
   ],
   "source": [
    "dyad_stats %>%\n",
    "    filter(origin_county != destination_county) %>%\n",
    "    group_by(days) %>%\n",
    "    summarize(n = sum(n)) %>%\n",
    "    arrange(desc(n)) %>%\n",
    "    mutate(ecdf = cumsum(n)/sum(n)) %>%\n",
    "    head()"
   ]
  },
  {
   "cell_type": "code",
   "execution_count": 8,
   "metadata": {},
   "outputs": [],
   "source": [
    "df %>%\n",
    "    filter(origin_county != destination_county) %>%\n",
    "    group_by(date, key = destination_county) %>%\n",
    "    summarize(nocd = sum(n), nocdb = sum(n * bordering)) -> nocd\n",
    "\n",
    "\n",
    "write_csv(nocd, str_c(fp, 'PROCESSED_DATA/n_outside_county_devices.csv'))"
   ]
  },
  {
   "cell_type": "code",
   "execution_count": 11,
   "metadata": {},
   "outputs": [
    {
     "name": "stderr",
     "output_type": "stream",
     "text": [
      "Joining, by = c(\"origin_county\", \"destination_county\")\n",
      "\n",
      "Joining, by = c(\"date\", \"origin_county\")\n",
      "\n",
      "Joining, by = c(\"date\", \"destination_county\")\n",
      "\n"
     ]
    }
   ],
   "source": [
    "df %>%\n",
    "    inner_join(dyad_stats %>% filter(days == max(days)) %>% select(origin_county, destination_county)) %>%\n",
    "    inner_join(policy %>% \n",
    "               select(date,\n",
    "                      origin_county = key,\n",
    "                      o.reopening   = reopening,\n",
    "                      o.sdPolicy    = sdPolicy,\n",
    "                      o.stayHome    = stayHome)) %>%\n",
    "    inner_join(policy %>% \n",
    "               select(date,\n",
    "                      destination_county = key,\n",
    "                      d.reopening        = reopening,\n",
    "                      d.sdPolicy         = sdPolicy,\n",
    "                      d.stayHome         = stayHome)) %>% \n",
    "    filter(origin_county != destination_county) -> df"
   ]
  },
  {
   "cell_type": "code",
   "execution_count": 13,
   "metadata": {},
   "outputs": [
    {
     "name": "stderr",
     "output_type": "stream",
     "text": [
      "Joining, by = c(\"origin_county\", \"destination_county\", \"bordering\")\n",
      "\n",
      "Joining, by = c(\"date\", \"origin_county\")\n",
      "\n",
      "Joining, by = c(\"date\", \"destination_county\")\n",
      "\n"
     ]
    }
   ],
   "source": [
    "df %>%\n",
    "    left_join(bordering) %>%\n",
    "    mutate(bordering = replace_na(bordering, 0)) %>%\n",
    "    mutate(D_o = ifelse(o.sdPolicy == 1, 'o.sdp',\n",
    "                        ifelse(o.stayHome == 1, 'o.shp', \n",
    "                               ifelse(o.reopening == 1, 'o.rop', 'o.npp'))),\n",
    "           D_d = ifelse(d.sdPolicy == 1, 'd.sdp',\n",
    "                        ifelse(d.stayHome == 1, 'd.shp', \n",
    "                               ifelse(d.reopening == 1, 'd.rop', 'd.npp'))),\n",
    "           dyad = str_c(origin_county, '->', destination_county),\n",
    "           origin_cluster = str_sub(origin_county, 1, 2), \n",
    "           destination_cluster = str_sub(destination_county, 1, 2)) %>%\n",
    "    select(-matches('reopening'),\n",
    "           -matches('sdPolicy'),\n",
    "           -matches('stayHome')) %>%\n",
    "    left_join(weather %>%\n",
    "              rename(origin_county = key,\n",
    "                     o.PRCP = PRCP,\n",
    "                     o.TMAX = TMAX)) %>%\n",
    "    left_join(weather %>%\n",
    "              rename(destination_county = key,\n",
    "                     d.PRCP = PRCP,\n",
    "                     d.TMAX = TMAX)) -> df"
   ]
  },
  {
   "cell_type": "code",
   "execution_count": null,
   "metadata": {},
   "outputs": [],
   "source": [
    "write_csv(df, str_c(fp, 'PROCESSED_DATA/dyadic_mvmt_2020.csv'))"
   ]
  },
  {
   "cell_type": "code",
   "execution_count": null,
   "metadata": {},
   "outputs": [],
   "source": []
  }
 ],
 "metadata": {
  "kernelspec": {
   "display_name": "R 3.6",
   "language": "R",
   "name": "ir36"
  },
  "language_info": {
   "codemirror_mode": "r",
   "file_extension": ".r",
   "mimetype": "text/x-r-source",
   "name": "R",
   "pygments_lexer": "r",
   "version": "3.6.3"
  }
 },
 "nbformat": 4,
 "nbformat_minor": 4
}
