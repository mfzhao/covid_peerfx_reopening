{
 "cells": [
  {
   "cell_type": "code",
   "execution_count": 1,
   "metadata": {},
   "outputs": [],
   "source": [
    "import pandas as pd\n",
    "import glob\n",
    "import simplejson as json\n",
    "import multiprocessing as mp"
   ]
  },
  {
   "cell_type": "code",
   "execution_count": 2,
   "metadata": {},
   "outputs": [],
   "source": [
    "def parse_dcbgs(row):\n",
    "    temp = pd.DataFrame.from_dict(json.loads(row['destination_cbgs']), orient = 'index')\n",
    "    temp.reset_index(inplace = True)\n",
    "    temp.columns = ['destination_cbg', 'n']\n",
    "    temp['origin_cbg'] = row['origin_census_block_group']\n",
    "    temp['date'] = row['date']\n",
    "    return(temp[['date', 'origin_cbg', 'destination_cbg', 'n']])"
   ]
  },
  {
   "cell_type": "code",
   "execution_count": 5,
   "metadata": {},
   "outputs": [],
   "source": [
    "def mapper(fname):\n",
    "    df = pd.read_csv(fname, dtype = {'origin_census_block_group': object})\n",
    "    df['origin_county'] = df.origin_census_block_group.str.slice(0,5)\n",
    "    df['date'] = df.date_range_start.str.slice(0,10)\n",
    "    date = df.iloc[0].date\n",
    "    \n",
    "    dyads = pd.concat([parse_dcbgs(row) for _, row in df.iterrows()])\n",
    "    dyads['origin_county'] = dyads.origin_cbg.str.slice(0, 5)\n",
    "    dyads['destination_county'] = dyads.destination_cbg.str.slice(0, 5)\n",
    "    ncbgv = dyads.groupby(['date', 'origin_county']).sum()\n",
    "    ncbgv.columns = ['ncbgv']\n",
    "\n",
    "    dyads = dyads.groupby(['date', 'origin_county', 'destination_county']).sum().reset_index()\n",
    "    dyads.to_csv('/pool001/mfzhao/safegraph/dyadic2019/' + date + '.csv', index = False)\n",
    "    \n",
    "    btafh = pd.DataFrame.from_records(df.bucketed_away_from_home_time.map(lambda x: json.loads(x))).fillna(0)\n",
    "    df['nlt1hafh'] = btafh[['<20', '21-45', '46-60']].sum(axis = 1)\n",
    "    bdt = pd.DataFrame.from_records(df.bucketed_distance_traveled.map(lambda x: json.loads(x))).fillna(0)\n",
    "    df['nlt2kmt'] = bdt[['0', '1-1000', '1001-2000']].sum(axis = 1)\n",
    "    \n",
    "    bpth = pd.DataFrame.from_records(df.bucketed_percentage_time_home.map(lambda x: json.loads(x))).fillna(0)\n",
    "    df['npthgt75'] = bpth[['76-100']]\n",
    "    df['total_home_dwell_time'] = df.device_count * df.mean_home_dwell_time\n",
    "    df['total_non_home_dwell_time'] = df.device_count * df.mean_non_home_dwell_time\n",
    "    df['total_distance_traveled_from_home'] = df.device_count * df.mean_distance_traveled_from_home\n",
    "        \n",
    "    df = df[['date', 'origin_county', 'device_count', 'completely_home_device_count', 'nlt1hafh', 'npthgt75', \n",
    "             'nlt2kmt', 'total_home_dwell_time', 'total_non_home_dwell_time', 'total_distance_traveled_from_home']]\n",
    "    df = df.groupby(['date', 'origin_county']).sum()        \n",
    "    df = pd.merge(df, ncbgv, left_index = True, right_index = True)\n",
    "        \n",
    "    df['mcbgv'] = df.ncbgv/df.device_count\n",
    "    df['pchd'] = df.completely_home_device_count/df.device_count\n",
    "    df['plt1hafh'] = df.nlt1hafh/df.device_count\n",
    "    df['ppthgt75'] = df.npthgt75/df.device_count\n",
    "    df['plt2kmt'] = df.nlt2kmt/df.device_count\n",
    "    df['mhdt'] = df.total_home_dwell_time/df.device_count\n",
    "    df['mnhdt'] = df.total_non_home_dwell_time/df.device_count\n",
    "    df['mdtfh'] = df.total_distance_traveled_from_home/df.device_count\n",
    "        \n",
    "    df.reset_index(inplace = True)\n",
    "    return(df[['date', 'origin_county', 'device_count', 'pchd', 'mcbgv', 'plt1hafh', 'ppthgt75', 'plt2kmt',\n",
    "                'mhdt', 'mnhdt', 'mdtfh',]])"
   ]
  },
  {
   "cell_type": "code",
   "execution_count": null,
   "metadata": {},
   "outputs": [],
   "source": [
    "flist = glob.glob('/nfs/sloanlab001/data/SafeGraph/social-distancing/v2/2019/0[1234567]/*/*')\n",
    "flist.sort()\n",
    "pool = mp.Pool(processes = 24)\n",
    "df = pd.concat(pool.map(mapper, flist))\n",
    "df.to_csv('/pool001/mfzhao/safegraph/us_mobility_2019.csv')"
   ]
  },
  {
   "cell_type": "code",
   "execution_count": null,
   "metadata": {},
   "outputs": [],
   "source": [
    "flist = glob.glob('/pool001/mfzhao/safegraph/dyadic2019/*')\n",
    "flist.sort()\n",
    "dyads = pd.concat([pd.read_csv(f) for f in flist])\n",
    "dyads.to_csv('/pool001/mfzhao/safegraph/dyadic2020.csv', index = False)"
   ]
  },
  {
   "cell_type": "code",
   "execution_count": null,
   "metadata": {},
   "outputs": [],
   "source": []
  }
 ],
 "metadata": {
  "kernelspec": {
   "display_name": "Python 3",
   "language": "python",
   "name": "python3"
  },
  "language_info": {
   "codemirror_mode": {
    "name": "ipython",
    "version": 3
   },
   "file_extension": ".py",
   "mimetype": "text/x-python",
   "name": "python",
   "nbconvert_exporter": "python",
   "pygments_lexer": "ipython3",
   "version": "3.6.3"
  }
 },
 "nbformat": 4,
 "nbformat_minor": 4
}
