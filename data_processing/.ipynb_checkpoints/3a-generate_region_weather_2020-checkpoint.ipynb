{
 "cells": [
  {
   "cell_type": "code",
   "execution_count": 1,
   "metadata": {},
   "outputs": [
    {
     "name": "stderr",
     "output_type": "stream",
     "text": [
      "\n",
      "Attaching package: ‘dplyr’\n",
      "\n",
      "\n",
      "The following objects are masked from ‘package:stats’:\n",
      "\n",
      "    filter, lag\n",
      "\n",
      "\n",
      "The following objects are masked from ‘package:base’:\n",
      "\n",
      "    intersect, setdiff, setequal, union\n",
      "\n",
      "\n",
      "Linking to GEOS 3.5.2, GDAL 2.4.2, PROJ 4.8.0\n",
      "\n",
      "Loading required package: foreach\n",
      "\n",
      "Loading required package: iterators\n",
      "\n",
      "Loading required package: parallel\n",
      "\n"
     ]
    }
   ],
   "source": [
    "library(readr)\n",
    "library(dplyr)\n",
    "library(tidyr)\n",
    "library(stringr)\n",
    "library(ggplot2)\n",
    "library(sf)\n",
    "library(sp)\n",
    "library(geosphere)\n",
    "library(doMC)\n",
    "library(USAboundaries)\n",
    "registerDoMC(cores = 28)"
   ]
  },
  {
   "cell_type": "code",
   "execution_count": 2,
   "metadata": {},
   "outputs": [
    {
     "name": "stderr",
     "output_type": "stream",
     "text": [
      "Parsed with column specification:\n",
      "cols(\n",
      "  STAID = \u001b[31mcol_character()\u001b[39m,\n",
      "  STANAME = \u001b[31mcol_character()\u001b[39m,\n",
      "  CN = \u001b[31mcol_character()\u001b[39m,\n",
      "  lat = \u001b[32mcol_double()\u001b[39m,\n",
      "  lng = \u001b[32mcol_double()\u001b[39m\n",
      ")\n",
      "\n",
      "Parsed with column specification:\n",
      "cols(\n",
      "  ds = \u001b[34mcol_date(format = \"\")\u001b[39m,\n",
      "  btvrc = \u001b[32mcol_double()\u001b[39m,\n",
      "  rstu = \u001b[32mcol_double()\u001b[39m,\n",
      "  key = \u001b[31mcol_character()\u001b[39m,\n",
      "  n = \u001b[32mcol_double()\u001b[39m\n",
      ")\n",
      "\n",
      "Parsed with column specification:\n",
      "cols(\n",
      "  ds = \u001b[34mcol_date(format = \"\")\u001b[39m,\n",
      "  btvrc = \u001b[32mcol_double()\u001b[39m,\n",
      "  rstu = \u001b[32mcol_double()\u001b[39m,\n",
      "  key = \u001b[31mcol_character()\u001b[39m,\n",
      "  n = \u001b[32mcol_double()\u001b[39m\n",
      ")\n",
      "\n"
     ]
    }
   ],
   "source": [
    "### Reading in Data\n",
    "fp <- '/pool001/mfzhao/PROCESSED_DATA/'\n",
    "stations <- read_csv(str_c(fp, 'stations.csv'))\n",
    "weather  <- read_csv(str_c(fp, 'weather.csv'), \n",
    "                     col_types = cols(\n",
    "                         STAID = col_character(),\n",
    "                         DATE = col_date(format = \"\"),\n",
    "                         PRCP = col_double(),\n",
    "                         TMAX = col_double()\n",
    "                     ))\n",
    "    \n",
    "us_mobility <- read_csv(str_c(fp, 'us_mobility.csv'))\n",
    "eu_mobility <- read_csv(str_c(fp, 'eu_mobility.csv'))"
   ]
  },
  {
   "cell_type": "code",
   "execution_count": 3,
   "metadata": {},
   "outputs": [
    {
     "name": "stderr",
     "output_type": "stream",
     "text": [
      "Joining, by = \"STAID\"\n",
      "\n"
     ]
    }
   ],
   "source": [
    "weather %>%\n",
    "    filter(DATE < as.Date('2020-06-01'), DATE >= as.Date('2020-03-01')) -> weather\n",
    "\n",
    "stations %>% \n",
    "    inner_join(weather %>% select(STAID) %>% distinct()) -> stations"
   ]
  },
  {
   "cell_type": "code",
   "execution_count": 4,
   "metadata": {},
   "outputs": [
    {
     "name": "stderr",
     "output_type": "stream",
     "text": [
      "Joining, by = \"key\"\n",
      "\n",
      "Joining, by = \"CNTR_CODE\"\n",
      "\n"
     ]
    }
   ],
   "source": [
    "eu_shapefiles <- read_rds('/pool001/mfzhao/geo_data/europe_LRmap.RDS')\n",
    "us_shapefiles <- us_counties(resolution = 'high') %>%\n",
    "    unite('key', statefp, countyfp, sep = '') %>%\n",
    "    mutate(country = 'USA') %>%\n",
    "    select(country, key, name, geometry)\n",
    "\n",
    "as.data.frame(eu_shapefiles) %>%\n",
    "    select(key = id, CNTR_CODE) %>%\n",
    "    inner_join(eu_mobility) %>%\n",
    "    select(CNTR_CODE) %>%\n",
    "    distinct() %>%\n",
    "    left_join(eu_shapefiles) %>%\n",
    "    select(key = id, name = NUTS_NAME, CN = CNTR_CODE, geometry) %>%\n",
    "    rbind(as.data.frame(us_shapefiles) %>%\n",
    "          mutate(CN = 'US') %>%\n",
    "          select(key, name, CN, geometry)) -> shapefiles_df"
   ]
  },
  {
   "cell_type": "code",
   "execution_count": 5,
   "metadata": {},
   "outputs": [],
   "source": [
    "shapefiles <- st_as_sf(shapefiles_df)\n",
    "stations_sf <- st_as_sf(stations, coords = c(\"lng\", \"lat\"), crs = st_crs(shapefiles))\n",
    "stations_in_region <- st_intersects(shapefiles, stations_sf)\n",
    "names(stations_in_region) <- shapefiles_df$key"
   ]
  },
  {
   "cell_type": "code",
   "execution_count": 6,
   "metadata": {},
   "outputs": [],
   "source": [
    "mapper <- function(row) {\n",
    "  key <-  row$key\n",
    "  return(stations[stations_in_region[[key]], ])\n",
    "}\n",
    "\n",
    "# Generating dataframe that maps stations to counties\n",
    "shapefiles_df %>% \n",
    "    select(key) %>%\n",
    "    group_by(key) %>%\n",
    "    do(mapper(.)) -> keys_stations"
   ]
  },
  {
   "cell_type": "code",
   "execution_count": 7,
   "metadata": {},
   "outputs": [
    {
     "name": "stderr",
     "output_type": "stream",
     "text": [
      "Warning message in st_centroid.sf(shapefiles):\n",
      "“st_centroid assumes attributes are constant over geometries of x”\n"
     ]
    }
   ],
   "source": [
    "# Getting county centroids\n",
    "st_centroid(shapefiles) -> temp\n",
    "\n",
    "as.data.frame(shapefiles) %>%\n",
    "    ungroup() %>%\n",
    "    mutate(geometry = str_replace(st_as_text(temp$geometry), 'POINT \\\\(', ''),\n",
    "           geometry = str_sub(geometry, 1, -2)) %>%\n",
    "    separate(geometry, sep = ' ', into = c('lng', 'lat')) %>%\n",
    "    mutate(lng = as.numeric(lng),\n",
    "           lat  = as.numeric(lat)) -> centroids"
   ]
  },
  {
   "cell_type": "code",
   "execution_count": 8,
   "metadata": {},
   "outputs": [
    {
     "name": "stderr",
     "output_type": "stream",
     "text": [
      "Joining, by = \"key\"\n",
      "\n",
      "Joining, by = \"key\"\n",
      "\n"
     ]
    }
   ],
   "source": [
    "shapefiles_df %>% \n",
    "    select(key) %>%\n",
    "    anti_join(keys_stations %>% select(key) %>% distinct()) %>%\n",
    "    left_join(centroids) -> missing"
   ]
  },
  {
   "cell_type": "code",
   "execution_count": 9,
   "metadata": {},
   "outputs": [
    {
     "name": "stderr",
     "output_type": "stream",
     "text": [
      "Joining, by = \"STAID\"\n",
      "\n"
     ]
    }
   ],
   "source": [
    "# Generating distances from country Centroids to each weather station for each county in missing\n",
    "geoDist  <- distm(matrix(c(missing$lng, missing$lat), ncol=2), \n",
    "                  matrix(c(stations$lng, stations$lat), ncol=2))/1000\n",
    "colnames(geoDist) <- stations$STAID\n",
    "\n",
    "# Transform Distance matrix to \"long\" dataframe\n",
    "as.data.frame(geoDist) %>%\n",
    "  mutate(key = missing$key) %>%\n",
    "  gather(key = 'STAID', 'dist', -key) -> geoDist\n",
    "\n",
    "\n",
    "# For each region, get closest 3 weather stations\n",
    "geoDist %>%\n",
    "  group_by(key) %>%\n",
    "  arrange(key, dist) %>%\n",
    "  filter(row_number() < 4) %>%\n",
    "  left_join(stations) %>%\n",
    "  select(-dist) -> temp\n",
    "\n",
    "# Adding these to the list of countyStations, and removing duplicates\n",
    "keys_stations %>%\n",
    "  bind_rows(temp) %>%\n",
    "  select(-lng, -lat) %>%\n",
    "  distinct() -> keys_stations\n",
    "\n",
    "# Freeing up memory\n",
    "rm(temp)"
   ]
  },
  {
   "cell_type": "code",
   "execution_count": 10,
   "metadata": {},
   "outputs": [],
   "source": [
    "# Helper function to compute average PRCP and TMAX per county, removing missing values\n",
    "mapper2 <- function(keyname) {\n",
    "  keys_stations %>%\n",
    "    filter(key == keyname) %>%\n",
    "    left_join(weather) %>%\n",
    "    group_by(key, DATE) %>%\n",
    "    summarize(PRCP = mean(PRCP, na.rm = T),\n",
    "              TMAX = mean(TMAX, na.rm = T)) -> out\n",
    "  return(out)\n",
    "}\n",
    "\n",
    "out <- foreach(keyname = shapefiles_df$key, .combine = rbind) %dopar% mapper2(keyname)"
   ]
  },
  {
   "cell_type": "code",
   "execution_count": 11,
   "metadata": {},
   "outputs": [
    {
     "name": "stderr",
     "output_type": "stream",
     "text": [
      "Joining, by = c(\"key\", \"DATE\")\n",
      "\n",
      "Joining, by = \"key\"\n",
      "\n",
      "Joining, by = \"key\"\n",
      "\n"
     ]
    }
   ],
   "source": [
    "# Spread/Gather to determine which county-dates are missing TMAX\n",
    "out %>%\n",
    "    group_by(key) %>%\n",
    "    select(-PRCP) %>%\n",
    "    spread(key = DATE, value = TMAX) %>%\n",
    "    gather(key = 'DATE', value = 'TMAX', -key) -> TMAX\n",
    "\n",
    "# Spread/Gather to determine which county-dates are missing PRCP\n",
    "out %>%\n",
    "    group_by(key) %>%\n",
    "    select(-TMAX) %>%\n",
    "    spread(key = DATE, value = PRCP) %>%\n",
    "    gather(key = 'DATE', value = 'PRCP', -key) -> PRCP\n",
    "  \n",
    "PRCP %>%\n",
    "    full_join(TMAX) -> out\n",
    "\n",
    "TMAX %>%\n",
    "    filter(is.na(TMAX)) %>%\n",
    "    select(key, DATE) %>%\n",
    "    left_join(centroids) %>%\n",
    "    mutate(DATE = as.Date(DATE)) -> missTMAX\n",
    "\n",
    "PRCP %>%\n",
    "    filter(is.na(PRCP)) %>%\n",
    "    select(key, DATE) %>%\n",
    "    left_join(centroids) %>%\n",
    "    mutate(DATE = as.Date(DATE)) -> missPRCP\n",
    "\n",
    "rm(TMAX, PRCP)"
   ]
  },
  {
   "cell_type": "code",
   "execution_count": 12,
   "metadata": {},
   "outputs": [],
   "source": [
    "# Getting set counties with missing TMAX\n",
    "missTMAX %>%\n",
    "    select(key, lng, lat) %>%\n",
    "    distinct() -> mtc\n",
    "\n",
    "# Getting set counties with missing PRCP\n",
    "missPRCP %>%\n",
    "    select(key, lng, lat) %>%\n",
    "    distinct() -> mpc\n",
    "\n",
    "# Combining them and removing duplicates\n",
    "mtc %>%\n",
    "    bind_rows(mpc) %>%\n",
    "    distinct() -> missing\n",
    "\n",
    "rm(mtc, mpc)\n",
    "\n",
    "# Computing Distance from centroids to weather stations\n",
    "geoDist <- distm(matrix(c(missing$lng, missing$lat), ncol=2), \n",
    "                  matrix(c(stations$lng, stations$lat), ncol=2))/1000\n",
    "colnames(geoDist) <- stations$STAID\n",
    "\n",
    "# Turning matrix to dataframe, filtering out stations too far away\n",
    "as.data.frame(geoDist) %>%\n",
    "    mutate(key = missing$key) %>%\n",
    "    gather(key = 'STAID', 'dist', -key) %>%\n",
    "    group_by(key) %>%\n",
    "    arrange(dist)  %>%\n",
    "    filter(dist <= 500) -> geoDist"
   ]
  },
  {
   "cell_type": "code",
   "execution_count": 13,
   "metadata": {},
   "outputs": [],
   "source": [
    "# Getting just TMAX\n",
    "weather %>%\n",
    "    select(-PRCP) %>%\n",
    "    filter(!is.na(TMAX)) -> TMAX\n",
    "\n",
    "# Helper function to fill in missing TMAX\n",
    "# Averages the 4 (or less) closest measurements within 500km\n",
    "fillTMAX <- function(keyname) {\n",
    "    missTMAX %>%\n",
    "        filter(key == keyname) %>%\n",
    "        left_join(geoDist) %>%\n",
    "        inner_join(TMAX) %>% \n",
    "        group_by(key, DATE) %>%\n",
    "        arrange(dist) %>%\n",
    "        filter(row_number() <= 4) %>%\n",
    "        summarize(rTMAX = mean(TMAX)) -> out\n",
    "    return(out)\n",
    "}\n",
    "\n",
    "missTMAX %>%\n",
    "    select(key) %>%\n",
    "    distinct() -> missTMAX_keys\n",
    "\n",
    "rTMAX <- foreach(keyname = missTMAX_keys$key, .combine = 'rbind') %dopar% fillTMAX(keyname)"
   ]
  },
  {
   "cell_type": "code",
   "execution_count": 14,
   "metadata": {},
   "outputs": [],
   "source": [
    "weather %>%\n",
    "  select(-TMAX) %>%\n",
    "  filter(!is.na(PRCP)) -> PRCP\n",
    "\n",
    "fillPRCP <- function(keyname) {\n",
    "    missPRCP %>%\n",
    "        filter(key == keyname) %>%\n",
    "        left_join(geoDist) %>%\n",
    "        inner_join(PRCP) %>% \n",
    "        group_by(key, DATE) %>%\n",
    "        arrange(dist) %>%\n",
    "        filter(row_number() <= 4) %>%\n",
    "        summarize(rPRCP = mean(PRCP)) -> out\n",
    "    return(out)\n",
    "}\n",
    "\n",
    "missPRCP %>%\n",
    "    select(key) %>%\n",
    "    distinct() -> missPRCP_keys\n",
    "\n",
    "rPRCP <- foreach(keyname = missPRCP_keys$key, .combine = 'rbind') %dopar% fillPRCP(keyname)"
   ]
  },
  {
   "cell_type": "code",
   "execution_count": 17,
   "metadata": {},
   "outputs": [
    {
     "name": "stderr",
     "output_type": "stream",
     "text": [
      "Joining, by = c(\"key\", \"DATE\")\n",
      "\n",
      "Joining, by = c(\"key\", \"DATE\")\n",
      "\n"
     ]
    }
   ],
   "source": [
    "out %>%\n",
    "    mutate(DATE = as.Date(DATE)) %>%\n",
    "    left_join(rTMAX) %>%\n",
    "    left_join(rPRCP) %>%\n",
    "    mutate(TMAX = ifelse(is.na(TMAX), rTMAX, TMAX),\n",
    "           PRCP = ifelse(is.na(PRCP), rPRCP, PRCP)) %>%\n",
    "    select(key, DATE, PRCP, TMAX) -> out"
   ]
  },
  {
   "cell_type": "code",
   "execution_count": 34,
   "metadata": {},
   "outputs": [],
   "source": [
    "write_csv(out, str_c(fp, 'region_weather_2020.csv'))"
   ]
  }
 ],
 "metadata": {
  "kernelspec": {
   "display_name": "R 3.6",
   "language": "R",
   "name": "ir36"
  },
  "language_info": {
   "codemirror_mode": "r",
   "file_extension": ".r",
   "mimetype": "text/x-r-source",
   "name": "R",
   "pygments_lexer": "r",
   "version": "3.6.3"
  }
 },
 "nbformat": 4,
 "nbformat_minor": 2
}
