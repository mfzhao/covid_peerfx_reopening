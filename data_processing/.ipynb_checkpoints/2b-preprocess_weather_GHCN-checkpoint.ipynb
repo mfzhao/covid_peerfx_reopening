{
 "cells": [
  {
   "cell_type": "code",
   "execution_count": 1,
   "metadata": {},
   "outputs": [
    {
     "name": "stderr",
     "output_type": "stream",
     "text": [
      "\n",
      "Attaching package: ‘dplyr’\n",
      "\n",
      "\n",
      "The following objects are masked from ‘package:stats’:\n",
      "\n",
      "    filter, lag\n",
      "\n",
      "\n",
      "The following objects are masked from ‘package:base’:\n",
      "\n",
      "    intersect, setdiff, setequal, union\n",
      "\n",
      "\n",
      "Linking to GEOS 3.5.2, GDAL 2.4.2, PROJ 4.8.0\n",
      "\n",
      "Loading required package: foreach\n",
      "\n",
      "Loading required package: iterators\n",
      "\n",
      "Loading required package: parallel\n",
      "\n"
     ]
    }
   ],
   "source": [
    "library(readr)\n",
    "library(dplyr)\n",
    "library(tidyr)"
   ]
  },
  {
   "cell_type": "code",
   "execution_count": 2,
   "metadata": {},
   "outputs": [],
   "source": [
    "### Reading in Data\n",
    "fp <- '/pool001/mfzhao/'\n",
    "weather <- foreach(year = 2010:2020, .combine = 'bind_rows') %dopar% \n",
    "    read_csv(str_c(fp, 'GHCN/', year, '.csv'), \n",
    "             col_names = c(\"STAID\", \"DATE\", \"type\", \"value\", \"X1\", \"X2\", \"SFLAG1\", \"Time\"),\n",
    "             col_types = cols(\n",
    "                 STAID = col_character(),\n",
    "                 DATE = col_double(),\n",
    "                 type = col_character(),\n",
    "                 value = col_double(),\n",
    "                 X1 = col_character(),\n",
    "                 X2 = col_character(),\n",
    "                 SFLAG1 = col_character(),\n",
    "                 Time = col_character()\n",
    "             ))"
   ]
  },
  {
   "cell_type": "code",
   "execution_count": null,
   "metadata": {},
   "outputs": [],
   "source": [
    "weather %>%\n",
    "    filter(type == 'TMAX' | type == 'PRCP') %>%\n",
    "    select(STAID, DATE, type, value) %>%\n",
    "    spread(key = type, value = value) -> weather"
   ]
  },
  {
   "cell_type": "code",
   "execution_count": null,
   "metadata": {},
   "outputs": [],
   "source": [
    "write_csv(weather, str_c(fp, 'PROCESSED_DATA/ghcn_weather.csv'))\n",
    "\n",
    "write_csv(stations, str_c(fp, 'PROCESSED_DATA/ghcn_stations.csv'))"
   ]
  },
  {
   "cell_type": "code",
   "execution_count": null,
   "metadata": {
    "scrolled": true
   },
   "outputs": [],
   "source": [
    "fp <- '/pool001/mfzhao/'\n",
    "stations <- read.fwf(str_c(fp, \"GHCN/ghcnd-stations.txt\"), widths = c(11,9,10,7,3,31,4,4,6), \n",
    "                     comment.char=\"\", stringsAsFactors = F)\n",
    "colnames(stations) <- c(\"STAID\", \"lat\", \"lng\", \"elev\", \"state\", \"STANAME\", \"GSN\", \"HCN/CRN\", \"WMO\")\n",
    "\n",
    "stations %>%\n",
    "    select(STAID, STANAME, lat, lng) -> stations"
   ]
  },
  {
   "cell_type": "code",
   "execution_count": null,
   "metadata": {},
   "outputs": [],
   "source": [
    "gec_to_iso <- read_csv(str_c(fp, 'geo_data/gec_to_iso.csv'))\n",
    "\n",
    "stations %>%\n",
    "    mutate(gec = str_sub(STAID, 1, 2)) %>%\n",
    "    left_join(gec_to_iso) %>%\n",
    "    select(STAID, STANAME, CN = iso2, lat, lng) -> stations\n",
    "\n",
    "write_csv(stations, str_c(fp, 'PROCESSED_DATA/ghcn_stations.csv'))"
   ]
  },
  {
   "cell_type": "code",
   "execution_count": null,
   "metadata": {},
   "outputs": [],
   "source": []
  }
 ],
 "metadata": {
  "kernelspec": {
   "display_name": "R 3.6",
   "language": "R",
   "name": "ir36"
  },
  "language_info": {
   "codemirror_mode": "r",
   "file_extension": ".r",
   "mimetype": "text/x-r-source",
   "name": "R",
   "pygments_lexer": "r",
   "version": "3.6.3"
  }
 },
 "nbformat": 4,
 "nbformat_minor": 2
}
