{
 "cells": [
  {
   "cell_type": "code",
   "execution_count": 1,
   "metadata": {},
   "outputs": [
    {
     "name": "stderr",
     "output_type": "stream",
     "text": [
      "\n",
      "Attaching package: ‘dplyr’\n",
      "\n",
      "\n",
      "The following objects are masked from ‘package:stats’:\n",
      "\n",
      "    filter, lag\n",
      "\n",
      "\n",
      "The following objects are masked from ‘package:base’:\n",
      "\n",
      "    intersect, setdiff, setequal, union\n",
      "\n",
      "\n",
      "Loading required package: foreach\n",
      "\n",
      "Loading required package: iterators\n",
      "\n",
      "Loading required package: parallel\n",
      "\n"
     ]
    }
   ],
   "source": [
    "library(readr)\n",
    "library(dplyr)\n",
    "library(tidyr)\n",
    "library(stringr)\n",
    "library(doMC)\n",
    "registerDoMC(20)"
   ]
  },
  {
   "cell_type": "code",
   "execution_count": 2,
   "metadata": {},
   "outputs": [
    {
     "name": "stderr",
     "output_type": "stream",
     "text": [
      "Parsed with column specification:\n",
      "cols(\n",
      "  key = \u001b[31mcol_character()\u001b[39m,\n",
      "  DATE = \u001b[34mcol_date(format = \"\")\u001b[39m,\n",
      "  PRCP = \u001b[32mcol_double()\u001b[39m,\n",
      "  TMAX = \u001b[32mcol_double()\u001b[39m\n",
      ")\n",
      "\n",
      "Parsed with column specification:\n",
      "cols(\n",
      "  key = \u001b[31mcol_character()\u001b[39m,\n",
      "  ds = \u001b[34mcol_date(format = \"\")\u001b[39m,\n",
      "  btvrc = \u001b[32mcol_double()\u001b[39m,\n",
      "  rstu = \u001b[32mcol_double()\u001b[39m,\n",
      "  n = \u001b[32mcol_double()\u001b[39m\n",
      ")\n",
      "\n",
      "Parsed with column specification:\n",
      "cols(\n",
      "  key = \u001b[31mcol_character()\u001b[39m,\n",
      "  ds = \u001b[34mcol_date(format = \"\")\u001b[39m,\n",
      "  btvrc = \u001b[32mcol_double()\u001b[39m,\n",
      "  rstu = \u001b[32mcol_double()\u001b[39m,\n",
      "  n = \u001b[32mcol_double()\u001b[39m\n",
      ")\n",
      "\n",
      "Parsed with column specification:\n",
      "cols(\n",
      "  key = \u001b[31mcol_character()\u001b[39m,\n",
      "  date = \u001b[34mcol_date(format = \"\")\u001b[39m,\n",
      "  cluster = \u001b[31mcol_character()\u001b[39m,\n",
      "  reopening = \u001b[32mcol_double()\u001b[39m,\n",
      "  sdPolicy = \u001b[32mcol_double()\u001b[39m,\n",
      "  stayHome = \u001b[32mcol_double()\u001b[39m\n",
      ")\n",
      "\n",
      "Parsed with column specification:\n",
      "cols(\n",
      "  user_loc = \u001b[31mcol_character()\u001b[39m,\n",
      "  fr_loc = \u001b[31mcol_character()\u001b[39m,\n",
      "  scaled_sci = \u001b[32mcol_double()\u001b[39m\n",
      ")\n",
      "\n"
     ]
    }
   ],
   "source": [
    "fp <- '/pool001/mfzhao/'\n",
    "weather <- read_csv(str_c(fp, 'PROCESSED_DATA/region_weather_2020.csv'))\n",
    "eu_mobility <- read_csv(str_c(fp, 'PROCESSED_DATA/eu_mobility.csv'))\n",
    "us_mobility <- read_csv(str_c(fp, 'PROCESSED_DATA/us_mobility.csv'))\n",
    "policy <- read_csv(str_c(fp, 'PROCESSED_DATA/policy.csv'))\n",
    "sci <- read_delim(str_c(fp, 'sci/SCI_NUTS3.tsv'),  \"\\t\", escape_double = FALSE, trim_ws = TRUE)"
   ]
  },
  {
   "cell_type": "code",
   "execution_count": 3,
   "metadata": {},
   "outputs": [
    {
     "name": "stderr",
     "output_type": "stream",
     "text": [
      "Joining, by = \"key\"\n",
      "\n"
     ]
    }
   ],
   "source": [
    "us_mobility %>%\n",
    "    bind_rows(eu_mobility) %>%\n",
    "    rename(date = ds) %>%\n",
    "    filter(date >= as.Date('2020-03-01'), date < as.Date('2020-06-01')) %>%\n",
    "    group_by(key) %>%\n",
    "    tally() %>%\n",
    "    filter(n == max(n)) %>%\n",
    "    select(key) -> keys_mobility\n",
    "\n",
    "policy %>%\n",
    "    select(key) %>%\n",
    "    distinct() -> keys_policy\n",
    "\n",
    "weather %>%\n",
    "    select(key) %>%\n",
    "    distinct() %>%\n",
    "    anti_join(weather %>% \n",
    "              filter(is.na(PRCP) | is.na(TMAX)) %>%\n",
    "              select(key) %>%\n",
    "              distinct()) -> keys_weather"
   ]
  },
  {
   "cell_type": "code",
   "execution_count": 4,
   "metadata": {},
   "outputs": [
    {
     "name": "stderr",
     "output_type": "stream",
     "text": [
      "Joining, by = \"key\"\n",
      "\n",
      "Joining, by = \"key\"\n",
      "\n",
      "Joining, by = \"key\"\n",
      "\n"
     ]
    }
   ],
   "source": [
    "keys_mobility %>%\n",
    "    inner_join(keys_policy) %>%\n",
    "    inner_join(keys_weather) -> keys\n",
    "\n",
    "us_mobility %>%\n",
    "    bind_rows(eu_mobility) %>%\n",
    "    select(key, n) %>%\n",
    "    distinct() %>%\n",
    "    inner_join(keys) -> population"
   ]
  },
  {
   "cell_type": "code",
   "execution_count": 5,
   "metadata": {},
   "outputs": [],
   "source": [
    "sci %>%\n",
    "    mutate(user_loc = str_replace(user_loc, 'USA', ''),\n",
    "           user_loc = ifelse(user_loc == 'UKN0A', 'UKN10', user_loc),\n",
    "           user_loc = ifelse(user_loc == 'UKN0B', 'UKN11', user_loc),\n",
    "           user_loc = ifelse(user_loc == 'UKN0C', 'UKN12', user_loc),\n",
    "           user_loc = ifelse(user_loc == 'UKN0D', 'UKN13', user_loc),\n",
    "           user_loc = ifelse(user_loc == 'UKN0E', 'UKN14', user_loc),\n",
    "           user_loc = ifelse(user_loc == 'UKN0F', 'UKN15', user_loc),\n",
    "           user_loc = ifelse(user_loc == 'UKN0G', 'UKN16', user_loc),\n",
    "           fr_loc = str_replace(fr_loc, 'USA', ''),\n",
    "           fr_loc = ifelse(fr_loc == 'UKN0A', 'UKN10', fr_loc),\n",
    "           fr_loc = ifelse(fr_loc == 'UKN0B', 'UKN11', fr_loc),\n",
    "           fr_loc = ifelse(fr_loc == 'UKN0C', 'UKN12', fr_loc),\n",
    "           fr_loc = ifelse(fr_loc == 'UKN0D', 'UKN13', fr_loc),\n",
    "           fr_loc = ifelse(fr_loc == 'UKN0E', 'UKN14', fr_loc),\n",
    "           fr_loc = ifelse(fr_loc == 'UKN0F', 'UKN15', fr_loc),\n",
    "           fr_loc = ifelse(fr_loc == 'UKN0G', 'UKN16', fr_loc)) %>%\n",
    "    inner_join(keys, by = c('user_loc' = 'key')) %>%\n",
    "    inner_join(keys, by = c('fr_loc' = 'key'))  %>%\n",
    "    inner_join(population, by = c('fr_loc' = 'key')) %>% \n",
    "    arrange(user_loc, fr_loc) -> sci\n",
    "\n",
    "write_csv(sci, str_c(fp, 'PROCESSED_DATA/processed_sci.csv'))"
   ]
  },
  {
   "cell_type": "code",
   "execution_count": 6,
   "metadata": {},
   "outputs": [],
   "source": [
    "sci %>%\n",
    "    group_by(user_loc) %>%\n",
    "    mutate(w = ifelse(user_loc == fr_loc, 0, scaled_sci * n),\n",
    "           w = w/sum(w)) %>%\n",
    "    select(key = user_loc, fr_loc, w) %>%\n",
    "    spread(key = fr_loc, value = w) %>%\n",
    "    ungroup(key) %>%\n",
    "    arrange(key) %>%\n",
    "    select(-key) %>%\n",
    "    as.matrix() -> WM\n",
    "\n",
    "rownames(WM) <- keys$key\n",
    "\n",
    "write_rds(WM, str_c(fp, 'PROCESSED_DATA/WM.RDS'))"
   ]
  },
  {
   "cell_type": "code",
   "execution_count": 7,
   "metadata": {},
   "outputs": [
    {
     "name": "stderr",
     "output_type": "stream",
     "text": [
      "Joining, by = \"key\"\n",
      "\n",
      "Joining, by = c(\"key\", \"date\")\n",
      "\n"
     ]
    }
   ],
   "source": [
    "bind_rows(us_mobility, eu_mobility) %>%\n",
    "    rename(date = ds) %>%\n",
    "    inner_join(keys) %>%\n",
    "    inner_join(policy) %>%\n",
    "    inner_join(weather, by = c('key', 'date' = 'DATE')) %>%\n",
    "    arrange(date, key) -> df"
   ]
  },
  {
   "cell_type": "code",
   "execution_count": 8,
   "metadata": {},
   "outputs": [],
   "source": [
    "weightedAlters <- function(df, wm, ...) {\n",
    "    df %>% \n",
    "        select(date, key, ...) %>%\n",
    "        spread(key = key, value = ...) %>%\n",
    "        ungroup() %>%\n",
    "        select(-date) %>%\n",
    "        as.matrix() -> txn_data\n",
    "    \n",
    "    df %>%\n",
    "        ungroup() %>%\n",
    "        select(date) %>%\n",
    "        distinct() %>%\n",
    "        arrange(date) -> dates\n",
    "    \n",
    "    outMatrix <- tcrossprod(txn_data, wm)\n",
    "    colnames(outMatrix) <- colnames(txn_data)\n",
    "    \n",
    "    data.frame(dates, outMatrix) %>%\n",
    "        gather(key = 'key', value = 'value', -date) %>%\n",
    "        arrange(date, key) %>%\n",
    "        select(-date, -key) -> out_df\n",
    "    return(out_df$value)\n",
    "}"
   ]
  },
  {
   "cell_type": "code",
   "execution_count": 9,
   "metadata": {},
   "outputs": [],
   "source": [
    "nquantiles <- 20\n",
    "\n",
    "df %>%\n",
    "    ungroup() %>%\n",
    "    select(date, key, PRCP, TMAX) %>%\n",
    "    mutate(PRCP = ifelse(PRCP == 0, NA, PRCP),\n",
    "           pq = ifelse(is.na(PRCP), 0, ntile(PRCP, nquantiles)), \n",
    "           tq = ntile(TMAX, nquantiles)) -> weather_quantiles\n",
    "\n",
    "wq_ind <- function(thres) {\n",
    "    weather_quantiles %>%\n",
    "        transmute(tempname1 = as.numeric(pq >= thres),\n",
    "                  tempname2 = as.numeric(tq >= thres)) -> temp\n",
    "    colnames(temp) <- c(str_c('prcp', str_pad(thres, 2, pad = '0')), str_c('tmax', str_pad(thres, 2, pad = '0'))) \n",
    "    return(temp)\n",
    "}\n",
    "\n",
    "wq_inds <- foreach(i = 1:nquantiles, .combine = cbind) %dopar% wq_ind(i)\n",
    "wq_colnames <- c(str_c('prcp', str_pad(1:nquantiles, 2, pad = '0')), str_c('tmax', str_pad(1:nquantiles, 2, pad = '0')))\n",
    "\n",
    "df %>%\n",
    "    bind_cols(wq_inds[wq_colnames] %>% select(-tmax01)) -> df"
   ]
  },
  {
   "cell_type": "code",
   "execution_count": 10,
   "metadata": {},
   "outputs": [],
   "source": [
    "df %>%\n",
    "    mutate_at(vars(btvrc, rstu, contains('prcp'), contains('tmax')), \n",
    "              .funs = list(sdp = function(x) x * df$sdPolicy,\n",
    "                           shp = function(x) x * df$stayHome,\n",
    "                           rop = function(x) x * df$reopening)) -> df\n",
    "                           \n",
    "df %>%\n",
    "    select(-date, -key, -n, -cluster, -PRCP, -TMAX) %>%\n",
    "    colnames() -> cols_to_alterize\n",
    "\n",
    "alters <- foreach(i = 1:length(cols_to_alterize), .combine = cbind) %dopar% \n",
    "    weightedAlters(df, WM, cols_to_alterize[i])\n",
    "\n",
    "colnames(alters) <- str_c('alter_', cols_to_alterize)"
   ]
  },
  {
   "cell_type": "code",
   "execution_count": 11,
   "metadata": {},
   "outputs": [],
   "source": [
    "df %>%\n",
    "    bind_cols(as.data.frame(alters)) %>%\n",
    "    mutate_at(vars(matches('alter')), \n",
    "              .funs = list(Xego_sdp = function(x) x * df$sdPolicy,\n",
    "                           Xego_shp = function(x) x * df$stayHome,\n",
    "                           Xego_rop = function(x) x * df$reopening)) -> df"
   ]
  },
  {
   "cell_type": "code",
   "execution_count": 12,
   "metadata": {},
   "outputs": [],
   "source": [
    "write_rds(df, str_c(fp, 'PROCESSED_DATA/panel_pre_xgr.RDS'))"
   ]
  },
  {
   "cell_type": "code",
   "execution_count": null,
   "metadata": {},
   "outputs": [],
   "source": []
  }
 ],
 "metadata": {
  "kernelspec": {
   "display_name": "R 3.6",
   "language": "R",
   "name": "ir36"
  },
  "language_info": {
   "codemirror_mode": "r",
   "file_extension": ".r",
   "mimetype": "text/x-r-source",
   "name": "R",
   "pygments_lexer": "r",
   "version": "3.6.3"
  }
 },
 "nbformat": 4,
 "nbformat_minor": 2
}
