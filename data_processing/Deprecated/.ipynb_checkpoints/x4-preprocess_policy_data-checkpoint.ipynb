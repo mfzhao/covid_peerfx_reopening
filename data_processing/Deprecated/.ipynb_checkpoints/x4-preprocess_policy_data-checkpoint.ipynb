{
 "cells": [
  {
   "cell_type": "code",
   "execution_count": 1,
   "metadata": {},
   "outputs": [
    {
     "name": "stderr",
     "output_type": "stream",
     "text": [
      "\n",
      "Attaching package: ‘dplyr’\n",
      "\n",
      "\n",
      "The following objects are masked from ‘package:stats’:\n",
      "\n",
      "    filter, lag\n",
      "\n",
      "\n",
      "The following objects are masked from ‘package:base’:\n",
      "\n",
      "    intersect, setdiff, setequal, union\n",
      "\n",
      "\n",
      "\n",
      "Attaching package: ‘lubridate’\n",
      "\n",
      "\n",
      "The following objects are masked from ‘package:dplyr’:\n",
      "\n",
      "    intersect, setdiff, union\n",
      "\n",
      "\n",
      "The following objects are masked from ‘package:base’:\n",
      "\n",
      "    date, intersect, setdiff, union\n",
      "\n",
      "\n",
      "Linking to GEOS 3.5.2, GDAL 2.4.2, PROJ 4.8.0\n",
      "\n"
     ]
    }
   ],
   "source": [
    "library(dplyr)\n",
    "library(tidyr)\n",
    "library(readr)\n",
    "library(stringr)\n",
    "library(ggplot2)\n",
    "library(lubridate)\n",
    "library(sf)"
   ]
  },
  {
   "cell_type": "code",
   "execution_count": 2,
   "metadata": {},
   "outputs": [
    {
     "name": "stderr",
     "output_type": "stream",
     "text": [
      "Parsed with column specification:\n",
      "cols(\n",
      "  Country = \u001b[31mcol_character()\u001b[39m,\n",
      "  gec = \u001b[31mcol_character()\u001b[39m,\n",
      "  iso2 = \u001b[31mcol_character()\u001b[39m,\n",
      "  iso3 = \u001b[31mcol_character()\u001b[39m\n",
      ")\n",
      "\n",
      "Parsed with column specification:\n",
      "cols(\n",
      "  fips = \u001b[32mcol_double()\u001b[39m,\n",
      "  county_name = \u001b[31mcol_character()\u001b[39m,\n",
      "  state_abbr = \u001b[31mcol_character()\u001b[39m,\n",
      "  state_name = \u001b[31mcol_character()\u001b[39m,\n",
      "  long_name = \u001b[31mcol_character()\u001b[39m,\n",
      "  sumlev = \u001b[32mcol_double()\u001b[39m,\n",
      "  region = \u001b[32mcol_double()\u001b[39m,\n",
      "  division = \u001b[32mcol_double()\u001b[39m,\n",
      "  state = \u001b[32mcol_double()\u001b[39m,\n",
      "  county = \u001b[32mcol_double()\u001b[39m,\n",
      "  crosswalk = \u001b[31mcol_character()\u001b[39m,\n",
      "  region_name = \u001b[31mcol_character()\u001b[39m,\n",
      "  division_name = \u001b[31mcol_character()\u001b[39m\n",
      ")\n",
      "\n",
      "Parsed with column specification:\n",
      "cols(\n",
      "  .default = col_double(),\n",
      "  CountryName = \u001b[31mcol_character()\u001b[39m,\n",
      "  CountryCode = \u001b[31mcol_character()\u001b[39m,\n",
      "  M1_Wildcard = \u001b[33mcol_logical()\u001b[39m\n",
      ")\n",
      "\n",
      "See spec(...) for full column specifications.\n",
      "\n",
      "Parsed with column specification:\n",
      "cols(\n",
      "  State = \u001b[31mcol_character()\u001b[39m,\n",
      "  closeSchools = \u001b[31mcol_character()\u001b[39m,\n",
      "  closeDaycares = \u001b[31mcol_character()\u001b[39m,\n",
      "  closeNursing = \u001b[31mcol_character()\u001b[39m,\n",
      "  closeBusiness = \u001b[31mcol_character()\u001b[39m,\n",
      "  closeRestaurants = \u001b[31mcol_character()\u001b[39m,\n",
      "  closeGyms = \u001b[31mcol_character()\u001b[39m,\n",
      "  closeMovies = \u001b[31mcol_character()\u001b[39m,\n",
      "  stayHome = \u001b[31mcol_character()\u001b[39m,\n",
      "  endStayHome = \u001b[31mcol_character()\u001b[39m,\n",
      "  reopenBusiness = \u001b[31mcol_character()\u001b[39m,\n",
      "  reopenRestaurants = \u001b[31mcol_character()\u001b[39m,\n",
      "  reopenGyms = \u001b[31mcol_character()\u001b[39m,\n",
      "  reopenMovies = \u001b[31mcol_character()\u001b[39m,\n",
      "  resumeElective = \u001b[31mcol_character()\u001b[39m\n",
      ")\n",
      "\n"
     ]
    }
   ],
   "source": [
    "fp <- '/pool001/mfzhao/'\n",
    "\n",
    "gec_to_iso <- read_csv(str_c(fp, 'geo_data/gec_to_iso.csv'))\n",
    "as.data.frame(read_rds(str_c(fp, 'geo_data/europe_LRmap.RDS'))) %>%\n",
    "    select(-geometry) -> eu_data\n",
    "fips <- read_csv(str_c(fp, 'geo_data/county_fips_master.csv')) %>%\n",
    "    mutate(fips = str_pad(fips, 5, pad = '0')) %>%\n",
    "    select(fips, county_name, state_abbr, state_name) %>%\n",
    "    distinct()\n",
    "\n",
    "policy_eu <- read_csv(str_c(fp, 'policy/OxCGRT_latest.csv'))\n",
    "policy_us <- read_csv(str_c(fp, 'policy/CUSP_policy.csv'))\n",
    "\n",
    "countries <- data.frame(\n",
    "    CountryCode = c('AUT', 'BEL', 'BGR', 'HRV', 'CYP', 'CZE', 'DNK', 'EST', 'FIN',\n",
    "                    'FRA', 'DEU', 'IRL', 'ITA', 'LVA', 'LIE', 'LTU', 'LUX', 'MLT',\n",
    "                    'NLD', 'NOR', 'POL', 'PRT', 'ROU', 'SVK', 'SVN', 'ESP', 'SWE',\n",
    "                    'CHE', 'GBR'), stringsAsFactors = F)"
   ]
  },
  {
   "cell_type": "code",
   "execution_count": 3,
   "metadata": {},
   "outputs": [
    {
     "name": "stderr",
     "output_type": "stream",
     "text": [
      "Joining, by = \"CountryCode\"\n",
      "\n"
     ]
    }
   ],
   "source": [
    "policy_eu %>%\n",
    "    inner_join(countries) %>%\n",
    "    mutate(Date = ymd(Date)) %>%\n",
    "    select(iso3 = CountryCode,\n",
    "           date = Date,\n",
    "           closeSchools   = `C1_School closing`,\n",
    "           closeWork      = `C2_Workplace closing`,\n",
    "           cancelEvents   = `C3_Cancel public events`,\n",
    "           banGatherings  = `C4_Restrictions on gatherings`,\n",
    "           closeTransport = `C5_Close public transport`,\n",
    "           stayHome       = `C6_Stay at home requirements`,\n",
    "           restrictMvmt   = `C7_Restrictions on internal movement`,\n",
    "           travelBan      = `C8_International travel controls`,\n",
    "           publicInfo     = `H1_Public information campaigns`) -> policy_eu\n",
    "    "
   ]
  },
  {
   "cell_type": "code",
   "execution_count": 4,
   "metadata": {},
   "outputs": [
    {
     "name": "stderr",
     "output_type": "stream",
     "text": [
      "Joining, by = \"iso3\"\n",
      "\n",
      "Joining, by = \"iso3\"\n",
      "\n",
      "Joining, by = \"iso3\"\n",
      "\n"
     ]
    }
   ],
   "source": [
    "policy_eu %>%\n",
    "    mutate(total = closeSchools + closeWork + cancelEvents + banGatherings + closeTransport + \n",
    "                   stayHome + restrictMvmt) %>%\n",
    "    filter(total > 0) %>%\n",
    "    group_by(iso3) %>%\n",
    "    filter(row_number() == 1) %>%\n",
    "    select(iso3, sdPolicy = date) -> sdPolicy_eu\n",
    "\n",
    "policy_eu %>%\n",
    "    filter(stayHome > 0) %>%\n",
    "    group_by(iso3) %>%\n",
    "    filter(row_number() == 1) %>%\n",
    "    select(iso3, stayHome = date) -> stayHome_eu\n",
    "\n",
    "policy_eu %>%\n",
    "    group_by(iso3) %>%\n",
    "    filter(closeWork == max(closeWork, na.rm = T)) %>%\n",
    "    filter(row_number() == n()) %>%\n",
    "    bind_rows(policy_eu %>%\n",
    "              group_by(iso3) %>%\n",
    "              filter(stayHome == max(stayHome, na.rm = T)) %>%\n",
    "              filter(row_number() == n())) %>%\n",
    "    arrange(iso3, date) %>%\n",
    "    filter(row_number() == 1) %>%\n",
    "    mutate(date = date + 1) %>%\n",
    "    select(iso3, reopening = date) -> reopening_eu\n",
    "\n",
    "sdPolicy_eu %>%\n",
    "    left_join(stayHome_eu) %>%\n",
    "    left_join(reopening_eu) %>%\n",
    "    left_join(gec_to_iso) %>%\n",
    "    ungroup() %>%\n",
    "    mutate(iso2 = ifelse(iso2 == 'GB', 'UK', iso2)) %>%\n",
    "    select(cluster = iso2, name = Country, sdPolicy, stayHome, reopening)  -> policyPeriods_eu"
   ]
  },
  {
   "cell_type": "code",
   "execution_count": 5,
   "metadata": {},
   "outputs": [
    {
     "name": "stderr",
     "output_type": "stream",
     "text": [
      "Joining, by = \"State\"\n",
      "\n"
     ]
    }
   ],
   "source": [
    "policy_us %>%\n",
    "    rowwise() %>%\n",
    "    mutate(sdPolicy = min(closeSchools, closeDaycares, closeNursing, closeRestaurants, \n",
    "                          closeGyms, closeMovies, stayHome, na.rm = T),\n",
    "           reopening = min(endStayHome, reopenBusiness, na.rm = T)) %>%\n",
    "    select(State, sdPolicy, stayHome, reopening) %>%\n",
    "    mutate(sdPolicy  = mdy(sdPolicy),\n",
    "           stayHome  = mdy(stayHome),\n",
    "           reopening = mdy(reopening)) %>%\n",
    "    inner_join(fips %>%\n",
    "               mutate(cluster = str_sub(fips, 1, 2)) %>%\n",
    "               select(State = state_name, cluster) %>%\n",
    "               distinct()) %>%\n",
    "    select(cluster, name = State, sdPolicy, stayHome, reopening) -> policyPeriods_us"
   ]
  },
  {
   "cell_type": "code",
   "execution_count": 6,
   "metadata": {},
   "outputs": [],
   "source": [
    "bind_rows(policyPeriods_eu, policyPeriods_us) -> policyPeriods\n",
    "write_csv(policyPeriods, str_c(fp, 'PROCESSED_DATA/policyPeriods.csv'))"
   ]
  },
  {
   "cell_type": "code",
   "execution_count": 7,
   "metadata": {
    "scrolled": true
   },
   "outputs": [
    {
     "name": "stderr",
     "output_type": "stream",
     "text": [
      "Joining, by = \"CNTR_CODE\"\n",
      "\n",
      "Joining, by = c(\"date\", \"cluster\")\n",
      "\n"
     ]
    }
   ],
   "source": [
    "eu_data %>%\n",
    "    semi_join(policyPeriods_eu %>% select(CNTR_CODE = cluster) %>% distinct()) %>%\n",
    "    select(key = id) %>%\n",
    "    bind_rows(fips %>% select(key = fips)) -> keys\n",
    "\n",
    "expand.grid(key = keys$key, \n",
    "            date = seq.Date(as.Date('2020-01-01'), as.Date('2020-05-31'), 'day'), \n",
    "            stringsAsFactors = F) %>%\n",
    "    mutate(cluster = str_sub(key, 1, 2)) %>%\n",
    "    left_join(policyPeriods %>%\n",
    "              gather(key = period, value = date, sdPolicy, stayHome, reopening) %>%\n",
    "              mutate(value = 1) %>%\n",
    "              spread(key = period, value = value) %>%\n",
    "              filter(!is.na(date)) %>%\n",
    "              select(-name)) %>%\n",
    "    arrange(key, date) %>%\n",
    "    group_by(key) %>%\n",
    "    fill(sdPolicy, stayHome, reopening) %>%\n",
    "    replace_na(list(sdPolicy = 0, stayHome = 0, reopening = 0)) %>%\n",
    "    mutate(sdPolicy = ifelse(stayHome == 1 | reopening == 1, 0, sdPolicy),\n",
    "           stayHome = ifelse(reopening == 1, 0, stayHome)) -> policy\n",
    "\n",
    "write_csv(policy, str_c(fp, 'PROCESSED_DATA/policy.csv'))"
   ]
  },
  {
   "cell_type": "code",
   "execution_count": null,
   "metadata": {},
   "outputs": [],
   "source": []
  }
 ],
 "metadata": {
  "kernelspec": {
   "display_name": "R 3.6",
   "language": "R",
   "name": "ir36"
  },
  "language_info": {
   "codemirror_mode": "r",
   "file_extension": ".r",
   "mimetype": "text/x-r-source",
   "name": "R",
   "pygments_lexer": "r",
   "version": "3.6.3"
  }
 },
 "nbformat": 4,
 "nbformat_minor": 2
}
