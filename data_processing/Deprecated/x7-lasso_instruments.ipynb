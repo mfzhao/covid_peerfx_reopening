{
 "cells": [
  {
   "cell_type": "code",
   "execution_count": 4,
   "metadata": {
    "scrolled": true
   },
   "outputs": [],
   "source": [
    "library(dplyr)\n",
    "library(stringr)\n",
    "library(readr)\n",
    "library(tidyr)\n",
    "library(lfe)\n",
    "library(glmnet)\n",
    "library(doMC)\n",
    "registerDoMC(28)"
   ]
  },
  {
   "cell_type": "code",
   "execution_count": 5,
   "metadata": {},
   "outputs": [],
   "source": [
    "fp <- '/pool001/mfzhao/'\n",
    "df.r <- read_rds(str_c(fp, 'PROCESSED_DATA/panel_xgr.RDS'))\n",
    "folds <- read_rds(str_c(fp, 'PROCESSED_DATA/folds.RDS'))\n",
    "residualizer_df <- read_rds(str_c(fp, 'PROCESSED_DATA/residualizer_data.RDS'))"
   ]
  },
  {
   "cell_type": "code",
   "execution_count": 6,
   "metadata": {},
   "outputs": [],
   "source": [
    "instruments_prcp     <- str_c('(', str_c(colnames(df.r)[str_detect(colnames(df.r), 'alter_prcp..\\\\.r')], collapse = ' + '), ')', collapse = '')\n",
    "instruments_tmax     <- str_c('(', str_c(colnames(df.r)[str_detect(colnames(df.r), 'alter_tmax..\\\\.r')], collapse = ' + '), ')', collapse = '')\n",
    "instruments_prcp_sdp <- str_c('(', str_c(colnames(df.r)[str_detect(colnames(df.r), 'alter_prcp.._sdp\\\\.r')], collapse = ' + '), ')', collapse = '')\n",
    "instruments_tmax_sdp <- str_c('(', str_c(colnames(df.r)[str_detect(colnames(df.r), 'alter_tmax.._sdp\\\\.r')], collapse = ' + '), ')', collapse = '')\n",
    "instruments_prcp_shp <- str_c('(', str_c(colnames(df.r)[str_detect(colnames(df.r), 'alter_prcp.._shp\\\\.r')], collapse = ' + '), ')', collapse = '')\n",
    "instruments_tmax_shp <- str_c('(', str_c(colnames(df.r)[str_detect(colnames(df.r), 'alter_tmax.._shp\\\\.r')], collapse = ' + '), ')', collapse = '')\n",
    "instruments_prcp_rop <- str_c('(', str_c(colnames(df.r)[str_detect(colnames(df.r), 'alter_prcp.._rop\\\\.r')], collapse = ' + '), ')', collapse = '')\n",
    "instruments_tmax_rop <- str_c('(', str_c(colnames(df.r)[str_detect(colnames(df.r), 'alter_tmax.._rop\\\\.r')], collapse = ' + '), ')', collapse = '')\n",
    "\n",
    "instruments <- str_c(instruments_prcp, ' * ', instruments_tmax, ' + ',\n",
    "                     instruments_prcp_sdp, ' * ', instruments_tmax_sdp, ' + ',\n",
    "                     instruments_prcp_shp, ' * ', instruments_tmax_shp, ' + ',\n",
    "                     instruments_prcp_rop, ' * ', instruments_tmax_rop)"
   ]
  },
  {
   "cell_type": "code",
   "execution_count": 7,
   "metadata": {},
   "outputs": [],
   "source": [
    "X.r <- model.matrix(as.formula(str_c('btvrc.r ~ 0 + ', instruments)), data = df.r)\n",
    "\n",
    "df.r %>%\n",
    "    select(key, date, sdPolicy.r, stayHome.r, reopening.r, n) -> residualizer_df2\n",
    "\n",
    "exogVar_residualizer <- function(Y, colname) {\n",
    "    residualizer_df2 %>%\n",
    "        mutate(Y = Y) -> temp_df\n",
    "    \n",
    "    fit <- felm(Y ~ 0 | key + date, temp_df, weights = temp_df$n)\n",
    "    out <- data.frame(fit$resid)\n",
    "    colnames(out)[1] <- colname\n",
    "    return(out)\n",
    "}     \n",
    "X.r2 <- foreach(i = 1:ncol(X.r), .combine = cbind) %dopar% exogVar_residualizer(X.r[,i], colnames(X.r)[i]) "
   ]
  },
  {
   "cell_type": "code",
   "execution_count": 8,
   "metadata": {},
   "outputs": [],
   "source": [
    "df.r %>% \n",
    "    select(alter_rstu.r,\n",
    "           alter_btvrc.r) -> DVs\n",
    "\n",
    "Y <- foreach(i = 1:ncol(DVs), .combine = cbind) %dopar% exogVar_residualizer(DVs[[i]], colnames(DVs)[i])      "
   ]
  },
  {
   "cell_type": "code",
   "execution_count": 9,
   "metadata": {},
   "outputs": [],
   "source": [
    "# Running cross-validated lasso, to select optimal lambda (based on CV prediction performance)\n",
    "X.r2 <- as.matrix(X.r2)\n",
    "Y    <- as.matrix(Y)\n",
    "\n",
    "\n",
    "cvlasso <- cv.glmnet(X.r2, Y, \n",
    "                     intercept = FALSE,\n",
    "                     family = 'mgaussian',\n",
    "                     alpha = 1,\n",
    "                     weights = df.r$n,\n",
    "                     foldid = df.r$fold,\n",
    "                     standardize = FALSE,\n",
    "                     parallel = TRUE,\n",
    "                     nlambda = 100)\n",
    "\n",
    "# Extracting selected instruments]\n",
    "fs.lasso.coefs <- coef(cvlasso, s = cvlasso$lambda.1se)[[1]]\n",
    "selected.cols  <- which(fs.lasso.coefs != 0)\n",
    "selected.names <- rownames(fs.lasso.coefs)[selected.cols]"
   ]
  },
  {
   "cell_type": "code",
   "execution_count": 10,
   "metadata": {},
   "outputs": [],
   "source": [
    "write_rds(cvlasso, str_c(fp, 'MODELS/cvlasso.RDS'))"
   ]
  },
  {
   "cell_type": "code",
   "execution_count": 11,
   "metadata": {},
   "outputs": [],
   "source": [
    "gen_instruments_with_suffix <- function(suffix) {\n",
    "    instruments_prcp     <- str_c(\"(\", str_c(colnames(df.r)[str_detect(colnames(df.r), str_c(\"alter_prcp..\", suffix, \"\\\\.r\"))], collapse = \" + \"), \")\", collapse = \"\")\n",
    "    instruments_tmax     <- str_c(\"(\", str_c(colnames(df.r)[str_detect(colnames(df.r), str_c(\"alter_tmax..\", suffix, \"\\\\.r\"))], collapse = \" + \"), \")\", collapse = \"\")\n",
    "    instruments_prcp_sdp <- str_c(\"(\", str_c(colnames(df.r)[str_detect(colnames(df.r), str_c(\"alter_prcp.._sdp\", suffix, \"\\\\.r\"))], collapse = \" + \"), \")\", collapse = \"\")\n",
    "    instruments_tmax_sdp <- str_c(\"(\", str_c(colnames(df.r)[str_detect(colnames(df.r), str_c(\"alter_tmax.._sdp\", suffix, \"\\\\.r\"))], collapse = \" + \"), \")\", collapse = \"\")\n",
    "    instruments_prcp_shp <- str_c(\"(\", str_c(colnames(df.r)[str_detect(colnames(df.r), str_c(\"alter_prcp.._shp\", suffix, \"\\\\.r\"))], collapse = \" + \"), \")\", collapse = \"\")\n",
    "    instruments_tmax_shp <- str_c(\"(\", str_c(colnames(df.r)[str_detect(colnames(df.r), str_c(\"alter_tmax.._shp\", suffix, \"\\\\.r\"))], collapse = \" + \"), \")\", collapse = \"\")\n",
    "    instruments_prcp_rop <- str_c(\"(\", str_c(colnames(df.r)[str_detect(colnames(df.r), str_c(\"alter_prcp.._rop\", suffix, \"\\\\.r\"))], collapse = \" + \"), \")\", collapse = \"\")\n",
    "    instruments_tmax_rop <- str_c(\"(\", str_c(colnames(df.r)[str_detect(colnames(df.r), str_c(\"alter_tmax.._rop\", suffix, \"\\\\.r\"))], collapse = \" + \"), \")\", collapse = \"\")\n",
    "    \n",
    "    instruments <- str_c(instruments_prcp, \" * \", instruments_tmax, \" + \", \n",
    "                         instruments_prcp_sdp, \" * \", instruments_tmax_sdp, \" + \", \n",
    "                         instruments_prcp_shp, \" * \", instruments_tmax_shp, \" + \", \n",
    "                         instruments_prcp_rop, \" * \", instruments_tmax_rop)\n",
    "    \n",
    "    X.r <- model.matrix(as.formula(str_c(\"btvrc.r ~ 0 + \", instruments)), data = df.r)\n",
    "    \n",
    "    selected.suffix <- str_replace_all(selected.names, \"\\\\.r\", str_c(suffix, \"\\\\.r\"))\n",
    "    iv <- as.data.frame(X.r) %>%\n",
    "        select(all_of(selected.suffix))\n",
    "    colnames(iv) <- str_c(\"iv\", str_pad(1:length(selected.names), 3, pad = \"0\"), str_replace(suffix, \"_Xego\", \"\"))\n",
    "    \n",
    "    if(str_detect(suffix, '_l[1-7]')) {\n",
    "        iv %>%\n",
    "            bind_cols(data.frame(key = unique(df.r$key), \n",
    "                                 date = rep(seq.Date(as.Date('2020-03-01') + as.numeric(str_sub(suffix, -1, -1)), as.Date('2020-05-31'), 'day'), each = length(unique(df.r$key))),\n",
    "                                 stringsAsFactors = F)) -> iv\n",
    "        \n",
    "        data.frame(key = unique(df.r$key), \n",
    "                   date = rep(seq.Date(as.Date('2020-03-01'), as.Date('2020-05-31'), 'day'), each = length(unique(df.r$key))),\n",
    "                   stringsAsFactors = F) %>%\n",
    "            left_join(iv) %>%\n",
    "            select(-key, -date) -> iv\n",
    "        \n",
    "        return(iv)\n",
    "    } else {return(iv)}\n",
    "}"
   ]
  },
  {
   "cell_type": "code",
   "execution_count": 12,
   "metadata": {},
   "outputs": [],
   "source": [
    "expand.grid(X1 = c('', '_Xego_sdp', '_Xego_shp', '_Xego_rop'), X2 = c('', str_c('_l', 1:7)), stringsAsFactors = F) %>%\n",
    "    mutate(suffix = str_c(X1, X2)) %>%\n",
    "    select(suffix) -> suffixes"
   ]
  },
  {
   "cell_type": "code",
   "execution_count": 13,
   "metadata": {},
   "outputs": [
    {
     "name": "stderr",
     "output_type": "stream",
     "text": [
      "Joining, by = c(\"key\", \"date\")\n",
      "\n",
      "Joining, by = c(\"key\", \"date\")\n",
      "\n",
      "Joining, by = c(\"key\", \"date\")\n",
      "\n",
      "Joining, by = c(\"key\", \"date\")\n",
      "\n",
      "Joining, by = c(\"key\", \"date\")\n",
      "\n",
      "Joining, by = c(\"key\", \"date\")\n",
      "\n",
      "Joining, by = c(\"key\", \"date\")\n",
      "\n",
      "Joining, by = c(\"key\", \"date\")\n",
      "\n",
      "Joining, by = c(\"key\", \"date\")\n",
      "\n",
      "Joining, by = c(\"key\", \"date\")\n",
      "\n",
      "Joining, by = c(\"key\", \"date\")\n",
      "\n",
      "Joining, by = c(\"key\", \"date\")\n",
      "\n",
      "Joining, by = c(\"key\", \"date\")\n",
      "\n",
      "Joining, by = c(\"key\", \"date\")\n",
      "\n",
      "Joining, by = c(\"key\", \"date\")\n",
      "\n",
      "Joining, by = c(\"key\", \"date\")\n",
      "\n",
      "Joining, by = c(\"key\", \"date\")\n",
      "\n",
      "Joining, by = c(\"key\", \"date\")\n",
      "\n",
      "Joining, by = c(\"key\", \"date\")\n",
      "\n",
      "Joining, by = c(\"key\", \"date\")\n",
      "\n",
      "Joining, by = c(\"key\", \"date\")\n",
      "\n",
      "Joining, by = c(\"key\", \"date\")\n",
      "\n",
      "Joining, by = c(\"key\", \"date\")\n",
      "\n",
      "Joining, by = c(\"key\", \"date\")\n",
      "\n",
      "Joining, by = c(\"key\", \"date\")\n",
      "\n",
      "Joining, by = c(\"key\", \"date\")\n",
      "\n",
      "Joining, by = c(\"key\", \"date\")\n",
      "\n",
      "Joining, by = c(\"key\", \"date\")\n",
      "\n"
     ]
    }
   ],
   "source": [
    "iv <- foreach(suffix = suffixes$suffix, .combine = cbind) %do% gen_instruments_with_suffix(suffix)"
   ]
  },
  {
   "cell_type": "code",
   "execution_count": 18,
   "metadata": {},
   "outputs": [],
   "source": [
    "df.r %>%\n",
    "    select(-matches('alter_[pt][rm][ca][px]..')) %>%\n",
    "    bind_cols(iv) -> panel"
   ]
  },
  {
   "cell_type": "code",
   "execution_count": 21,
   "metadata": {},
   "outputs": [],
   "source": [
    "write_rds(panel, str_c(fp, 'PROCESSED_DATA/panel_xgr_with_instruments.RDS'))"
   ]
  },
  {
   "cell_type": "code",
   "execution_count": null,
   "metadata": {},
   "outputs": [],
   "source": []
  }
 ],
 "metadata": {
  "kernelspec": {
   "display_name": "R 3.6",
   "language": "R",
   "name": "ir36"
  },
  "language_info": {
   "codemirror_mode": "r",
   "file_extension": ".r",
   "mimetype": "text/x-r-source",
   "name": "R",
   "pygments_lexer": "r",
   "version": "3.6.3"
  }
 },
 "nbformat": 4,
 "nbformat_minor": 2
}
