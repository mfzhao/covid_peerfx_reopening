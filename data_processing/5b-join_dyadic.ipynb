{
 "cells": [
  {
   "cell_type": "code",
   "execution_count": 1,
   "metadata": {},
   "outputs": [
    {
     "name": "stderr",
     "output_type": "stream",
     "text": [
      "\n",
      "Attaching package: ‘dplyr’\n",
      "\n",
      "\n",
      "The following objects are masked from ‘package:stats’:\n",
      "\n",
      "    filter, lag\n",
      "\n",
      "\n",
      "The following objects are masked from ‘package:base’:\n",
      "\n",
      "    intersect, setdiff, setequal, union\n",
      "\n",
      "\n",
      "\n",
      "Attaching package: ‘lubridate’\n",
      "\n",
      "\n",
      "The following objects are masked from ‘package:dplyr’:\n",
      "\n",
      "    intersect, setdiff, union\n",
      "\n",
      "\n",
      "The following objects are masked from ‘package:base’:\n",
      "\n",
      "    date, intersect, setdiff, union\n",
      "\n",
      "\n",
      "Linking to GEOS 3.5.2, GDAL 2.4.2, PROJ 4.8.0\n",
      "\n"
     ]
    }
   ],
   "source": [
    "library(readr)\n",
    "library(tidyr)\n",
    "library(stringr)\n",
    "library(dplyr)\n",
    "library(lubridate)\n",
    "library(USAboundaries)\n",
    "library(sf)"
   ]
  },
  {
   "cell_type": "code",
   "execution_count": 2,
   "metadata": {},
   "outputs": [
    {
     "name": "stderr",
     "output_type": "stream",
     "text": [
      "Parsed with column specification:\n",
      "cols(\n",
      "  key = \u001b[31mcol_character()\u001b[39m\n",
      ")\n",
      "\n",
      "Parsed with column specification:\n",
      "cols(\n",
      "  key = \u001b[31mcol_character()\u001b[39m,\n",
      "  date = \u001b[34mcol_date(format = \"\")\u001b[39m,\n",
      "  p1sdp = \u001b[32mcol_double()\u001b[39m,\n",
      "  p2shp = \u001b[32mcol_double()\u001b[39m,\n",
      "  p3rop = \u001b[32mcol_double()\u001b[39m,\n",
      "  p1sdpDSS = \u001b[32mcol_double()\u001b[39m,\n",
      "  p2shpDSS = \u001b[32mcol_double()\u001b[39m,\n",
      "  p3ropDSS = \u001b[32mcol_double()\u001b[39m\n",
      ")\n",
      "\n",
      "Parsed with column specification:\n",
      "cols(\n",
      "  date = \u001b[34mcol_date(format = \"\")\u001b[39m,\n",
      "  origin_county = \u001b[32mcol_double()\u001b[39m,\n",
      "  destination_county = \u001b[32mcol_double()\u001b[39m,\n",
      "  n = \u001b[32mcol_double()\u001b[39m\n",
      ")\n",
      "\n",
      "Parsed with column specification:\n",
      "cols(\n",
      "  .default = col_double(),\n",
      "  SUMLEV = \u001b[31mcol_character()\u001b[39m,\n",
      "  STATE = \u001b[31mcol_character()\u001b[39m,\n",
      "  COUNTY = \u001b[31mcol_character()\u001b[39m,\n",
      "  STNAME = \u001b[31mcol_character()\u001b[39m,\n",
      "  CTYNAME = \u001b[31mcol_character()\u001b[39m\n",
      ")\n",
      "\n",
      "See spec(...) for full column specifications.\n",
      "\n"
     ]
    }
   ],
   "source": [
    "fp      <- '/pool001/mfzhao/'\n",
    "keys    <- read_csv(str_c(fp, 'PROCESSED_DATA/keys.csv'))\n",
    "policy  <- read_csv(str_c(fp, 'PROCESSED_DATA/policy.csv'))\n",
    "df      <- read_csv(str_c(fp, 'safegraph/dyadic2020.csv'))\n",
    "us_pop  <- read_csv(str_c(fp, 'geo_data/cc-est2018-alldata.csv'))\n",
    "panel   <- read_rds(str_c(fp, 'PROCESSED_DATA/panel_pre_xgr.RDS'))\n",
    "usm     <- read_csv(str_c(fp, 'safegraph/us_mobility.csv'), \n",
    "                    col_types = cols(\n",
    "                        mhdt = col_double(),\n",
    "                        mnhdt = col_double(),\n",
    "                        mdtfh = col_double()))"
   ]
  },
  {
   "cell_type": "code",
   "execution_count": 3,
   "metadata": {},
   "outputs": [
    {
     "name": "stderr",
     "output_type": "stream",
     "text": [
      "Joining, by = \"L3\"\n",
      "\n",
      "Warning message in st_centroid.sf(.):\n",
      "“st_centroid assumes attributes are constant over geometries of x”\n",
      "Warning message in st_centroid.sfc(st_geometry(x), of_largest_polygon = of_largest_polygon):\n",
      "“st_centroid does not give correct centroids for longitude/latitude data”\n",
      "Joining, by = \"key\"\n",
      "\n"
     ]
    }
   ],
   "source": [
    "county_sf <- us_counties()\n",
    "\n",
    "as.data.frame(county_sf) %>%\n",
    "    select(-geometry) %>%\n",
    "    mutate(L3 = row_number(),\n",
    "           key = str_c(statefp, countyfp)) %>%\n",
    "    left_join(as.data.frame(st_coordinates(county_sf))) %>%\n",
    "    select(key, X, Y) -> coords\n",
    "\n",
    "coords %>%\n",
    "    inner_join(coords, by = c('X', 'Y')) %>%\n",
    "    filter(key.x != key.y) %>%\n",
    "    select(origin_county = key.x,\n",
    "           destination_county = key.y) %>%\n",
    "    distinct() %>%\n",
    "    mutate(bordering = 1) %>%\n",
    "    arrange(origin_county, destination_county) -> bordering\n",
    "\n",
    "county_sf %>%\n",
    "    st_centroid() %>%\n",
    "    as.data.frame() %>%\n",
    "    mutate(key = str_c(statefp, countyfp)) %>%\n",
    "    select(key, geometry) %>%\n",
    "    arrange(key) -> centroids\n",
    "\n",
    "distm <- data.frame(st_distance(centroids$geometry, centroids$geometry))\n",
    "colnames(distm) <- centroids$key\n",
    "\n",
    "distm %>%\n",
    "    mutate(origin_county = centroids$key) %>%\n",
    "    gather(key = 'destination_county', value = 'dist', -origin_county) %>%\n",
    "    mutate(dist = as.numeric(dist)/1000) %>% \n",
    "    inner_join(keys, by = c('origin_county' = 'key')) %>%\n",
    "    inner_join(keys, by = c('destination_county' = 'key') )-> distm\n",
    "\n",
    "us_pop %>%\n",
    "    unite('key', STATE, COUNTY, sep = '') %>%\n",
    "    filter(YEAR == 11, \n",
    "           AGEGRP==0) %>% \n",
    "    group_by(key) %>%\n",
    "    summarize(n = sum(TOT_POP)) -> us_pop\n",
    "\n",
    "usm %>%\n",
    "    rename(key = origin_county) %>%\n",
    "    filter(date >= as.Date('2020-01-01'), date < as.Date('2020-07-01')) %>%\n",
    "    inner_join(keys) %>%\n",
    "    select(date, key, device_count) -> dc"
   ]
  },
  {
   "cell_type": "code",
   "execution_count": 4,
   "metadata": {},
   "outputs": [
    {
     "name": "stderr",
     "output_type": "stream",
     "text": [
      "Joining, by = c(\"origin_county\", \"destination_county\")\n",
      "\n"
     ]
    }
   ],
   "source": [
    "df %>%\n",
    "    filter(date >= as.Date('2020-01-01'), date < as.Date('2020-07-01')) %>%\n",
    "    mutate(origin_county      = str_pad(origin_county, 5, pad = '0'),\n",
    "           destination_county = str_pad(destination_county, 5, pad = '0')) %>%\n",
    "    inner_join(keys, by = c('origin_county' = 'key')) %>%\n",
    "    inner_join(keys, by = c('destination_county' = 'key')) %>%\n",
    "    left_join(dc, by = c('date', 'origin_county' = 'key')) %>%\n",
    "    left_join(bordering) %>%\n",
    "    mutate(pod = n/device_count,\n",
    "           bordering = replace_na(bordering, 0)) -> df\n",
    "\n",
    "df %>%\n",
    "    group_by(origin_county, destination_county) %>%\n",
    "    summarize(n = sum(n), days = n()) -> dyad_stats"
   ]
  },
  {
   "cell_type": "code",
   "execution_count": 5,
   "metadata": {},
   "outputs": [
    {
     "data": {
      "text/html": [
       "<table>\n",
       "<caption>A tibble: 6 × 3</caption>\n",
       "<thead>\n",
       "\t<tr><th scope=col>days</th><th scope=col>n</th><th scope=col>ecdf</th></tr>\n",
       "\t<tr><th scope=col>&lt;int&gt;</th><th scope=col>&lt;dbl&gt;</th><th scope=col>&lt;dbl&gt;</th></tr>\n",
       "</thead>\n",
       "<tbody>\n",
       "\t<tr><td>182</td><td>6798526481</td><td>0.9622046</td></tr>\n",
       "\t<tr><td>181</td><td>  18312672</td><td>0.9647964</td></tr>\n",
       "\t<tr><td>180</td><td>  10535607</td><td>0.9662875</td></tr>\n",
       "\t<tr><td>179</td><td>   8054580</td><td>0.9674275</td></tr>\n",
       "\t<tr><td>178</td><td>   6265824</td><td>0.9683143</td></tr>\n",
       "\t<tr><td>177</td><td>   5177413</td><td>0.9690471</td></tr>\n",
       "</tbody>\n",
       "</table>\n"
      ],
      "text/latex": [
       "A tibble: 6 × 3\n",
       "\\begin{tabular}{lll}\n",
       " days & n & ecdf\\\\\n",
       " <int> & <dbl> & <dbl>\\\\\n",
       "\\hline\n",
       "\t 182 & 6798526481 & 0.9622046\\\\\n",
       "\t 181 &   18312672 & 0.9647964\\\\\n",
       "\t 180 &   10535607 & 0.9662875\\\\\n",
       "\t 179 &    8054580 & 0.9674275\\\\\n",
       "\t 178 &    6265824 & 0.9683143\\\\\n",
       "\t 177 &    5177413 & 0.9690471\\\\\n",
       "\\end{tabular}\n"
      ],
      "text/markdown": [
       "\n",
       "A tibble: 6 × 3\n",
       "\n",
       "| days &lt;int&gt; | n &lt;dbl&gt; | ecdf &lt;dbl&gt; |\n",
       "|---|---|---|\n",
       "| 182 | 6798526481 | 0.9622046 |\n",
       "| 181 |   18312672 | 0.9647964 |\n",
       "| 180 |   10535607 | 0.9662875 |\n",
       "| 179 |    8054580 | 0.9674275 |\n",
       "| 178 |    6265824 | 0.9683143 |\n",
       "| 177 |    5177413 | 0.9690471 |\n",
       "\n"
      ],
      "text/plain": [
       "  days n          ecdf     \n",
       "1 182  6798526481 0.9622046\n",
       "2 181    18312672 0.9647964\n",
       "3 180    10535607 0.9662875\n",
       "4 179     8054580 0.9674275\n",
       "5 178     6265824 0.9683143\n",
       "6 177     5177413 0.9690471"
      ]
     },
     "metadata": {},
     "output_type": "display_data"
    }
   ],
   "source": [
    "dyad_stats %>%\n",
    "    group_by(days) %>%\n",
    "    summarize(n = sum(n)) %>%\n",
    "    arrange(desc(n)) %>%\n",
    "    mutate(ecdf = cumsum(n)/sum(n)) %>%\n",
    "    head()"
   ]
  },
  {
   "cell_type": "code",
   "execution_count": 6,
   "metadata": {},
   "outputs": [
    {
     "data": {
      "text/html": [
       "<table>\n",
       "<caption>A tibble: 6 × 3</caption>\n",
       "<thead>\n",
       "\t<tr><th scope=col>days</th><th scope=col>n</th><th scope=col>ecdf</th></tr>\n",
       "\t<tr><th scope=col>&lt;int&gt;</th><th scope=col>&lt;dbl&gt;</th><th scope=col>&lt;dbl&gt;</th></tr>\n",
       "</thead>\n",
       "<tbody>\n",
       "\t<tr><td>182</td><td>1182397934</td><td>0.8157595</td></tr>\n",
       "\t<tr><td>181</td><td>  18312672</td><td>0.8283938</td></tr>\n",
       "\t<tr><td>180</td><td>  10535607</td><td>0.8356625</td></tr>\n",
       "\t<tr><td>179</td><td>   8054580</td><td>0.8412195</td></tr>\n",
       "\t<tr><td>178</td><td>   6265824</td><td>0.8455424</td></tr>\n",
       "\t<tr><td>177</td><td>   5177413</td><td>0.8491144</td></tr>\n",
       "</tbody>\n",
       "</table>\n"
      ],
      "text/latex": [
       "A tibble: 6 × 3\n",
       "\\begin{tabular}{lll}\n",
       " days & n & ecdf\\\\\n",
       " <int> & <dbl> & <dbl>\\\\\n",
       "\\hline\n",
       "\t 182 & 1182397934 & 0.8157595\\\\\n",
       "\t 181 &   18312672 & 0.8283938\\\\\n",
       "\t 180 &   10535607 & 0.8356625\\\\\n",
       "\t 179 &    8054580 & 0.8412195\\\\\n",
       "\t 178 &    6265824 & 0.8455424\\\\\n",
       "\t 177 &    5177413 & 0.8491144\\\\\n",
       "\\end{tabular}\n"
      ],
      "text/markdown": [
       "\n",
       "A tibble: 6 × 3\n",
       "\n",
       "| days &lt;int&gt; | n &lt;dbl&gt; | ecdf &lt;dbl&gt; |\n",
       "|---|---|---|\n",
       "| 182 | 1182397934 | 0.8157595 |\n",
       "| 181 |   18312672 | 0.8283938 |\n",
       "| 180 |   10535607 | 0.8356625 |\n",
       "| 179 |    8054580 | 0.8412195 |\n",
       "| 178 |    6265824 | 0.8455424 |\n",
       "| 177 |    5177413 | 0.8491144 |\n",
       "\n"
      ],
      "text/plain": [
       "  days n          ecdf     \n",
       "1 182  1182397934 0.8157595\n",
       "2 181    18312672 0.8283938\n",
       "3 180    10535607 0.8356625\n",
       "4 179     8054580 0.8412195\n",
       "5 178     6265824 0.8455424\n",
       "6 177     5177413 0.8491144"
      ]
     },
     "metadata": {},
     "output_type": "display_data"
    }
   ],
   "source": [
    "dyad_stats %>%\n",
    "    filter(origin_county != destination_county) %>%\n",
    "    group_by(days) %>%\n",
    "    summarize(n = sum(n)) %>%\n",
    "    arrange(desc(n)) %>%\n",
    "    mutate(ecdf = cumsum(n)/sum(n)) %>%\n",
    "    head()"
   ]
  },
  {
   "cell_type": "raw",
   "metadata": {},
   "source": [
    "cases <- read_csv(str_c(fp, 'nyt_covid/us-counties.csv'))\n",
    "keys %>%\n",
    "    left_join(cases %>% rename(key = fips)) %>%\n",
    "    select(key, date, cases) %>%\n",
    "    spread(key = key, value = cases) %>%\n",
    "    gather(key = 'key', value = 'cases', -date) %>%\n",
    "    replace_na(list(cases = 0)) %>%\n",
    "    group_by(key) %>%\n",
    "    mutate(new_cases = cases - lag(cases),\n",
    "           nc_l01 = lead(cases, 1),\n",
    "           nc_l02 = lead(cases, 2),\n",
    "           nc_l03 = lead(cases, 3),\n",
    "           nc_l04 = lead(cases, 4),\n",
    "           nc_l05 = lead(cases, 5), \n",
    "           nc_l06 = lead(cases, 6),\n",
    "           nc_l07 = lead(cases, 7), \n",
    "           nc_l08 = lead(cases, 8), \n",
    "           nc_l09 = lead(cases, 9),\n",
    "           nc_l10 = lead(cases, 10),\n",
    "           nc_l11 = lead(cases, 11),\n",
    "           nc_l12 = lead(cases, 12),\n",
    "           nc_l13 = lead(cases, 13),\n",
    "           nc_l14 = lead(cases, 14)) %>%\n",
    "        filter(date < as.Date('2020-07-01')) -> cases"
   ]
  },
  {
   "cell_type": "raw",
   "metadata": {},
   "source": [
    "df %>%\n",
    "    left_join(cases %>%\n",
    "              select(date, origin_county = key, cases)) -> df"
   ]
  },
  {
   "cell_type": "raw",
   "metadata": {},
   "source": [
    "df %>%\n",
    "    replace_na(list(cases = 0)) %>%\n",
    "    left_join(us_pop %>% rename(origin_county = key, pop = n)) %>%\n",
    "    mutate(cpc = cases/pop) %>%\n",
    "    mutate(bordering = replace_na(bordering, 0)) %>%\n",
    "    filter(origin_county != destination_county) %>%\n",
    "    group_by(date, key = destination_county) %>%\n",
    "    summarize(nocd = sum(n), \n",
    "              nocdb = sum(n * bordering),\n",
    "              ndc = sum(n * cases),\n",
    "              podcase = sum(pod * cpc * pop)) -> nocd"
   ]
  },
  {
   "cell_type": "raw",
   "metadata": {},
   "source": [
    "nocd %>%\n",
    "    left_join(cases) -> nocd\n",
    "\n",
    "nocd[is.na(nocd)] <- 0\n",
    "nocd"
   ]
  },
  {
   "cell_type": "raw",
   "metadata": {},
   "source": [
    "panel %>% \n",
    "    select(key, date, p1sdp, p2shp, p3rop, alter_p1sdp, alter_p2shp, alter_p3rop) %>%\n",
    "    left_join(nocd) -> nocd\n",
    "colnames(nocd)"
   ]
  },
  {
   "cell_type": "raw",
   "metadata": {},
   "source": [
    "nocd %>%\n",
    "    mutate(cluster = str_sub(key, 1, 2)) %>%\n",
    "    left_join(us_pop) -> nocd"
   ]
  },
  {
   "cell_type": "raw",
   "metadata": {},
   "source": [
    "df %>%\n",
    "    mutate(bordering = replace_na(bordering, 0)) %>%\n",
    "    filter(origin_county != destination_county) %>%\n",
    "    group_by(date, key = destination_county) %>%\n",
    "    summarize(nocd = sum(n), nocdb = sum(n * bordering)) -> nocd\n",
    "\n",
    "df %>%\n",
    "    filter(origin_county == destination_county) %>%\n",
    "    select(date, key = destination_county, nicd = n, )\n",
    "\n",
    "write_csv(nocd, str_c(fp, 'PROCESSED_DATA/n_outside_county_devices.csv'))"
   ]
  },
  {
   "cell_type": "code",
   "execution_count": 7,
   "metadata": {},
   "outputs": [
    {
     "name": "stderr",
     "output_type": "stream",
     "text": [
      "Joining, by = c(\"origin_county\", \"destination_county\")\n",
      "\n",
      "Joining, by = c(\"date\", \"origin_county\")\n",
      "\n",
      "Joining, by = c(\"date\", \"destination_county\")\n",
      "\n"
     ]
    }
   ],
   "source": [
    "panel %>%\n",
    "    select(date, key, PRCP, TMAX) -> weather\n",
    "\n",
    "df %>%\n",
    "    inner_join(dyad_stats %>% filter(days == max(days)) %>% select(origin_county, destination_county)) %>%\n",
    "    inner_join(policy %>% \n",
    "               select(date,\n",
    "                      origin_county = key,\n",
    "                      op1 = p1sdp,\n",
    "                      op2 = p2shp,\n",
    "                      op3 = p3rop)) %>%\n",
    "    inner_join(policy %>% \n",
    "               select(date,\n",
    "                      destination_county = key,\n",
    "                      dp1 = p1sdp,\n",
    "                      dp2 = p2shp,\n",
    "                      dp3 = p3rop)) %>% \n",
    "    filter(origin_county != destination_county) -> df"
   ]
  },
  {
   "cell_type": "code",
   "execution_count": 10,
   "metadata": {},
   "outputs": [
    {
     "data": {
      "text/html": [
       "<table>\n",
       "<caption>A data.frame: 6671889 × 3</caption>\n",
       "<thead>\n",
       "\t<tr><th scope=col>origin_county</th><th scope=col>destination_county</th><th scope=col>dist</th></tr>\n",
       "\t<tr><th scope=col>&lt;chr&gt;</th><th scope=col>&lt;chr&gt;</th><th scope=col>&lt;dbl&gt;</th></tr>\n",
       "</thead>\n",
       "<tbody>\n",
       "\t<tr><td>01001</td><td>01001</td><td>  0.00000</td></tr>\n",
       "\t<tr><td>01003</td><td>01001</td><td>225.19072</td></tr>\n",
       "\t<tr><td>01005</td><td>01001</td><td>139.85889</td></tr>\n",
       "\t<tr><td>01007</td><td>01001</td><td> 67.91306</td></tr>\n",
       "\t<tr><td>01009</td><td>01001</td><td>160.26703</td></tr>\n",
       "\t<tr><td>01011</td><td>01001</td><td>100.24078</td></tr>\n",
       "\t<tr><td>01013</td><td>01001</td><td> 87.19157</td></tr>\n",
       "\t<tr><td>01015</td><td>01001</td><td>156.86416</td></tr>\n",
       "\t<tr><td>01017</td><td>01001</td><td>124.59170</td></tr>\n",
       "\t<tr><td>01019</td><td>01001</td><td>205.86304</td></tr>\n",
       "\t<tr><td>01021</td><td>01001</td><td> 35.25908</td></tr>\n",
       "\t<tr><td>01023</td><td>01001</td><td>163.17452</td></tr>\n",
       "\t<tr><td>01025</td><td>01001</td><td>147.15954</td></tr>\n",
       "\t<tr><td>01027</td><td>01001</td><td>109.40296</td></tr>\n",
       "\t<tr><td>01029</td><td>01001</td><td>164.10585</td></tr>\n",
       "\t<tr><td>01031</td><td>01001</td><td>140.67748</td></tr>\n",
       "\t<tr><td>01033</td><td>01001</td><td>262.54863</td></tr>\n",
       "\t<tr><td>01035</td><td>01001</td><td>126.87165</td></tr>\n",
       "\t<tr><td>01037</td><td>01001</td><td> 57.80420</td></tr>\n",
       "\t<tr><td>01039</td><td>01001</td><td>144.32871</td></tr>\n",
       "\t<tr><td>01041</td><td>01001</td><td> 94.91486</td></tr>\n",
       "\t<tr><td>01043</td><td>01001</td><td>177.76038</td></tr>\n",
       "\t<tr><td>01045</td><td>01001</td><td>156.90896</td></tr>\n",
       "\t<tr><td>01047</td><td>01001</td><td> 49.64206</td></tr>\n",
       "\t<tr><td>01049</td><td>01001</td><td>227.16282</td></tr>\n",
       "\t<tr><td>01051</td><td>01001</td><td> 47.29939</td></tr>\n",
       "\t<tr><td>01053</td><td>01001</td><td>164.10170</td></tr>\n",
       "\t<tr><td>01055</td><td>01001</td><td>176.13408</td></tr>\n",
       "\t<tr><td>01057</td><td>01001</td><td>166.22967</td></tr>\n",
       "\t<tr><td>01059</td><td>01001</td><td>238.74673</td></tr>\n",
       "\t<tr><td>⋮</td><td>⋮</td><td>⋮</td></tr>\n",
       "\t<tr><td>55113</td><td>56041</td><td>1643.1002</td></tr>\n",
       "\t<tr><td>55115</td><td>56041</td><td>1811.3499</td></tr>\n",
       "\t<tr><td>55117</td><td>56041</td><td>1871.3024</td></tr>\n",
       "\t<tr><td>55119</td><td>56041</td><td>1680.4671</td></tr>\n",
       "\t<tr><td>55121</td><td>56041</td><td>1601.2199</td></tr>\n",
       "\t<tr><td>55123</td><td>56041</td><td>1638.1910</td></tr>\n",
       "\t<tr><td>55125</td><td>56041</td><td>1770.7118</td></tr>\n",
       "\t<tr><td>55127</td><td>56041</td><td>1825.0830</td></tr>\n",
       "\t<tr><td>55129</td><td>56041</td><td>1594.4461</td></tr>\n",
       "\t<tr><td>55131</td><td>56041</td><td>1848.3586</td></tr>\n",
       "\t<tr><td>55133</td><td>56041</td><td>1843.0181</td></tr>\n",
       "\t<tr><td>55135</td><td>56041</td><td>1792.8154</td></tr>\n",
       "\t<tr><td>55137</td><td>56041</td><td>1768.3843</td></tr>\n",
       "\t<tr><td>55139</td><td>56041</td><td>1816.0470</td></tr>\n",
       "\t<tr><td>55141</td><td>56041</td><td>1707.2799</td></tr>\n",
       "\t<tr><td>56001</td><td>56041</td><td> 404.9696</td></tr>\n",
       "\t<tr><td>56003</td><td>56041</td><td> 415.4862</td></tr>\n",
       "\t<tr><td>56005</td><td>56041</td><td> 524.8794</td></tr>\n",
       "\t<tr><td>56007</td><td>56041</td><td> 305.1950</td></tr>\n",
       "\t<tr><td>56009</td><td>56041</td><td> 456.6782</td></tr>\n",
       "\t<tr><td>56013</td><td>56041</td><td> 251.1364</td></tr>\n",
       "\t<tr><td>56015</td><td>56041</td><td> 523.1647</td></tr>\n",
       "\t<tr><td>56021</td><td>56041</td><td> 490.6226</td></tr>\n",
       "\t<tr><td>56023</td><td>56041</td><td> 108.7973</td></tr>\n",
       "\t<tr><td>56025</td><td>56041</td><td> 361.4672</td></tr>\n",
       "\t<tr><td>56029</td><td>56041</td><td> 367.7289</td></tr>\n",
       "\t<tr><td>56033</td><td>56041</td><td> 490.2259</td></tr>\n",
       "\t<tr><td>56037</td><td>56041</td><td> 145.0529</td></tr>\n",
       "\t<tr><td>56039</td><td>56041</td><td> 294.1185</td></tr>\n",
       "\t<tr><td>56041</td><td>56041</td><td>   0.0000</td></tr>\n",
       "</tbody>\n",
       "</table>\n"
      ],
      "text/latex": [
       "A data.frame: 6671889 × 3\n",
       "\\begin{tabular}{lll}\n",
       " origin\\_county & destination\\_county & dist\\\\\n",
       " <chr> & <chr> & <dbl>\\\\\n",
       "\\hline\n",
       "\t 01001 & 01001 &   0.00000\\\\\n",
       "\t 01003 & 01001 & 225.19072\\\\\n",
       "\t 01005 & 01001 & 139.85889\\\\\n",
       "\t 01007 & 01001 &  67.91306\\\\\n",
       "\t 01009 & 01001 & 160.26703\\\\\n",
       "\t 01011 & 01001 & 100.24078\\\\\n",
       "\t 01013 & 01001 &  87.19157\\\\\n",
       "\t 01015 & 01001 & 156.86416\\\\\n",
       "\t 01017 & 01001 & 124.59170\\\\\n",
       "\t 01019 & 01001 & 205.86304\\\\\n",
       "\t 01021 & 01001 &  35.25908\\\\\n",
       "\t 01023 & 01001 & 163.17452\\\\\n",
       "\t 01025 & 01001 & 147.15954\\\\\n",
       "\t 01027 & 01001 & 109.40296\\\\\n",
       "\t 01029 & 01001 & 164.10585\\\\\n",
       "\t 01031 & 01001 & 140.67748\\\\\n",
       "\t 01033 & 01001 & 262.54863\\\\\n",
       "\t 01035 & 01001 & 126.87165\\\\\n",
       "\t 01037 & 01001 &  57.80420\\\\\n",
       "\t 01039 & 01001 & 144.32871\\\\\n",
       "\t 01041 & 01001 &  94.91486\\\\\n",
       "\t 01043 & 01001 & 177.76038\\\\\n",
       "\t 01045 & 01001 & 156.90896\\\\\n",
       "\t 01047 & 01001 &  49.64206\\\\\n",
       "\t 01049 & 01001 & 227.16282\\\\\n",
       "\t 01051 & 01001 &  47.29939\\\\\n",
       "\t 01053 & 01001 & 164.10170\\\\\n",
       "\t 01055 & 01001 & 176.13408\\\\\n",
       "\t 01057 & 01001 & 166.22967\\\\\n",
       "\t 01059 & 01001 & 238.74673\\\\\n",
       "\t ⋮ & ⋮ & ⋮\\\\\n",
       "\t 55113 & 56041 & 1643.1002\\\\\n",
       "\t 55115 & 56041 & 1811.3499\\\\\n",
       "\t 55117 & 56041 & 1871.3024\\\\\n",
       "\t 55119 & 56041 & 1680.4671\\\\\n",
       "\t 55121 & 56041 & 1601.2199\\\\\n",
       "\t 55123 & 56041 & 1638.1910\\\\\n",
       "\t 55125 & 56041 & 1770.7118\\\\\n",
       "\t 55127 & 56041 & 1825.0830\\\\\n",
       "\t 55129 & 56041 & 1594.4461\\\\\n",
       "\t 55131 & 56041 & 1848.3586\\\\\n",
       "\t 55133 & 56041 & 1843.0181\\\\\n",
       "\t 55135 & 56041 & 1792.8154\\\\\n",
       "\t 55137 & 56041 & 1768.3843\\\\\n",
       "\t 55139 & 56041 & 1816.0470\\\\\n",
       "\t 55141 & 56041 & 1707.2799\\\\\n",
       "\t 56001 & 56041 &  404.9696\\\\\n",
       "\t 56003 & 56041 &  415.4862\\\\\n",
       "\t 56005 & 56041 &  524.8794\\\\\n",
       "\t 56007 & 56041 &  305.1950\\\\\n",
       "\t 56009 & 56041 &  456.6782\\\\\n",
       "\t 56013 & 56041 &  251.1364\\\\\n",
       "\t 56015 & 56041 &  523.1647\\\\\n",
       "\t 56021 & 56041 &  490.6226\\\\\n",
       "\t 56023 & 56041 &  108.7973\\\\\n",
       "\t 56025 & 56041 &  361.4672\\\\\n",
       "\t 56029 & 56041 &  367.7289\\\\\n",
       "\t 56033 & 56041 &  490.2259\\\\\n",
       "\t 56037 & 56041 &  145.0529\\\\\n",
       "\t 56039 & 56041 &  294.1185\\\\\n",
       "\t 56041 & 56041 &    0.0000\\\\\n",
       "\\end{tabular}\n"
      ],
      "text/markdown": [
       "\n",
       "A data.frame: 6671889 × 3\n",
       "\n",
       "| origin_county &lt;chr&gt; | destination_county &lt;chr&gt; | dist &lt;dbl&gt; |\n",
       "|---|---|---|\n",
       "| 01001 | 01001 |   0.00000 |\n",
       "| 01003 | 01001 | 225.19072 |\n",
       "| 01005 | 01001 | 139.85889 |\n",
       "| 01007 | 01001 |  67.91306 |\n",
       "| 01009 | 01001 | 160.26703 |\n",
       "| 01011 | 01001 | 100.24078 |\n",
       "| 01013 | 01001 |  87.19157 |\n",
       "| 01015 | 01001 | 156.86416 |\n",
       "| 01017 | 01001 | 124.59170 |\n",
       "| 01019 | 01001 | 205.86304 |\n",
       "| 01021 | 01001 |  35.25908 |\n",
       "| 01023 | 01001 | 163.17452 |\n",
       "| 01025 | 01001 | 147.15954 |\n",
       "| 01027 | 01001 | 109.40296 |\n",
       "| 01029 | 01001 | 164.10585 |\n",
       "| 01031 | 01001 | 140.67748 |\n",
       "| 01033 | 01001 | 262.54863 |\n",
       "| 01035 | 01001 | 126.87165 |\n",
       "| 01037 | 01001 |  57.80420 |\n",
       "| 01039 | 01001 | 144.32871 |\n",
       "| 01041 | 01001 |  94.91486 |\n",
       "| 01043 | 01001 | 177.76038 |\n",
       "| 01045 | 01001 | 156.90896 |\n",
       "| 01047 | 01001 |  49.64206 |\n",
       "| 01049 | 01001 | 227.16282 |\n",
       "| 01051 | 01001 |  47.29939 |\n",
       "| 01053 | 01001 | 164.10170 |\n",
       "| 01055 | 01001 | 176.13408 |\n",
       "| 01057 | 01001 | 166.22967 |\n",
       "| 01059 | 01001 | 238.74673 |\n",
       "| ⋮ | ⋮ | ⋮ |\n",
       "| 55113 | 56041 | 1643.1002 |\n",
       "| 55115 | 56041 | 1811.3499 |\n",
       "| 55117 | 56041 | 1871.3024 |\n",
       "| 55119 | 56041 | 1680.4671 |\n",
       "| 55121 | 56041 | 1601.2199 |\n",
       "| 55123 | 56041 | 1638.1910 |\n",
       "| 55125 | 56041 | 1770.7118 |\n",
       "| 55127 | 56041 | 1825.0830 |\n",
       "| 55129 | 56041 | 1594.4461 |\n",
       "| 55131 | 56041 | 1848.3586 |\n",
       "| 55133 | 56041 | 1843.0181 |\n",
       "| 55135 | 56041 | 1792.8154 |\n",
       "| 55137 | 56041 | 1768.3843 |\n",
       "| 55139 | 56041 | 1816.0470 |\n",
       "| 55141 | 56041 | 1707.2799 |\n",
       "| 56001 | 56041 |  404.9696 |\n",
       "| 56003 | 56041 |  415.4862 |\n",
       "| 56005 | 56041 |  524.8794 |\n",
       "| 56007 | 56041 |  305.1950 |\n",
       "| 56009 | 56041 |  456.6782 |\n",
       "| 56013 | 56041 |  251.1364 |\n",
       "| 56015 | 56041 |  523.1647 |\n",
       "| 56021 | 56041 |  490.6226 |\n",
       "| 56023 | 56041 |  108.7973 |\n",
       "| 56025 | 56041 |  361.4672 |\n",
       "| 56029 | 56041 |  367.7289 |\n",
       "| 56033 | 56041 |  490.2259 |\n",
       "| 56037 | 56041 |  145.0529 |\n",
       "| 56039 | 56041 |  294.1185 |\n",
       "| 56041 | 56041 |    0.0000 |\n",
       "\n"
      ],
      "text/plain": [
       "        origin_county destination_county dist     \n",
       "1       01001         01001                0.00000\n",
       "2       01003         01001              225.19072\n",
       "3       01005         01001              139.85889\n",
       "4       01007         01001               67.91306\n",
       "5       01009         01001              160.26703\n",
       "6       01011         01001              100.24078\n",
       "7       01013         01001               87.19157\n",
       "8       01015         01001              156.86416\n",
       "9       01017         01001              124.59170\n",
       "10      01019         01001              205.86304\n",
       "11      01021         01001               35.25908\n",
       "12      01023         01001              163.17452\n",
       "13      01025         01001              147.15954\n",
       "14      01027         01001              109.40296\n",
       "15      01029         01001              164.10585\n",
       "16      01031         01001              140.67748\n",
       "17      01033         01001              262.54863\n",
       "18      01035         01001              126.87165\n",
       "19      01037         01001               57.80420\n",
       "20      01039         01001              144.32871\n",
       "21      01041         01001               94.91486\n",
       "22      01043         01001              177.76038\n",
       "23      01045         01001              156.90896\n",
       "24      01047         01001               49.64206\n",
       "25      01049         01001              227.16282\n",
       "26      01051         01001               47.29939\n",
       "27      01053         01001              164.10170\n",
       "28      01055         01001              176.13408\n",
       "29      01057         01001              166.22967\n",
       "30      01059         01001              238.74673\n",
       "⋮       ⋮             ⋮                  ⋮        \n",
       "6671860 55113         56041              1643.1002\n",
       "6671861 55115         56041              1811.3499\n",
       "6671862 55117         56041              1871.3024\n",
       "6671863 55119         56041              1680.4671\n",
       "6671864 55121         56041              1601.2199\n",
       "6671865 55123         56041              1638.1910\n",
       "6671866 55125         56041              1770.7118\n",
       "6671867 55127         56041              1825.0830\n",
       "6671868 55129         56041              1594.4461\n",
       "6671869 55131         56041              1848.3586\n",
       "6671870 55133         56041              1843.0181\n",
       "6671871 55135         56041              1792.8154\n",
       "6671872 55137         56041              1768.3843\n",
       "6671873 55139         56041              1816.0470\n",
       "6671874 55141         56041              1707.2799\n",
       "6671875 56001         56041               404.9696\n",
       "6671876 56003         56041               415.4862\n",
       "6671877 56005         56041               524.8794\n",
       "6671878 56007         56041               305.1950\n",
       "6671879 56009         56041               456.6782\n",
       "6671880 56013         56041               251.1364\n",
       "6671881 56015         56041               523.1647\n",
       "6671882 56021         56041               490.6226\n",
       "6671883 56023         56041               108.7973\n",
       "6671884 56025         56041               361.4672\n",
       "6671885 56029         56041               367.7289\n",
       "6671886 56033         56041               490.2259\n",
       "6671887 56037         56041               145.0529\n",
       "6671888 56039         56041               294.1185\n",
       "6671889 56041         56041                 0.0000"
      ]
     },
     "metadata": {},
     "output_type": "display_data"
    }
   ],
   "source": [
    "distm"
   ]
  },
  {
   "cell_type": "code",
   "execution_count": 12,
   "metadata": {},
   "outputs": [
    {
     "name": "stderr",
     "output_type": "stream",
     "text": [
      "Joining, by = c(\"date\", \"origin_county\")\n",
      "\n",
      "Joining, by = c(\"date\", \"destination_county\")\n",
      "\n",
      "Joining, by = c(\"origin_county\", \"destination_county\")\n",
      "\n"
     ]
    }
   ],
   "source": [
    "df %>%\n",
    "    rename(ndotd = n, pdotd = pod) %>%\n",
    "    mutate(dyad = str_c(origin_county, '->', destination_county),\n",
    "           origin_cluster = str_sub(origin_county, 1, 2), \n",
    "           destination_cluster = str_sub(destination_county, 1, 2)) %>%\n",
    "    left_join(weather %>%\n",
    "              rename(origin_county = key,\n",
    "                     oPRCP = PRCP,\n",
    "                     oTMAX = TMAX)) %>%\n",
    "    left_join(weather %>%\n",
    "              rename(destination_county = key,\n",
    "                     dPRCP = PRCP,\n",
    "                     dTMAX = TMAX)) %>%\n",
    "    left_join(us_pop, by = c('origin_county' = 'key')) %>%\n",
    "    left_join(distm) %>%\n",
    "    select(date, dyad, origin_cluster, destination_cluster, n, bordering, ndotd, pdotd, dist,\n",
    "           op1, op2, op3, \n",
    "           dp1, dp2, dp3, \n",
    "           oPRCP, oTMAX,\n",
    "           dPRCP, dTMAX) -> df"
   ]
  },
  {
   "cell_type": "code",
   "execution_count": 13,
   "metadata": {},
   "outputs": [],
   "source": [
    "df %>%\n",
    "    select(-op1, -op2, -op3, -dp1, -dp2, -dp3) %>%\n",
    "    bind_cols(as.data.frame(model.matrix(n ~ 0 + (op1 + op2 + op3) * (dp1 + dp2 + dp3), df))) -> df"
   ]
  },
  {
   "cell_type": "code",
   "execution_count": 14,
   "metadata": {},
   "outputs": [],
   "source": [
    "data.table::fwrite(df, str_c(fp, 'PROCESSED_DATA/dyadic_mvmt_2020.csv'))"
   ]
  },
  {
   "cell_type": "code",
   "execution_count": null,
   "metadata": {},
   "outputs": [],
   "source": [
    "df"
   ]
  },
  {
   "cell_type": "code",
   "execution_count": null,
   "metadata": {},
   "outputs": [],
   "source": [
    "fit1 <- felm(log(ood) ~ D_o + D_d | dyad + date | 0 | origin_cluster + destination_cluster, df)\n",
    "summary(fit)$coefs"
   ]
  },
  {
   "cell_type": "code",
   "execution_count": null,
   "metadata": {},
   "outputs": [],
   "source": []
  },
  {
   "cell_type": "code",
   "execution_count": null,
   "metadata": {},
   "outputs": [],
   "source": [
    "fit2 <- felm(log(ood) ~ D_o + D_d | dyad + date | 0 | origin_cluster + destination_cluster, df, weights = df$n)\n",
    "summary(fit)"
   ]
  },
  {
   "cell_type": "code",
   "execution_count": null,
   "metadata": {},
   "outputs": [],
   "source": [
    "fit <- felm(log(ood) ~ D | dyad + date | 0 | origin_cluster + destination_cluster, df)\n",
    "summary(fit)"
   ]
  },
  {
   "cell_type": "code",
   "execution_count": null,
   "metadata": {},
   "outputs": [],
   "source": [
    "df %>%\n",
    "    group_by(D) %>%\n",
    "    tally() %>%\n",
    "    mutate(prop = n/sum(n))"
   ]
  },
  {
   "cell_type": "code",
   "execution_count": null,
   "metadata": {},
   "outputs": [],
   "source": [
    "df %>%\n",
    "    filter(bordering == 1) %>%\n",
    "    group_by(D) %>%\n",
    "    tally() %>%\n",
    "    mutate(prop = n/sum(n))"
   ]
  },
  {
   "cell_type": "code",
   "execution_count": null,
   "metadata": {},
   "outputs": [],
   "source": [
    "fit <- felm(log(ood) ~ D | dyad + date | 0 | origin_cluster + destination_cluster, df %>% filter(bordering == 1))\n",
    "summary(fit)"
   ]
  },
  {
   "cell_type": "code",
   "execution_count": null,
   "metadata": {},
   "outputs": [],
   "source": [
    "as.data.frame(summary(fit)$coef) %>%\n",
    "    mutate(D = rownames(.), \n",
    "           origin_policy = str_sub(D, 3, 4),\n",
    "           destination_policy = str_sub(D, 7, 8)) %>%\n",
    "    ggplot(aes(x = origin_policy, y = destination_policy, fill = Estimate)) + \n",
    "    geom_tile() +\n",
    "    scale_fill_distiller()"
   ]
  },
  {
   "cell_type": "code",
   "execution_count": null,
   "metadata": {},
   "outputs": [],
   "source": [
    "fit <- felm(pod ~ D | dyad + date | 0 | origin_cluster + destination_cluster, df)\n",
    "summary(fit)"
   ]
  },
  {
   "cell_type": "code",
   "execution_count": null,
   "metadata": {},
   "outputs": [],
   "source": [
    "fit <- felm(pod ~ D | dyad + date | 0 | origin_cluster + destination_cluster, df, weights = df$n)\n",
    "summary(fit)"
   ]
  },
  {
   "cell_type": "code",
   "execution_count": null,
   "metadata": {},
   "outputs": [],
   "source": [
    "fit <- felm(log(pod) ~ D_o + D_d | dyad + date | 0 | origin_cluster + destination_cluster, df)\n",
    "summary(fit)"
   ]
  },
  {
   "cell_type": "code",
   "execution_count": null,
   "metadata": {},
   "outputs": [],
   "source": [
    "fit <- felm(log(pod) ~ D_o + D_d | dyad + date | 0 | origin_cluster + destination_cluster, df, weights = df$n)\n",
    "summary(fit)"
   ]
  },
  {
   "cell_type": "code",
   "execution_count": null,
   "metadata": {},
   "outputs": [],
   "source": [
    "library(lfe)"
   ]
  },
  {
   "cell_type": "code",
   "execution_count": null,
   "metadata": {},
   "outputs": [],
   "source": [
    "expand.grid(distinct(df$origin_county), distinct(df$destination_county))\n",
    "df %>%\n",
    "    filter(date == as.Date('2020-02-01')) %>%\n",
    "    mutate(ndotd = n/sd(n),\n",
    "           pdotd = pod/sd(pod)) %>%\n",
    "    select(date, origin_county, destination_county, ndotd, pdotd) %>%\n",
    "    ggplot(aes(x = origin_county, y = desitination_county))"
   ]
  },
  {
   "cell_type": "code",
   "execution_count": null,
   "metadata": {},
   "outputs": [],
   "source": [
    "expand.grid(origin_county = unique(df$origin_county), destination_county = unique(df$destination_county), stringsAsFactors = F) %>%\n",
    "    left_join(df %>%\n",
    "              filter(date == as.Date('2020-02-01'))) %>%\n",
    "    fill(date) %>%\n",
    "    replace_na(list(pod = 0, n = 0)) %>%\n",
    "    mutate(ndotd = n/sd(n),\n",
    "           pdotd = pod/sd(pod)) -> d21"
   ]
  },
  {
   "cell_type": "code",
   "execution_count": null,
   "metadata": {},
   "outputs": [],
   "source": [
    "library(urbnmapr)\n",
    "\n",
    "counties_sf <- get_urbn_map(map = \"counties\", sf = TRUE)"
   ]
  },
  {
   "cell_type": "code",
   "execution_count": null,
   "metadata": {},
   "outputs": [],
   "source": [
    "options(repr.plot.width=5.28, repr.plot.height=3.21)\n",
    "counties_sf %>%\n",
    "    left_join(df %>%\n",
    "              filter(origin_county == '36061', date == as.Date('2020-4-15')), \n",
    "              by = c('county_fips' = 'destination_county')) %>%\n",
    "    ggplot(aes(fill = log(n))) +\n",
    "    geom_sf(size = .1) +\n",
    "    scale_fill_viridis(na.value = 'grey80', limits = c(0, 12)) +  \n",
    "    xlab('') + \n",
    "    ylab('') +\n",
    "    labs(color = \"Outcome\") +\n",
    "    theme_light() +\n",
    "    theme(text = element_text(size=15),\n",
    "          strip.text.y = element_blank(),\n",
    "          legend.position = 'None',\n",
    "          panel.border=element_blank(),\n",
    "          panel.grid.major=element_blank(), ## element_line(colour = \"white\")\n",
    "          panel.grid.minor=element_blank(), ## element_line(colour = \"white\", size = 0.25)\n",
    "          axis.ticks=element_blank(),       ## element_line(colour = \"grey20\")\n",
    "          axis.text=element_blank(),        ## element_text(size = rel(0.8), colour = \"grey30\")\n",
    "          axis.title=element_blank(),      ## axis.title.x = element_text(\n",
    "          plot.margin= grid::unit(c(0, 0, 0, 0), \"in\"))"
   ]
  },
  {
   "cell_type": "code",
   "execution_count": null,
   "metadata": {},
   "outputs": [],
   "source": [
    "options(repr.plot.width=5.28, repr.plot.height=3.21)\n",
    "counties_sf %>%\n",
    "    left_join(df %>%\n",
    "              filter(destination_county == '36061', date == as.Date('2020-4-15')), \n",
    "              by = c('county_fips' = 'origin_county')) %>%\n",
    "    ggplot(aes(fill = log(n))) +\n",
    "    geom_sf(size = .1) +\n",
    "    scale_fill_viridis(na.value = 'grey80', limits = c(0, 12)) +  \n",
    "    xlab('') + \n",
    "    ylab('') +\n",
    "    labs(color = \"Outcome\") +\n",
    "    theme_light() +\n",
    "    theme(text = element_text(size=15),\n",
    "          strip.text.y = element_blank(),\n",
    "          legend.position = 'None',\n",
    "          panel.border=element_blank(),\n",
    "          panel.grid.major=element_blank(), ## element_line(colour = \"white\")\n",
    "          panel.grid.minor=element_blank(), ## element_line(colour = \"white\", size = 0.25)\n",
    "          axis.ticks=element_blank(),       ## element_line(colour = \"grey20\")\n",
    "          axis.text=element_blank(),        ## element_text(size = rel(0.8), colour = \"grey30\")\n",
    "          axis.title=element_blank(),      ## axis.title.x = element_text(\n",
    "          plot.margin= grid::unit(c(0, 0, 0, 0), \"in\"))"
   ]
  },
  {
   "cell_type": "code",
   "execution_count": null,
   "metadata": {},
   "outputs": [],
   "source": [
    "df %>%\n",
    " filter(origin_county == '36061', date == as.Date('2020-2-29')) %>%\n",
    "    summarize(max(n))"
   ]
  },
  {
   "cell_type": "code",
   "execution_count": null,
   "metadata": {},
   "outputs": [],
   "source": [
    "log(80308)"
   ]
  },
  {
   "cell_type": "code",
   "execution_count": null,
   "metadata": {},
   "outputs": [],
   "source": [
    "dyad"
   ]
  },
  {
   "cell_type": "code",
   "execution_count": null,
   "metadata": {},
   "outputs": [],
   "source": []
  }
 ],
 "metadata": {
  "kernelspec": {
   "display_name": "R 3.6",
   "language": "R",
   "name": "ir36"
  },
  "language_info": {
   "codemirror_mode": "r",
   "file_extension": ".r",
   "mimetype": "text/x-r-source",
   "name": "R",
   "pygments_lexer": "r",
   "version": "3.6.3"
  }
 },
 "nbformat": 4,
 "nbformat_minor": 4
}
