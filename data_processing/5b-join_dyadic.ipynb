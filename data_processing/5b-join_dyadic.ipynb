{
 "cells": [
  {
   "cell_type": "code",
   "execution_count": 1,
   "metadata": {},
   "outputs": [
    {
     "name": "stderr",
     "output_type": "stream",
     "text": [
      "\n",
      "Attaching package: ‘dplyr’\n",
      "\n",
      "\n",
      "The following objects are masked from ‘package:stats’:\n",
      "\n",
      "    filter, lag\n",
      "\n",
      "\n",
      "The following objects are masked from ‘package:base’:\n",
      "\n",
      "    intersect, setdiff, setequal, union\n",
      "\n",
      "\n",
      "\n",
      "Attaching package: ‘lubridate’\n",
      "\n",
      "\n",
      "The following objects are masked from ‘package:dplyr’:\n",
      "\n",
      "    intersect, setdiff, union\n",
      "\n",
      "\n",
      "The following objects are masked from ‘package:base’:\n",
      "\n",
      "    date, intersect, setdiff, union\n",
      "\n",
      "\n",
      "Linking to GEOS 3.5.2, GDAL 2.4.2, PROJ 4.8.0\n",
      "\n"
     ]
    }
   ],
   "source": [
    "library(readr)\n",
    "library(tidyr)\n",
    "library(stringr)\n",
    "library(dplyr)\n",
    "library(lubridate)\n",
    "library(USAboundaries)\n",
    "library(sf)"
   ]
  },
  {
   "cell_type": "code",
   "execution_count": 2,
   "metadata": {},
   "outputs": [
    {
     "name": "stderr",
     "output_type": "stream",
     "text": [
      "Parsed with column specification:\n",
      "cols(\n",
      "  key = \u001b[31mcol_character()\u001b[39m\n",
      ")\n",
      "\n",
      "Parsed with column specification:\n",
      "cols(\n",
      "  key = \u001b[31mcol_character()\u001b[39m,\n",
      "  date = \u001b[34mcol_date(format = \"\")\u001b[39m,\n",
      "  p1sdp = \u001b[32mcol_double()\u001b[39m,\n",
      "  p2shp = \u001b[32mcol_double()\u001b[39m,\n",
      "  p3rop = \u001b[32mcol_double()\u001b[39m,\n",
      "  p1sdpDSS = \u001b[32mcol_double()\u001b[39m,\n",
      "  p2shpDSS = \u001b[32mcol_double()\u001b[39m,\n",
      "  p3ropDSS = \u001b[32mcol_double()\u001b[39m\n",
      ")\n",
      "\n",
      "Parsed with column specification:\n",
      "cols(\n",
      "  date = \u001b[34mcol_date(format = \"\")\u001b[39m,\n",
      "  origin_county = \u001b[32mcol_double()\u001b[39m,\n",
      "  destination_county = \u001b[32mcol_double()\u001b[39m,\n",
      "  n = \u001b[32mcol_double()\u001b[39m\n",
      ")\n",
      "\n",
      "Parsed with column specification:\n",
      "cols(\n",
      "  .default = col_double(),\n",
      "  SUMLEV = \u001b[31mcol_character()\u001b[39m,\n",
      "  STATE = \u001b[31mcol_character()\u001b[39m,\n",
      "  COUNTY = \u001b[31mcol_character()\u001b[39m,\n",
      "  STNAME = \u001b[31mcol_character()\u001b[39m,\n",
      "  CTYNAME = \u001b[31mcol_character()\u001b[39m\n",
      ")\n",
      "\n",
      "See spec(...) for full column specifications.\n",
      "\n"
     ]
    }
   ],
   "source": [
    "fp      <- '/pool001/mfzhao/'\n",
    "keys    <- read_csv(str_c(fp, 'PROCESSED_DATA/keys.csv'))\n",
    "policy  <- read_csv(str_c(fp, 'PROCESSED_DATA/policy.csv'))\n",
    "df      <- read_csv(str_c(fp, 'safegraph/dyadic2020.csv'))\n",
    "us_pop  <- read_csv(str_c(fp, 'geo_data/cc-est2018-alldata.csv'))\n",
    "panel   <- read_rds(str_c(fp, 'PROCESSED_DATA/panel_pre_xgr.RDS'))\n",
    "usm     <- read_csv(str_c(fp, 'safegraph/us_mobility.csv'), \n",
    "                    col_types = cols(\n",
    "                        mhdt = col_double(),\n",
    "                        mnhdt = col_double(),\n",
    "                        mdtfh = col_double()))"
   ]
  },
  {
   "cell_type": "code",
   "execution_count": 3,
   "metadata": {},
   "outputs": [
    {
     "name": "stderr",
     "output_type": "stream",
     "text": [
      "Joining, by = \"L3\"\n",
      "\n",
      "Warning message in st_centroid.sf(.):\n",
      "“st_centroid assumes attributes are constant over geometries of x”\n",
      "Warning message in st_centroid.sfc(st_geometry(x), of_largest_polygon = of_largest_polygon):\n",
      "“st_centroid does not give correct centroids for longitude/latitude data”\n",
      "Joining, by = \"key\"\n",
      "\n"
     ]
    }
   ],
   "source": [
    "county_sf <- us_counties()\n",
    "\n",
    "as.data.frame(county_sf) %>%\n",
    "    select(-geometry) %>%\n",
    "    mutate(L3 = row_number(),\n",
    "           key = str_c(statefp, countyfp)) %>%\n",
    "    left_join(as.data.frame(st_coordinates(county_sf))) %>%\n",
    "    select(key, X, Y) -> coords\n",
    "\n",
    "coords %>%\n",
    "    inner_join(coords, by = c('X', 'Y')) %>%\n",
    "    filter(key.x != key.y) %>%\n",
    "    select(origin_county = key.x,\n",
    "           destination_county = key.y) %>%\n",
    "    distinct() %>%\n",
    "    mutate(bordering = 1) %>%\n",
    "    arrange(origin_county, destination_county) -> bordering\n",
    "\n",
    "county_sf %>%\n",
    "    st_centroid() %>%\n",
    "    as.data.frame() %>%\n",
    "    mutate(key = str_c(statefp, countyfp)) %>%\n",
    "    select(key, geometry) %>%\n",
    "    arrange(key) -> centroids\n",
    "\n",
    "distm <- data.frame(st_distance(centroids$geometry, centroids$geometry))\n",
    "colnames(distm) <- centroids$key\n",
    "\n",
    "distm %>%\n",
    "    mutate(origin_county = centroids$key) %>%\n",
    "    gather(key = 'destination_county', value = 'dist', -origin_county) %>%\n",
    "    mutate(dist = as.numeric(dist)/1000) %>% \n",
    "    inner_join(keys, by = c('origin_county' = 'key')) %>%\n",
    "    inner_join(keys, by = c('destination_county' = 'key') )-> distm\n",
    "\n",
    "us_pop %>%\n",
    "    unite('key', STATE, COUNTY, sep = '') %>%\n",
    "    filter(YEAR == 11, \n",
    "           AGEGRP==0) %>% \n",
    "    group_by(key) %>%\n",
    "    summarize(n = sum(TOT_POP)) -> us_pop\n",
    "\n",
    "usm %>%\n",
    "    rename(key = origin_county) %>%\n",
    "    filter(date >= as.Date('2020-01-01'), date < as.Date('2020-07-01')) %>%\n",
    "    inner_join(keys) %>%\n",
    "    select(date, key, device_count) -> dc"
   ]
  },
  {
   "cell_type": "code",
   "execution_count": 4,
   "metadata": {},
   "outputs": [
    {
     "name": "stderr",
     "output_type": "stream",
     "text": [
      "Joining, by = c(\"origin_county\", \"destination_county\")\n",
      "\n"
     ]
    }
   ],
   "source": [
    "df %>%\n",
    "    filter(date >= as.Date('2020-01-01'), date < as.Date('2020-07-01')) %>%\n",
    "    mutate(origin_county      = str_pad(origin_county, 5, pad = '0'),\n",
    "           destination_county = str_pad(destination_county, 5, pad = '0')) %>%\n",
    "    inner_join(keys, by = c('origin_county' = 'key')) %>%\n",
    "    inner_join(keys, by = c('destination_county' = 'key')) %>%\n",
    "    left_join(dc, by = c('date', 'origin_county' = 'key')) %>%\n",
    "    left_join(bordering) %>%\n",
    "    mutate(pod = n/device_count,\n",
    "           bordering = replace_na(bordering, 0)) -> df\n",
    "\n",
    "df %>%\n",
    "    group_by(origin_county, destination_county) %>%\n",
    "    summarize(n = sum(n), days = n()) -> dyad_stats"
   ]
  },
  {
   "cell_type": "code",
   "execution_count": 5,
   "metadata": {},
   "outputs": [
    {
     "data": {
      "text/html": [
       "<table>\n",
       "<caption>A tibble: 6 × 3</caption>\n",
       "<thead>\n",
       "\t<tr><th scope=col>days</th><th scope=col>n</th><th scope=col>ecdf</th></tr>\n",
       "\t<tr><th scope=col>&lt;int&gt;</th><th scope=col>&lt;dbl&gt;</th><th scope=col>&lt;dbl&gt;</th></tr>\n",
       "</thead>\n",
       "<tbody>\n",
       "\t<tr><td>182</td><td>6798526481</td><td>0.9622046</td></tr>\n",
       "\t<tr><td>181</td><td>  18312672</td><td>0.9647964</td></tr>\n",
       "\t<tr><td>180</td><td>  10535607</td><td>0.9662875</td></tr>\n",
       "\t<tr><td>179</td><td>   8054580</td><td>0.9674275</td></tr>\n",
       "\t<tr><td>178</td><td>   6265824</td><td>0.9683143</td></tr>\n",
       "\t<tr><td>177</td><td>   5177413</td><td>0.9690471</td></tr>\n",
       "</tbody>\n",
       "</table>\n"
      ],
      "text/latex": [
       "A tibble: 6 × 3\n",
       "\\begin{tabular}{lll}\n",
       " days & n & ecdf\\\\\n",
       " <int> & <dbl> & <dbl>\\\\\n",
       "\\hline\n",
       "\t 182 & 6798526481 & 0.9622046\\\\\n",
       "\t 181 &   18312672 & 0.9647964\\\\\n",
       "\t 180 &   10535607 & 0.9662875\\\\\n",
       "\t 179 &    8054580 & 0.9674275\\\\\n",
       "\t 178 &    6265824 & 0.9683143\\\\\n",
       "\t 177 &    5177413 & 0.9690471\\\\\n",
       "\\end{tabular}\n"
      ],
      "text/markdown": [
       "\n",
       "A tibble: 6 × 3\n",
       "\n",
       "| days &lt;int&gt; | n &lt;dbl&gt; | ecdf &lt;dbl&gt; |\n",
       "|---|---|---|\n",
       "| 182 | 6798526481 | 0.9622046 |\n",
       "| 181 |   18312672 | 0.9647964 |\n",
       "| 180 |   10535607 | 0.9662875 |\n",
       "| 179 |    8054580 | 0.9674275 |\n",
       "| 178 |    6265824 | 0.9683143 |\n",
       "| 177 |    5177413 | 0.9690471 |\n",
       "\n"
      ],
      "text/plain": [
       "  days n          ecdf     \n",
       "1 182  6798526481 0.9622046\n",
       "2 181    18312672 0.9647964\n",
       "3 180    10535607 0.9662875\n",
       "4 179     8054580 0.9674275\n",
       "5 178     6265824 0.9683143\n",
       "6 177     5177413 0.9690471"
      ]
     },
     "metadata": {},
     "output_type": "display_data"
    }
   ],
   "source": [
    "dyad_stats %>%\n",
    "    group_by(days) %>%\n",
    "    summarize(n = sum(n)) %>%\n",
    "    arrange(desc(n)) %>%\n",
    "    mutate(ecdf = cumsum(n)/sum(n)) %>%\n",
    "    head()"
   ]
  },
  {
   "cell_type": "code",
   "execution_count": 6,
   "metadata": {},
   "outputs": [
    {
     "data": {
      "text/html": [
       "<table>\n",
       "<caption>A tibble: 6 × 3</caption>\n",
       "<thead>\n",
       "\t<tr><th scope=col>days</th><th scope=col>n</th><th scope=col>ecdf</th></tr>\n",
       "\t<tr><th scope=col>&lt;int&gt;</th><th scope=col>&lt;dbl&gt;</th><th scope=col>&lt;dbl&gt;</th></tr>\n",
       "</thead>\n",
       "<tbody>\n",
       "\t<tr><td>182</td><td>1182397934</td><td>0.8157595</td></tr>\n",
       "\t<tr><td>181</td><td>  18312672</td><td>0.8283938</td></tr>\n",
       "\t<tr><td>180</td><td>  10535607</td><td>0.8356625</td></tr>\n",
       "\t<tr><td>179</td><td>   8054580</td><td>0.8412195</td></tr>\n",
       "\t<tr><td>178</td><td>   6265824</td><td>0.8455424</td></tr>\n",
       "\t<tr><td>177</td><td>   5177413</td><td>0.8491144</td></tr>\n",
       "</tbody>\n",
       "</table>\n"
      ],
      "text/latex": [
       "A tibble: 6 × 3\n",
       "\\begin{tabular}{lll}\n",
       " days & n & ecdf\\\\\n",
       " <int> & <dbl> & <dbl>\\\\\n",
       "\\hline\n",
       "\t 182 & 1182397934 & 0.8157595\\\\\n",
       "\t 181 &   18312672 & 0.8283938\\\\\n",
       "\t 180 &   10535607 & 0.8356625\\\\\n",
       "\t 179 &    8054580 & 0.8412195\\\\\n",
       "\t 178 &    6265824 & 0.8455424\\\\\n",
       "\t 177 &    5177413 & 0.8491144\\\\\n",
       "\\end{tabular}\n"
      ],
      "text/markdown": [
       "\n",
       "A tibble: 6 × 3\n",
       "\n",
       "| days &lt;int&gt; | n &lt;dbl&gt; | ecdf &lt;dbl&gt; |\n",
       "|---|---|---|\n",
       "| 182 | 1182397934 | 0.8157595 |\n",
       "| 181 |   18312672 | 0.8283938 |\n",
       "| 180 |   10535607 | 0.8356625 |\n",
       "| 179 |    8054580 | 0.8412195 |\n",
       "| 178 |    6265824 | 0.8455424 |\n",
       "| 177 |    5177413 | 0.8491144 |\n",
       "\n"
      ],
      "text/plain": [
       "  days n          ecdf     \n",
       "1 182  1182397934 0.8157595\n",
       "2 181    18312672 0.8283938\n",
       "3 180    10535607 0.8356625\n",
       "4 179     8054580 0.8412195\n",
       "5 178     6265824 0.8455424\n",
       "6 177     5177413 0.8491144"
      ]
     },
     "metadata": {},
     "output_type": "display_data"
    }
   ],
   "source": [
    "dyad_stats %>%\n",
    "    filter(origin_county != destination_county) %>%\n",
    "    group_by(days) %>%\n",
    "    summarize(n = sum(n)) %>%\n",
    "    arrange(desc(n)) %>%\n",
    "    mutate(ecdf = cumsum(n)/sum(n)) %>%\n",
    "    head()"
   ]
  },
  {
   "cell_type": "raw",
   "metadata": {},
   "source": [
    "cases <- read_csv(str_c(fp, 'nyt_covid/us-counties.csv'))\n",
    "keys %>%\n",
    "    left_join(cases %>% rename(key = fips)) %>%\n",
    "    select(key, date, cases) %>%\n",
    "    spread(key = key, value = cases) %>%\n",
    "    gather(key = 'key', value = 'cases', -date) %>%\n",
    "    replace_na(list(cases = 0)) %>%\n",
    "    group_by(key) %>%\n",
    "    mutate(new_cases = cases - lag(cases),\n",
    "           nc_l01 = lead(cases, 1),\n",
    "           nc_l02 = lead(cases, 2),\n",
    "           nc_l03 = lead(cases, 3),\n",
    "           nc_l04 = lead(cases, 4),\n",
    "           nc_l05 = lead(cases, 5), \n",
    "           nc_l06 = lead(cases, 6),\n",
    "           nc_l07 = lead(cases, 7), \n",
    "           nc_l08 = lead(cases, 8), \n",
    "           nc_l09 = lead(cases, 9),\n",
    "           nc_l10 = lead(cases, 10),\n",
    "           nc_l11 = lead(cases, 11),\n",
    "           nc_l12 = lead(cases, 12),\n",
    "           nc_l13 = lead(cases, 13),\n",
    "           nc_l14 = lead(cases, 14)) %>%\n",
    "        filter(date < as.Date('2020-07-01')) -> cases"
   ]
  },
  {
   "cell_type": "raw",
   "metadata": {},
   "source": [
    "df %>%\n",
    "    left_join(cases %>%\n",
    "              select(date, origin_county = key, cases)) -> df"
   ]
  },
  {
   "cell_type": "raw",
   "metadata": {},
   "source": [
    "df %>%\n",
    "    replace_na(list(cases = 0)) %>%\n",
    "    left_join(us_pop %>% rename(origin_county = key, pop = n)) %>%\n",
    "    mutate(cpc = cases/pop) %>%\n",
    "    mutate(bordering = replace_na(bordering, 0)) %>%\n",
    "    filter(origin_county != destination_county) %>%\n",
    "    group_by(date, key = destination_county) %>%\n",
    "    summarize(nocd = sum(n), \n",
    "              nocdb = sum(n * bordering),\n",
    "              ndc = sum(n * cases),\n",
    "              podcase = sum(pod * cpc * pop)) -> nocd"
   ]
  },
  {
   "cell_type": "raw",
   "metadata": {},
   "source": [
    "nocd %>%\n",
    "    left_join(cases) -> nocd\n",
    "\n",
    "nocd[is.na(nocd)] <- 0\n",
    "nocd"
   ]
  },
  {
   "cell_type": "raw",
   "metadata": {},
   "source": [
    "panel %>% \n",
    "    select(key, date, p1sdp, p2shp, p3rop, alter_p1sdp, alter_p2shp, alter_p3rop) %>%\n",
    "    left_join(nocd) -> nocd\n",
    "colnames(nocd)"
   ]
  },
  {
   "cell_type": "raw",
   "metadata": {},
   "source": [
    "nocd %>%\n",
    "    mutate(cluster = str_sub(key, 1, 2)) %>%\n",
    "    left_join(us_pop) -> nocd"
   ]
  },
  {
   "cell_type": "raw",
   "metadata": {},
   "source": [
    "df %>%\n",
    "    mutate(bordering = replace_na(bordering, 0)) %>%\n",
    "    filter(origin_county != destination_county) %>%\n",
    "    group_by(date, key = destination_county) %>%\n",
    "    summarize(nocd = sum(n), nocdb = sum(n * bordering)) -> nocd\n",
    "\n",
    "df %>%\n",
    "    filter(origin_county == destination_county) %>%\n",
    "    select(date, key = destination_county, nicd = n, )\n",
    "\n",
    "write_csv(nocd, str_c(fp, 'PROCESSED_DATA/n_outside_county_devices.csv'))"
   ]
  },
  {
   "cell_type": "code",
   "execution_count": 7,
   "metadata": {},
   "outputs": [
    {
     "name": "stderr",
     "output_type": "stream",
     "text": [
      "Joining, by = c(\"origin_county\", \"destination_county\")\n",
      "\n",
      "Joining, by = c(\"date\", \"origin_county\")\n",
      "\n",
      "Joining, by = c(\"date\", \"destination_county\")\n",
      "\n"
     ]
    }
   ],
   "source": [
    "panel %>%\n",
    "    select(date, key, PRCP, TMAX) -> weather\n",
    "\n",
    "df %>%\n",
    "    inner_join(dyad_stats %>% filter(days == max(days)) %>% select(origin_county, destination_county)) %>%\n",
    "    inner_join(policy %>% \n",
    "               select(date,\n",
    "                      origin_county = key,\n",
    "                      op1 = p1sdp,\n",
    "                      op2 = p2shp,\n",
    "                      op3 = p3rop)) %>%\n",
    "    inner_join(policy %>% \n",
    "               select(date,\n",
    "                      destination_county = key,\n",
    "                      dp1 = p1sdp,\n",
    "                      dp2 = p2shp,\n",
    "                      dp3 = p3rop)) %>% \n",
    "    filter(origin_county != destination_county) -> df"
   ]
  },
  {
   "cell_type": "code",
   "execution_count": 12,
   "metadata": {},
   "outputs": [
    {
     "name": "stderr",
     "output_type": "stream",
     "text": [
      "Joining, by = c(\"date\", \"origin_county\")\n",
      "\n",
      "Joining, by = c(\"date\", \"destination_county\")\n",
      "\n",
      "Joining, by = c(\"origin_county\", \"destination_county\")\n",
      "\n"
     ]
    }
   ],
   "source": [
    "df %>%\n",
    "    rename(ndotd = n, pdotd = pod) %>%\n",
    "    mutate(dyad = str_c(origin_county, '->', destination_county),\n",
    "           origin_cluster = str_sub(origin_county, 1, 2), \n",
    "           destination_cluster = str_sub(destination_county, 1, 2)) %>%\n",
    "    left_join(weather %>%\n",
    "              rename(origin_county = key,\n",
    "                     oPRCP = PRCP,\n",
    "                     oTMAX = TMAX)) %>%\n",
    "    left_join(weather %>%\n",
    "              rename(destination_county = key,\n",
    "                     dPRCP = PRCP,\n",
    "                     dTMAX = TMAX)) %>%\n",
    "    left_join(us_pop, by = c('origin_county' = 'key')) %>%\n",
    "    left_join(distm) %>%\n",
    "    select(date, dyad, origin_cluster, destination_cluster, n, bordering, ndotd, pdotd, dist,\n",
    "           op1, op2, op3, \n",
    "           dp1, dp2, dp3, \n",
    "           oPRCP, oTMAX,\n",
    "           dPRCP, dTMAX) -> df"
   ]
  },
  {
   "cell_type": "code",
   "execution_count": 13,
   "metadata": {},
   "outputs": [],
   "source": [
    "df %>%\n",
    "    select(-op1, -op2, -op3, -dp1, -dp2, -dp3) %>%\n",
    "    bind_cols(as.data.frame(model.matrix(n ~ 0 + (op1 + op2 + op3) * (dp1 + dp2 + dp3), df))) -> df"
   ]
  },
  {
   "cell_type": "code",
   "execution_count": 14,
   "metadata": {},
   "outputs": [],
   "source": [
    "data.table::fwrite(df, str_c(fp, 'PROCESSED_DATA/dyadic_mvmt_2020.csv'))"
   ]
  },
  {
   "cell_type": "code",
   "execution_count": null,
   "metadata": {},
   "outputs": [],
   "source": [
    "df"
   ]
  },
  {
   "cell_type": "code",
   "execution_count": null,
   "metadata": {},
   "outputs": [],
   "source": [
    "fit1 <- felm(log(ood) ~ D_o + D_d | dyad + date | 0 | origin_cluster + destination_cluster, df)\n",
    "summary(fit)$coefs"
   ]
  },
  {
   "cell_type": "code",
   "execution_count": null,
   "metadata": {},
   "outputs": [],
   "source": []
  },
  {
   "cell_type": "code",
   "execution_count": null,
   "metadata": {},
   "outputs": [],
   "source": [
    "fit2 <- felm(log(ood) ~ D_o + D_d | dyad + date | 0 | origin_cluster + destination_cluster, df, weights = df$n)\n",
    "summary(fit)"
   ]
  },
  {
   "cell_type": "code",
   "execution_count": null,
   "metadata": {},
   "outputs": [],
   "source": [
    "fit <- felm(log(ood) ~ D | dyad + date | 0 | origin_cluster + destination_cluster, df)\n",
    "summary(fit)"
   ]
  },
  {
   "cell_type": "code",
   "execution_count": null,
   "metadata": {},
   "outputs": [],
   "source": [
    "df %>%\n",
    "    group_by(D) %>%\n",
    "    tally() %>%\n",
    "    mutate(prop = n/sum(n))"
   ]
  },
  {
   "cell_type": "code",
   "execution_count": null,
   "metadata": {},
   "outputs": [],
   "source": [
    "df %>%\n",
    "    filter(bordering == 1) %>%\n",
    "    group_by(D) %>%\n",
    "    tally() %>%\n",
    "    mutate(prop = n/sum(n))"
   ]
  },
  {
   "cell_type": "code",
   "execution_count": null,
   "metadata": {},
   "outputs": [],
   "source": [
    "fit <- felm(log(ood) ~ D | dyad + date | 0 | origin_cluster + destination_cluster, df %>% filter(bordering == 1))\n",
    "summary(fit)"
   ]
  },
  {
   "cell_type": "code",
   "execution_count": null,
   "metadata": {},
   "outputs": [],
   "source": [
    "as.data.frame(summary(fit)$coef) %>%\n",
    "    mutate(D = rownames(.), \n",
    "           origin_policy = str_sub(D, 3, 4),\n",
    "           destination_policy = str_sub(D, 7, 8)) %>%\n",
    "    ggplot(aes(x = origin_policy, y = destination_policy, fill = Estimate)) + \n",
    "    geom_tile() +\n",
    "    scale_fill_distiller()"
   ]
  },
  {
   "cell_type": "code",
   "execution_count": null,
   "metadata": {},
   "outputs": [],
   "source": [
    "fit <- felm(pod ~ D | dyad + date | 0 | origin_cluster + destination_cluster, df)\n",
    "summary(fit)"
   ]
  },
  {
   "cell_type": "code",
   "execution_count": null,
   "metadata": {},
   "outputs": [],
   "source": [
    "fit <- felm(pod ~ D | dyad + date | 0 | origin_cluster + destination_cluster, df, weights = df$n)\n",
    "summary(fit)"
   ]
  },
  {
   "cell_type": "code",
   "execution_count": null,
   "metadata": {},
   "outputs": [],
   "source": [
    "fit <- felm(log(pod) ~ D_o + D_d | dyad + date | 0 | origin_cluster + destination_cluster, df)\n",
    "summary(fit)"
   ]
  },
  {
   "cell_type": "code",
   "execution_count": null,
   "metadata": {},
   "outputs": [],
   "source": [
    "fit <- felm(log(pod) ~ D_o + D_d | dyad + date | 0 | origin_cluster + destination_cluster, df, weights = df$n)\n",
    "summary(fit)"
   ]
  },
  {
   "cell_type": "code",
   "execution_count": null,
   "metadata": {},
   "outputs": [],
   "source": [
    "library(lfe)"
   ]
  },
  {
   "cell_type": "code",
   "execution_count": null,
   "metadata": {},
   "outputs": [],
   "source": [
    "expand.grid(distinct(df$origin_county), distinct(df$destination_county))\n",
    "df %>%\n",
    "    filter(date == as.Date('2020-02-01')) %>%\n",
    "    mutate(ndotd = n/sd(n),\n",
    "           pdotd = pod/sd(pod)) %>%\n",
    "    select(date, origin_county, destination_county, ndotd, pdotd) %>%\n",
    "    ggplot(aes(x = origin_county, y = desitination_county))"
   ]
  },
  {
   "cell_type": "code",
   "execution_count": null,
   "metadata": {},
   "outputs": [],
   "source": [
    "expand.grid(origin_county = unique(df$origin_county), destination_county = unique(df$destination_county), stringsAsFactors = F) %>%\n",
    "    left_join(df %>%\n",
    "              filter(date == as.Date('2020-02-01'))) %>%\n",
    "    fill(date) %>%\n",
    "    replace_na(list(pod = 0, n = 0)) %>%\n",
    "    mutate(ndotd = n/sd(n),\n",
    "           pdotd = pod/sd(pod)) -> d21"
   ]
  },
  {
   "cell_type": "code",
   "execution_count": null,
   "metadata": {},
   "outputs": [],
   "source": [
    "library(urbnmapr)\n",
    "\n",
    "counties_sf <- get_urbn_map(map = \"counties\", sf = TRUE)"
   ]
  },
  {
   "cell_type": "code",
   "execution_count": null,
   "metadata": {},
   "outputs": [],
   "source": [
    "options(repr.plot.width=5.28, repr.plot.height=3.21)\n",
    "counties_sf %>%\n",
    "    left_join(df %>%\n",
    "              filter(origin_county == '36061', date == as.Date('2020-4-15')), \n",
    "              by = c('county_fips' = 'destination_county')) %>%\n",
    "    ggplot(aes(fill = log(n))) +\n",
    "    geom_sf(size = .1) +\n",
    "    scale_fill_viridis(na.value = 'grey80', limits = c(0, 12)) +  \n",
    "    xlab('') + \n",
    "    ylab('') +\n",
    "    labs(color = \"Outcome\") +\n",
    "    theme_light() +\n",
    "    theme(text = element_text(size=15),\n",
    "          strip.text.y = element_blank(),\n",
    "          legend.position = 'None',\n",
    "          panel.border=element_blank(),\n",
    "          panel.grid.major=element_blank(), ## element_line(colour = \"white\")\n",
    "          panel.grid.minor=element_blank(), ## element_line(colour = \"white\", size = 0.25)\n",
    "          axis.ticks=element_blank(),       ## element_line(colour = \"grey20\")\n",
    "          axis.text=element_blank(),        ## element_text(size = rel(0.8), colour = \"grey30\")\n",
    "          axis.title=element_blank(),      ## axis.title.x = element_text(\n",
    "          plot.margin= grid::unit(c(0, 0, 0, 0), \"in\"))"
   ]
  },
  {
   "cell_type": "code",
   "execution_count": null,
   "metadata": {},
   "outputs": [],
   "source": [
    "options(repr.plot.width=5.28, repr.plot.height=3.21)\n",
    "counties_sf %>%\n",
    "    left_join(df %>%\n",
    "              filter(destination_county == '36061', date == as.Date('2020-4-15')), \n",
    "              by = c('county_fips' = 'origin_county')) %>%\n",
    "    ggplot(aes(fill = log(n))) +\n",
    "    geom_sf(size = .1) +\n",
    "    scale_fill_viridis(na.value = 'grey80', limits = c(0, 12)) +  \n",
    "    xlab('') + \n",
    "    ylab('') +\n",
    "    labs(color = \"Outcome\") +\n",
    "    theme_light() +\n",
    "    theme(text = element_text(size=15),\n",
    "          strip.text.y = element_blank(),\n",
    "          legend.position = 'None',\n",
    "          panel.border=element_blank(),\n",
    "          panel.grid.major=element_blank(), ## element_line(colour = \"white\")\n",
    "          panel.grid.minor=element_blank(), ## element_line(colour = \"white\", size = 0.25)\n",
    "          axis.ticks=element_blank(),       ## element_line(colour = \"grey20\")\n",
    "          axis.text=element_blank(),        ## element_text(size = rel(0.8), colour = \"grey30\")\n",
    "          axis.title=element_blank(),      ## axis.title.x = element_text(\n",
    "          plot.margin= grid::unit(c(0, 0, 0, 0), \"in\"))"
   ]
  },
  {
   "cell_type": "code",
   "execution_count": null,
   "metadata": {},
   "outputs": [],
   "source": [
    "df %>%\n",
    " filter(origin_county == '36061', date == as.Date('2020-2-29')) %>%\n",
    "    summarize(max(n))"
   ]
  },
  {
   "cell_type": "code",
   "execution_count": null,
   "metadata": {},
   "outputs": [],
   "source": [
    "log(80308)"
   ]
  },
  {
   "cell_type": "code",
   "execution_count": null,
   "metadata": {},
   "outputs": [],
   "source": [
    "dyad"
   ]
  },
  {
   "cell_type": "code",
   "execution_count": null,
   "metadata": {},
   "outputs": [],
   "source": []
  }
 ],
 "metadata": {
  "kernelspec": {
   "display_name": "R 3.6",
   "language": "R",
   "name": "ir36"
  },
  "language_info": {
   "codemirror_mode": "r",
   "file_extension": ".r",
   "mimetype": "text/x-r-source",
   "name": "R",
   "pygments_lexer": "r",
   "version": "3.6.3"
  }
 },
 "nbformat": 4,
 "nbformat_minor": 4
}
