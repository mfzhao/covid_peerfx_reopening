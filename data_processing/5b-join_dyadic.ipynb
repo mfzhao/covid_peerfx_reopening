{
 "cells": [
  {
   "cell_type": "code",
   "execution_count": null,
   "metadata": {},
   "outputs": [],
   "source": [
    "library(readr)\n",
    "library(tidyr)\n",
    "library(stringr)\n",
    "library(dplyr)\n",
    "library(lubridate)\n",
    "library(USAboundaries)\n",
    "library(sf)"
   ]
  },
  {
   "cell_type": "code",
   "execution_count": null,
   "metadata": {},
   "outputs": [],
   "source": [
    "fp      <- '/pool001/mfzhao/'\n",
    "keys    <- read_csv(str_c(fp, 'PROCESSED_DATA/keys.csv'))\n",
    "policy  <- read_csv(str_c(fp, 'PROCESSED_DATA/policy.csv'))\n",
    "df      <- read_csv(str_c(fp, 'safegraph/dyadic2020.csv'))\n",
    "us_pop  <- read_csv(str_c(fp, 'geo_data/cc-est2018-alldata.csv'))\n",
    "panel   <- read_rds(str_c(fp, 'PROCESSED_DATA/panel_pre_xgr.RDS'))\n",
    "usm     <- read_csv(str_c(fp, 'safegraph/us_mobility.csv'), \n",
    "                    col_types = cols(\n",
    "                        mhdt = col_double(),\n",
    "                        mnhdt = col_double(),\n",
    "                        mdtfh = col_double()))"
   ]
  },
  {
   "cell_type": "code",
   "execution_count": null,
   "metadata": {},
   "outputs": [],
   "source": [
    "county_sf <- us_counties()\n",
    "\n",
    "as.data.frame(county_sf) %>%\n",
    "    select(-geometry) %>%\n",
    "    mutate(L3 = row_number(),\n",
    "           key = str_c(statefp, countyfp)) %>%\n",
    "    left_join(as.data.frame(st_coordinates(county_sf))) %>%\n",
    "    select(key, X, Y) -> coords\n",
    "\n",
    "coords %>%\n",
    "    inner_join(coords, by = c('X', 'Y')) %>%\n",
    "    filter(key.x != key.y) %>%\n",
    "    select(origin_county = key.x,\n",
    "           destination_county = key.y) %>%\n",
    "    distinct() %>%\n",
    "    mutate(bordering = 1) %>%\n",
    "    arrange(origin_county, destination_county) -> bordering\n",
    "\n",
    "county_sf %>%\n",
    "    st_centroid() %>%\n",
    "    as.data.frame() %>%\n",
    "    mutate(key = str_c(statefp, countyfp)) %>%\n",
    "    select(key, geometry) %>%\n",
    "    arrange(key) -> centroids\n",
    "\n",
    "distm <- data.frame(st_distance(centroids$geometry, centroids$geometry))\n",
    "colnames(distm) <- centroids$key\n",
    "\n",
    "distm %>%\n",
    "    mutate(origin_county = centroids$key) %>%\n",
    "    gather(key = 'destination_county', value = 'dist', -origin_county) %>%\n",
    "    mutate(dist = as.numeric(dist)/1000) %>% \n",
    "    inner_join(keys, by = c('origin_county' = 'key')) %>%\n",
    "    inner_join(keys, by = c('destination_county' = 'key') )-> distm\n",
    "\n",
    "us_pop %>%\n",
    "    unite('key', STATE, COUNTY, sep = '') %>%\n",
    "    filter(YEAR == 11, \n",
    "           AGEGRP==0) %>% \n",
    "    group_by(key) %>%\n",
    "    summarize(n = sum(TOT_POP)) -> us_pop\n",
    "\n",
    "usm %>%\n",
    "    rename(key = origin_county) %>%\n",
    "    filter(date >= as.Date('2020-01-01'), date < as.Date('2020-07-01')) %>%\n",
    "    inner_join(keys) %>%\n",
    "    select(date, key, device_count) -> dc"
   ]
  },
  {
   "cell_type": "code",
   "execution_count": null,
   "metadata": {},
   "outputs": [],
   "source": [
    "df %>%\n",
    "    filter(date >= as.Date('2020-01-01'), date < as.Date('2020-07-01')) %>%\n",
    "    mutate(origin_county      = str_pad(origin_county, 5, pad = '0'),\n",
    "           destination_county = str_pad(destination_county, 5, pad = '0')) %>%\n",
    "    inner_join(keys, by = c('origin_county' = 'key')) %>%\n",
    "    inner_join(keys, by = c('destination_county' = 'key')) %>%\n",
    "    left_join(dc, by = c('date', 'origin_county' = 'key')) %>%\n",
    "    left_join(bordering) %>%\n",
    "    mutate(pod = n/device_count,\n",
    "           bordering = replace_na(bordering, 0)) -> df\n",
    "\n",
    "df %>%\n",
    "    group_by(origin_county, destination_county) %>%\n",
    "    summarize(n = sum(n), days = n()) -> dyad_stats"
   ]
  },
  {
   "cell_type": "code",
   "execution_count": null,
   "metadata": {},
   "outputs": [],
   "source": [
    "dyad_stats %>%\n",
    "    group_by(days) %>%\n",
    "    summarize(n = sum(n)) %>%\n",
    "    arrange(desc(n)) %>%\n",
    "    mutate(ecdf = cumsum(n)/sum(n)) %>%\n",
    "    head()"
   ]
  },
  {
   "cell_type": "code",
   "execution_count": null,
   "metadata": {},
   "outputs": [],
   "source": [
    "dyad_stats %>%\n",
    "    filter(origin_county != destination_county) %>%\n",
    "    group_by(days) %>%\n",
    "    summarize(n = sum(n)) %>%\n",
    "    arrange(desc(n)) %>%\n",
    "    mutate(ecdf = cumsum(n)/sum(n)) %>%\n",
    "    head()"
   ]
  },
  {
   "cell_type": "raw",
   "metadata": {},
   "source": [
    "cases <- read_csv(str_c(fp, 'nyt_covid/us-counties.csv'))\n",
    "keys %>%\n",
    "    left_join(cases %>% rename(key = fips)) %>%\n",
    "    select(key, date, cases) %>%\n",
    "    spread(key = key, value = cases) %>%\n",
    "    gather(key = 'key', value = 'cases', -date) %>%\n",
    "    replace_na(list(cases = 0)) %>%\n",
    "    group_by(key) %>%\n",
    "    mutate(new_cases = cases - lag(cases),\n",
    "           nc_l01 = lead(cases, 1),\n",
    "           nc_l02 = lead(cases, 2),\n",
    "           nc_l03 = lead(cases, 3),\n",
    "           nc_l04 = lead(cases, 4),\n",
    "           nc_l05 = lead(cases, 5), \n",
    "           nc_l06 = lead(cases, 6),\n",
    "           nc_l07 = lead(cases, 7), \n",
    "           nc_l08 = lead(cases, 8), \n",
    "           nc_l09 = lead(cases, 9),\n",
    "           nc_l10 = lead(cases, 10),\n",
    "           nc_l11 = lead(cases, 11),\n",
    "           nc_l12 = lead(cases, 12),\n",
    "           nc_l13 = lead(cases, 13),\n",
    "           nc_l14 = lead(cases, 14)) %>%\n",
    "        filter(date < as.Date('2020-07-01')) -> cases"
   ]
  },
  {
   "cell_type": "raw",
   "metadata": {},
   "source": [
    "df %>%\n",
    "    left_join(cases %>%\n",
    "              select(date, origin_county = key, cases)) -> df"
   ]
  },
  {
   "cell_type": "raw",
   "metadata": {},
   "source": [
    "df %>%\n",
    "    replace_na(list(cases = 0)) %>%\n",
    "    left_join(us_pop %>% rename(origin_county = key, pop = n)) %>%\n",
    "    mutate(cpc = cases/pop) %>%\n",
    "    mutate(bordering = replace_na(bordering, 0)) %>%\n",
    "    filter(origin_county != destination_county) %>%\n",
    "    group_by(date, key = destination_county) %>%\n",
    "    summarize(nocd = sum(n), \n",
    "              nocdb = sum(n * bordering),\n",
    "              ndc = sum(n * cases),\n",
    "              podcase = sum(pod * cpc * pop)) -> nocd"
   ]
  },
  {
   "cell_type": "raw",
   "metadata": {},
   "source": [
    "nocd %>%\n",
    "    left_join(cases) -> nocd\n",
    "\n",
    "nocd[is.na(nocd)] <- 0\n",
    "nocd"
   ]
  },
  {
   "cell_type": "raw",
   "metadata": {},
   "source": [
    "panel %>% \n",
    "    select(key, date, p1sdp, p2shp, p3rop, alter_p1sdp, alter_p2shp, alter_p3rop) %>%\n",
    "    left_join(nocd) -> nocd\n",
    "colnames(nocd)"
   ]
  },
  {
   "cell_type": "raw",
   "metadata": {},
   "source": [
    "nocd %>%\n",
    "    mutate(cluster = str_sub(key, 1, 2)) %>%\n",
    "    left_join(us_pop) -> nocd"
   ]
  },
  {
   "cell_type": "raw",
   "metadata": {},
   "source": [
    "df %>%\n",
    "    mutate(bordering = replace_na(bordering, 0)) %>%\n",
    "    filter(origin_county != destination_county) %>%\n",
    "    group_by(date, key = destination_county) %>%\n",
    "    summarize(nocd = sum(n), nocdb = sum(n * bordering)) -> nocd\n",
    "\n",
    "df %>%\n",
    "    filter(origin_county == destination_county) %>%\n",
    "    select(date, key = destination_county, nicd = n, )\n",
    "\n",
    "write_csv(nocd, str_c(fp, 'PROCESSED_DATA/n_outside_county_devices.csv'))"
   ]
  },
  {
   "cell_type": "code",
   "execution_count": 7,
   "metadata": {},
   "outputs": [],
   "source": [
    "panel %>%\n",
    "    ungroup() %>%\n",
    "    select(date, key, PRCP, TMAX, matches('^prcp..$'), matches('^tmax..$')) -> weather\n",
    "\n",
    "oweather <- weather\n",
    "dweather <- weather\n",
    "\n",
    "owc <- str_c('o', colnames(oweather))\n",
    "owc[1:2] <- c('date', 'origin_county')\n",
    "colnames(oweather) <- owc\n",
    "\n",
    "dwc <- str_c('d', colnames(dweather))\n",
    "dwc[1:2] <- c('date', 'destination_county')\n",
    "colnames(dweather) <- dwc "
   ]
  },
  {
   "cell_type": "code",
   "execution_count": 8,
   "metadata": {},
   "outputs": [
    {
     "name": "stderr",
     "output_type": "stream",
     "text": [
      "Joining, by = c(\"origin_county\", \"destination_county\")\n",
      "\n",
      "Joining, by = c(\"date\", \"origin_county\")\n",
      "\n",
      "Joining, by = c(\"date\", \"destination_county\")\n",
      "\n"
     ]
    }
   ],
   "source": [
    "df %>%\n",
    "    inner_join(dyad_stats %>% filter(days == max(days)) %>% select(origin_county, destination_county)) %>%\n",
    "    inner_join(policy %>% \n",
    "               select(date,\n",
    "                      origin_county = key,\n",
    "                      op1 = p1sdp,\n",
    "                      op2 = p2shp,\n",
    "                      op3 = p3rop)) %>%\n",
    "    inner_join(policy %>% \n",
    "               select(date,\n",
    "                      destination_county = key,\n",
    "                      dp1 = p1sdp,\n",
    "                      dp2 = p2shp,\n",
    "                      dp3 = p3rop)) %>% \n",
    "    filter(origin_county != destination_county) -> df"
   ]
  },
  {
   "cell_type": "code",
   "execution_count": 9,
   "metadata": {},
   "outputs": [],
   "source": [
    "panel %>%\n",
    "    ungroup() %>%\n",
    "    select(key, date, matches('new')) %>%\n",
    "    mutate(as_newcases  = asinh(newcases),\n",
    "           as_newdeaths = asinh(newdeaths),\n",
    "           as_stnewcases  = asinh(stnewcases),\n",
    "           as_stnewdeaths = asinh(stnewdeaths)) -> cd\n",
    "\n",
    "ocd <- cd\n",
    "dcd <- cd\n",
    "\n",
    "ocdc <- str_c('o', colnames(ocd))\n",
    "ocdc[1:2] <- c('origin_county', 'date')\n",
    "colnames(ocd) <- ocdc\n",
    "\n",
    "dcdc <- str_c('d', colnames(dcd))\n",
    "dcdc[1:2] <- c('destination_county', 'date')\n",
    "colnames(dcd) <- dcdc"
   ]
  },
  {
   "cell_type": "code",
   "execution_count": 10,
   "metadata": {},
   "outputs": [
    {
     "name": "stderr",
     "output_type": "stream",
     "text": [
      "Joining, by = c(\"origin_county\", \"destination_county\")\n",
      "\n",
      "Joining, by = c(\"date\", \"origin_county\")\n",
      "\n",
      "Joining, by = c(\"date\", \"destination_county\")\n",
      "\n",
      "Joining, by = c(\"date\", \"origin_county\")\n",
      "\n",
      "Joining, by = c(\"date\", \"destination_county\")\n",
      "\n"
     ]
    }
   ],
   "source": [
    "df %>%\n",
    "    rename(ndotd = n, pdotd = pod) %>%\n",
    "    mutate(dyad = str_c(origin_county, '->', destination_county),\n",
    "           origin_cluster = str_sub(origin_county, 1, 2), \n",
    "           destination_cluster = str_sub(destination_county, 1, 2)) %>%\n",
    "    left_join(us_pop, by = c('origin_county' = 'key')) %>%\n",
    "    left_join(distm) %>%\n",
    "    select(date, dyad, origin_county, destination_county, \n",
    "           origin_cluster, destination_cluster, n, bordering, ndotd, pdotd, dist, \n",
    "           op1, op2, op3, \n",
    "           dp1, dp2, dp3) %>%\n",
    "    left_join(oweather) %>%\n",
    "    left_join(dweather) %>%\n",
    "    left_join(ocd) %>%\n",
    "    left_join(dcd) %>%\n",
    "    select(-origin_county, -destination_county) -> df"
   ]
  },
  {
   "cell_type": "code",
   "execution_count": 11,
   "metadata": {},
   "outputs": [],
   "source": [
    "df %>%\n",
    "    select(-op1, -op2, -op3, -dp1, -dp2, -dp3) %>%\n",
    "    bind_cols(as.data.frame(model.matrix(n ~ 0 + (op1 + op2 + op3) * (dp1 + dp2 + dp3), df))) -> df"
   ]
  },
  {
   "cell_type": "code",
   "execution_count": 12,
   "metadata": {},
   "outputs": [],
   "source": [
    "data.table::fwrite(df, str_c(fp, 'PROCESSED_DATA/dyadic_mvmt_2020.csv'))"
   ]
  },
  {
   "cell_type": "code",
   "execution_count": null,
   "metadata": {},
   "outputs": [],
   "source": []
  }
 ],
 "metadata": {
  "kernelspec": {
   "display_name": "R 3.6",
   "language": "R",
   "name": "ir36"
  },
  "language_info": {
   "codemirror_mode": "r",
   "file_extension": ".r",
   "mimetype": "text/x-r-source",
   "name": "R",
   "pygments_lexer": "r",
   "version": "3.6.3"
  }
 },
 "nbformat": 4,
 "nbformat_minor": 4
}
