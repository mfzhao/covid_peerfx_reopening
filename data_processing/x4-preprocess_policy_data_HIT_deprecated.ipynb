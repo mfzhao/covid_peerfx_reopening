{
 "cells": [
  {
   "cell_type": "code",
   "execution_count": 11,
   "metadata": {},
   "outputs": [],
   "source": [
    "library(dplyr)\n",
    "library(tidyr)\n",
    "library(readr)\n",
    "library(stringr)\n",
    "library(sf)"
   ]
  },
  {
   "cell_type": "code",
   "execution_count": 50,
   "metadata": {},
   "outputs": [
    {
     "data": {
      "text/plain": [
       "<locale>\n",
       "Numbers:  123,456.78\n",
       "Formats:  %AD / %AT\n",
       "Timezone: UTC\n",
       "Encoding: UTF-8\n",
       "<date_names>\n",
       "Days:   Sunday (Sun), Monday (Mon), Tuesday (Tue), Wednesday (Wed), Thursday\n",
       "        (Thu), Friday (Fri), Saturday (Sat)\n",
       "Months: January (Jan), February (Feb), March (Mar), April (Apr), May (May),\n",
       "        June (Jun), July (Jul), August (Aug), September (Sep), October\n",
       "        (Oct), November (Nov), December (Dec)\n",
       "AM/PM:  AM/PM"
      ]
     },
     "metadata": {},
     "output_type": "display_data"
    }
   ],
   "source": [
    "locale()"
   ]
  },
  {
   "cell_type": "code",
   "execution_count": 12,
   "metadata": {},
   "outputs": [
    {
     "name": "stderr",
     "output_type": "stream",
     "text": [
      "Parsed with column specification:\n",
      "cols(\n",
      "  Country = \u001b[31mcol_character()\u001b[39m,\n",
      "  gec = \u001b[31mcol_character()\u001b[39m,\n",
      "  iso2 = \u001b[31mcol_character()\u001b[39m,\n",
      "  iso3 = \u001b[31mcol_character()\u001b[39m\n",
      ")\n",
      "\n",
      "Parsed with column specification:\n",
      "cols(\n",
      "  fips = \u001b[32mcol_double()\u001b[39m,\n",
      "  county_name = \u001b[31mcol_character()\u001b[39m,\n",
      "  state_abbr = \u001b[31mcol_character()\u001b[39m,\n",
      "  state_name = \u001b[31mcol_character()\u001b[39m,\n",
      "  long_name = \u001b[31mcol_character()\u001b[39m,\n",
      "  sumlev = \u001b[32mcol_double()\u001b[39m,\n",
      "  region = \u001b[32mcol_double()\u001b[39m,\n",
      "  division = \u001b[32mcol_double()\u001b[39m,\n",
      "  state = \u001b[32mcol_double()\u001b[39m,\n",
      "  county = \u001b[32mcol_double()\u001b[39m,\n",
      "  crosswalk = \u001b[31mcol_character()\u001b[39m,\n",
      "  region_name = \u001b[31mcol_character()\u001b[39m,\n",
      "  division_name = \u001b[31mcol_character()\u001b[39m\n",
      ")\n",
      "\n"
     ]
    }
   ],
   "source": [
    "fp <- '/pool001/mfzhao/'\n",
    "\n",
    "gec_to_iso <- read_csv(str_c(fp, 'geo_data/gec_to_iso.csv'))\n",
    "as.data.frame(read_rds(str_c(fp, 'geo_data/europe_LRmap.RDS'))) %>%\n",
    "    select(-geometry) -> eu_data\n",
    "fips <- read_csv(str_c(fp, 'geo_data/county_fips_master.csv')) %>%\n",
    "    mutate(fips = as.character(fips)) %>%\n",
    "    select(fips, county_name, state_abbr, state_name) %>%\n",
    "    distinct()\n",
    "\n",
    "policy <- read_csv(str_c(fp, 'policy/hit-covid-longdata.csv'), \n",
    "                   col_types = cols(locality = col_character(), \n",
    "                                    reduced_capacity = col_character(), \n",
    "                                    symp_screening = col_character(), \n",
    "                                    usa_county = col_character(), \n",
    "                                    usa_county_code = col_character(),\n",
    "                                    duration = col_double()))\n",
    "\n",
    "countries <- data.frame(\n",
    "  country = c('AUT', 'BEL', 'BGR', 'HRV', 'CYP', 'CZE', 'DNK', 'EST', 'FIN',\n",
    "              'FRA', 'DEU', 'IRL', 'ITA', 'LVA', 'LIE', 'LTU', 'LUX', 'MLT',\n",
    "              'NLD', 'NOR', 'POL', 'PRT', 'ROU', 'SVK', 'SVN', 'ESP', 'SWE',\n",
    "              'CHE', 'GBR', 'USA'), stringsAsFactors = F)"
   ]
  },
  {
   "cell_type": "code",
   "execution_count": 16,
   "metadata": {},
   "outputs": [
    {
     "name": "stderr",
     "output_type": "stream",
     "text": [
      "Joining, by = \"country\"\n",
      "\n"
     ]
    }
   ],
   "source": [
    "policy %>%\n",
    "    inner_join(countries) -> policy\n",
    "\n",
    "policy %>%\n",
    "    filter(country == 'USA') -> policy_us\n",
    "\n",
    "policy %>%\n",
    "    filter(country != 'USA') %>%\n",
    "    rename(key = usa_county_code) -> policy_eu"
   ]
  },
  {
   "cell_type": "code",
   "execution_count": 48,
   "metadata": {},
   "outputs": [
    {
     "name": "stderr",
     "output_type": "stream",
     "text": [
      "Joining, by = \"country\"\n",
      "\n"
     ]
    }
   ],
   "source": [
    "policy_us %>%\n",
    "    filter(!is.na(locality)) %>%\n",
    "    mutate(usa_county      = ifelse(locality == 'Atlanta', 'Fulton County', usa_county),\n",
    "         usa_county_code = ifelse(locality == 'Atlanta', '13121', usa_county_code),\n",
    "         usa_county      = ifelse(locality == 'City of Jackson', 'Hinds County', usa_county),\n",
    "         usa_county_code = ifelse(locality == 'City of Jackson', '28049', usa_county_code),\n",
    "         usa_county      = ifelse(locality == 'Galveston County', 'Galveston County', usa_county),\n",
    "         usa_county_code = ifelse(locality == 'Galveston County', '48167', usa_county_code),\n",
    "         usa_county      = ifelse(locality == 'Graham County', 'Graham County', usa_county),\n",
    "         usa_county_code = ifelse(locality == 'Graham County', '37075', usa_county_code),\n",
    "         usa_county      = ifelse(locality == 'Hays County', 'Hays County', usa_county),\n",
    "         usa_county_code = ifelse(locality == 'Hays County', '48209', usa_county_code),\n",
    "         usa_county      = ifelse(locality == 'Lauderdale County', 'Lauderdale County', usa_county),\n",
    "         usa_county_code = ifelse(locality == 'Lauderdale County', '1077', usa_county_code),\n",
    "         usa_county      = ifelse(locality == 'Rare County', 'Dare County', usa_county),\n",
    "         usa_county_code = ifelse(locality == 'Rare County', '37055', usa_county_code)) %>%\n",
    "    filter(record_id != 145 & record_id != 146 & record_id != 40) %>%\n",
    "    bind_rows(\n",
    "    policy_us %>% \n",
    "        filter(record_id == 145 | record_id == 146) %>%\n",
    "        uncount(2) %>%\n",
    "        mutate(usa_county = rep(c('Fairbanks North Star Borough', 'Ketchikan Gateway Borough'), 2),\n",
    "             usa_county_code = rep(c('2090', '2130'), 2)),\n",
    "    policy_us %>% \n",
    "        filter(record_id == 40) %>%\n",
    "        uncount(5) %>%\n",
    "        mutate(usa_county = rep(c('Bronx County', 'Kings County', 'New York County', 'Queens County', 'Richmond County'), 2),\n",
    "             usa_county_code = rep(c('36005', '36047', '36061', '36081', '36085'), 2))) %>%\n",
    "    select(country, usa_county_code, intervention_group, date_of_update, status_simp) %>%\n",
    "    mutate(policy_level = 'us_county') -> policy_us_local\n",
    "\n",
    "policy_us %>%\n",
    "    filter(is.na(locality)) %>%\n",
    "    filter(!is.na(usa_county)) %>%\n",
    "    select(country, usa_county_code, intervention_group, date_of_update, status_simp) %>%\n",
    "    mutate(policy_level = 'us_county')-> policy_us_county\n",
    "\n",
    "fips %>%\n",
    "    select(state_name, state_abbr, fips) %>%\n",
    "    left_join(policy_us %>%\n",
    "              filter(is.na(locality)) %>%\n",
    "              filter(is.na(usa_county)), by = c('state_name' = 'admin1_name')) %>%\n",
    "    mutate(usa_county_code = as.character(fips),\n",
    "         policy_level = 'us_state') %>%\n",
    "    select(country, usa_county_code, intervention_group, date_of_update, status_simp, policy_level) -> policy_us_state\n",
    "\n",
    "fips %>%\n",
    "  mutate(country = 'USA') %>%\n",
    "  left_join(policy_us %>% filter(national_entry == 'Yes')) %>%\n",
    "  mutate(usa_county_code = as.character(fips),\n",
    "         policy_level = 'us_national') %>%\n",
    "  select(country, usa_county_code, intervention_group, date_of_update, status_simp, policy_level) -> policy_us_national\n",
    "\n",
    "bind_rows(policy_us_local, policy_us_county, policy_us_state, policy_us_national) %>%\n",
    "  rename(key = usa_county_code) %>%\n",
    "  distinct() -> policy_us"
   ]
  },
  {
   "cell_type": "code",
   "execution_count": 30,
   "metadata": {},
   "outputs": [
    {
     "name": "stderr",
     "output_type": "stream",
     "text": [
      "Warning message in cbind(parts$left, ellip_h, parts$right, deparse.level = 0L):\n",
      "“number of rows of result is not a multiple of vector length (arg 2)”\n",
      "Warning message in cbind(parts$left, ellip_h, parts$right, deparse.level = 0L):\n",
      "“number of rows of result is not a multiple of vector length (arg 2)”\n",
      "Warning message in cbind(parts$left, ellip_h, parts$right, deparse.level = 0L):\n",
      "“number of rows of result is not a multiple of vector length (arg 2)”\n",
      "Warning message in cbind(parts$left, ellip_h, parts$right, deparse.level = 0L):\n",
      "“number of rows of result is not a multiple of vector length (arg 2)”\n"
     ]
    },
    {
     "data": {
      "text/html": [
       "<table>\n",
       "<caption>A spec_tbl_df: 0 × 29</caption>\n",
       "<thead>\n",
       "\t<tr><th scope=col>unique_id</th><th scope=col>record_id</th><th scope=col>update</th><th scope=col>entry_time</th><th scope=col>national_entry</th><th scope=col>country</th><th scope=col>country_name</th><th scope=col>admin1</th><th scope=col>admin1_name</th><th scope=col>locality</th><th scope=col>⋯</th><th scope=col>reduced_capacity</th><th scope=col>symp_screening</th><th scope=col>enforcement</th><th scope=col>size</th><th scope=col>duration</th><th scope=col>testing_population</th><th scope=col>details</th><th scope=col>url</th><th scope=col>source_document_url</th><th scope=col>entry_quality</th></tr>\n",
       "\t<tr><th scope=col>&lt;chr&gt;</th><th scope=col>&lt;dbl&gt;</th><th scope=col>&lt;chr&gt;</th><th scope=col>&lt;dttm&gt;</th><th scope=col>&lt;chr&gt;</th><th scope=col>&lt;chr&gt;</th><th scope=col>&lt;chr&gt;</th><th scope=col>&lt;chr&gt;</th><th scope=col>&lt;chr&gt;</th><th scope=col>&lt;chr&gt;</th><th scope=col>⋯</th><th scope=col>&lt;chr&gt;</th><th scope=col>&lt;chr&gt;</th><th scope=col>&lt;chr&gt;</th><th scope=col>&lt;dbl&gt;</th><th scope=col>&lt;dbl&gt;</th><th scope=col>&lt;chr&gt;</th><th scope=col>&lt;chr&gt;</th><th scope=col>&lt;chr&gt;</th><th scope=col>&lt;chr&gt;</th><th scope=col>&lt;chr&gt;</th></tr>\n",
       "</thead>\n",
       "<tbody>\n",
       "</tbody>\n",
       "</table>\n"
      ],
      "text/latex": [
       "A spec\\_tbl\\_df: 0 × 29\n",
       "\\begin{tabular}{lllllllllllllllllllll}\n",
       " unique\\_id & record\\_id & update & entry\\_time & national\\_entry & country & country\\_name & admin1 & admin1\\_name & locality & ⋯ & reduced\\_capacity & symp\\_screening & enforcement & size & duration & testing\\_population & details & url & source\\_document\\_url & entry\\_quality\\\\\n",
       " <chr> & <dbl> & <chr> & <dttm> & <chr> & <chr> & <chr> & <chr> & <chr> & <chr> & ⋯ & <chr> & <chr> & <chr> & <dbl> & <dbl> & <chr> & <chr> & <chr> & <chr> & <chr>\\\\\n",
       "\\hline\n",
       "\\end{tabular}\n"
      ],
      "text/markdown": [
       "\n",
       "A spec_tbl_df: 0 × 29\n",
       "\n",
       "| unique_id &lt;chr&gt; | record_id &lt;dbl&gt; | update &lt;chr&gt; | entry_time &lt;dttm&gt; | national_entry &lt;chr&gt; | country &lt;chr&gt; | country_name &lt;chr&gt; | admin1 &lt;chr&gt; | admin1_name &lt;chr&gt; | locality &lt;chr&gt; | ⋯ ⋯ | reduced_capacity &lt;chr&gt; | symp_screening &lt;chr&gt; | enforcement &lt;chr&gt; | size &lt;dbl&gt; | duration &lt;dbl&gt; | testing_population &lt;chr&gt; | details &lt;chr&gt; | url &lt;chr&gt; | source_document_url &lt;chr&gt; | entry_quality &lt;chr&gt; |\n",
       "|---|---|---|---|---|---|---|---|---|---|---|---|---|---|---|---|---|---|---|---|---|\n",
       "\n"
      ],
      "text/plain": [
       "     unique_id record_id update entry_time national_entry country country_name\n",
       "     admin1 admin1_name locality ⋯ reduced_capacity symp_screening enforcement\n",
       "     size duration testing_population details url source_document_url\n",
       "     entry_quality"
      ]
     },
     "metadata": {},
     "output_type": "display_data"
    }
   ],
   "source": [
    "policy_us %>%\n",
    "    filter(is.na(admin1_name), national_entry == 'No')"
   ]
  },
  {
   "cell_type": "code",
   "execution_count": 5,
   "metadata": {},
   "outputs": [
    {
     "name": "stderr",
     "output_type": "stream",
     "text": [
      "Joining, by = \"admin1_name\"\n",
      "\n",
      "Joining, by = \"CNTR_CODE\"\n",
      "\n",
      "Joining, by = \"country\"\n",
      "\n"
     ]
    }
   ],
   "source": [
    "policy_eu %>%\n",
    "    filter(!is.na(locality)) %>%\n",
    "    mutate(key = ifelse(locality == 'Tandarei', 'RO315', key),\n",
    "           key = ifelse(str_detect(locality, 'Bertonico'), 'ITC49', key),\n",
    "           key = ifelse(locality == 'Istarska (county)', 'HR036', key),\n",
    "           key = ifelse(locality == 'Isle of Wight', 'UKJ34', key),\n",
    "           key = ifelse(locality == 'Oise', 'FRE22', key),\n",
    "           key = ifelse(locality == 'Morbihan', 'FREH04', key),\n",
    "           key = ifelse(locality == 'Ajaccio', 'FRM01', key)) %>%\n",
    "    filter(record_id != 2528) %>%\n",
    "    bind_rows(policy_eu %>%\n",
    "              filter(record_id == 2528) %>%\n",
    "              uncount(2) %>%\n",
    "              mutate(key = rep(c('FRF11', 'FRF12'), 3))) %>%\n",
    "    filter(!is.na(key)) %>%\n",
    "    mutate(policy_level = 'eu_local') %>%\n",
    "    select(country, key, intervention_group, date_of_update, status_simp, policy_level) -> policy_eu_local\n",
    "\n",
    "getNUTS3 <- function(nm, ptrn) {\n",
    "  eu_data %>%\n",
    "    filter(str_detect(NUTS_ID, ptrn)) %>%\n",
    "    filter(LEVL_CODE == 3) %>%\n",
    "    select(NUTS_ID) %>%\n",
    "    mutate(admin1_name = nm) -> out\n",
    "  return(out)\n",
    "}\n",
    "\n",
    "bind_rows(\n",
    "    getNUTS3('Basel-Stadt', '^CH031'),\n",
    "    getNUTS3('Vaud', '^CH011'),\n",
    "    getNUTS3('Valais', '^CH012'),\n",
    "    getNUTS3('Z\"urich', '^CH040'),\n",
    "    getNUTS3('Aargau', '^CH033'),\n",
    "    getNUTS3('Appenzell Innerrhoden', '^CH054'),\n",
    "    getNUTS3('Bern', '^CH021'),\n",
    "    getNUTS3('Gen`eve', '^CH013'),\n",
    "    getNUTS3('Jura', '^CH025'),\n",
    "    getNUTS3('Neuch^atel', '^CH024'),\n",
    "    getNUTS3('Baden-W\"urttemberg', '^DE1'),\n",
    "    getNUTS3('Berlin', '^DE3'),\n",
    "    getNUTS3('Brandenburg', '^DE4'),\n",
    "    getNUTS3('Sachsen', '^DED'),\n",
    "    getNUTS3('Midtjylland', '^DK04'),\n",
    "    getNUTS3('Nordjylland', '^DK05'),\n",
    "    getNUTS3('Syddanmark', '^DK03'),\n",
    "    getNUTS3('La Rioja', '^ES230'),\n",
    "    getNUTS3(\"Regi'on de Murcia\", '^ES620'),\n",
    "    getNUTS3(\"Pa'is Vasco\", '^ES21'),\n",
    "    getNUTS3('Galicia', '^ES11'),\n",
    "    getNUTS3('Comunidad de Madrid', '^ES300'),\n",
    "    getNUTS3('England', '^UK[CDEFGHIJK]'),\n",
    "    getNUTS3('Northern Ireland', '^UKN'),\n",
    "    getNUTS3('Scotland', '^UKM'),\n",
    "    getNUTS3('Wales', '^UKL'),\n",
    "    getNUTS3('Carlow', '^IE052'),\n",
    "    getNUTS3('Cavan', '^IE041'),\n",
    "    getNUTS3('Donegal', '^IE041'),\n",
    "    getNUTS3('Clare', '^IE051'),\n",
    "    getNUTS3('Cork', '^IE053'),\n",
    "    getNUTS3('Galway', '^IE042'),\n",
    "    getNUTS3('Kerry', '^IE053'),\n",
    "    getNUTS3('Lombardia', '^ITC4'),\n",
    "    getNUTS3('Abruzzo', '^ITF1'),\n",
    "    getNUTS3('Liguria', '^ITC3'),\n",
    "    getNUTS3('Piemonte', '^ITC1'),\n",
    "    getNUTS3('Trentino-Alto Adige', '^ITD[12]'),\n",
    "    getNUTS3('Friuli-Venezia Giulia', '^ITD4'),\n",
    "    getNUTS3('Apulia', '^ITF4'),\n",
    "    getNUTS3('Basilicata', '^ITF5'),\n",
    "    getNUTS3('Calabria', '^ITF6'),\n",
    "    getNUTS3('Campania', '^ITF3'),\n",
    "    getNUTS3('Emilia-Romagna', '^ITD5'),\n",
    "    getNUTS3('Veneto', '^ITD3'),\n",
    "    getNUTS3('Toscana', '^ITE1'),\n",
    "    getNUTS3(\"Valle d'Aosta\", '^ITC2'),\n",
    "    getNUTS3('Umbria', '^ITE2'),\n",
    "    getNUTS3('Schellenberg', '^LI000'),\n",
    "    getNUTS3('Mauren', '^LI000'),\n",
    "    getNUTS3('Noord-Brabant', '^NL41'),\n",
    "    getNUTS3('Suceava', '^RO215')) %>% \n",
    "    left_join(policy_eu %>%\n",
    "              filter(is.na(locality)) %>%\n",
    "              filter(!is.na(admin1_name))) %>%\n",
    "    mutate(key = ifelse(is.na(key), NUTS_ID, key)) %>%\n",
    "    mutate(policy_level = 'eu_admin1') %>%\n",
    "    select(country, key, intervention_group, date_of_update, status_simp, policy_level) -> policy_eu_admin1\n",
    "\n",
    "countries %>%\n",
    "    inner_join(gec_to_iso, by = c('country' = 'iso3')) %>%\n",
    "    select(country, CNTR_CODE = iso2) %>%\n",
    "    inner_join(eu_data) %>%\n",
    "    filter(LEVL_CODE == 3) %>%\n",
    "    select(country, NUTS_ID) %>%\n",
    "    left_join(policy_eu %>% filter(national_entry == 'Yes')) %>%\n",
    "    mutate(key = ifelse(is.na(key), NUTS_ID, key),\n",
    "           policy_level = 'eu_national') %>%\n",
    "    select(country, key, intervention_group, date_of_update, status_simp, policy_level) -> policy_eu_national\n",
    "\n",
    "bind_rows(policy_eu_local, policy_eu_admin1, policy_eu_national) %>%\n",
    "    distinct() -> policy_eu"
   ]
  },
  {
   "cell_type": "code",
   "execution_count": 6,
   "metadata": {},
   "outputs": [],
   "source": [
    "bind_rows(policy_eu, policy_us) %>%\n",
    "    filter(!is.na(intervention_group), !is.na(status_simp), status_simp != 'Unknown') %>%\n",
    "    inner_join(gec_to_iso, by = c('country' = 'iso3')) %>%\n",
    "    select(country = iso2, key, intervention_group, date = date_of_update, status_simp, policy_level) %>%\n",
    "    mutate(key = str_pad(key, 5, pad = '0')) -> policy\n",
    "\n",
    "write_csv(policy, str_c(fp, 'PROCESSED_DATA/policy_dates_and_levels.csv'))"
   ]
  },
  {
   "cell_type": "code",
   "execution_count": 7,
   "metadata": {},
   "outputs": [],
   "source": [
    "policy %>%\n",
    "    mutate(status = ifelse(status_simp == 'Strongly Implemented', 1, \n",
    "                           ifelse(status_simp == 'Partially Implemented', 0.5, 0))) %>%\n",
    "    group_by(country, key, intervention_group, date) %>%\n",
    "    summarize(status = min(status)) %>%\n",
    "    spread(key = 'intervention_group', value = 'status') %>%\n",
    "    ungroup() %>%\n",
    "    select(-country) -> policy"
   ]
  },
  {
   "cell_type": "code",
   "execution_count": 8,
   "metadata": {
    "scrolled": true
   },
   "outputs": [
    {
     "name": "stderr",
     "output_type": "stream",
     "text": [
      "Joining, by = c(\"key\", \"date\")\n",
      "\n"
     ]
    }
   ],
   "source": [
    "expand.grid(key = unique(policy$key), \n",
    "            date = seq.Date(as.Date('2020-01-01'), as.Date('2020-05-31'), 'day'), \n",
    "            stringsAsFactors = F) %>%\n",
    "    left_join(policy) %>%\n",
    "    group_by(key) %>%\n",
    "    fill('closed_border', 'contact_tracing', 'enforcement_deployed', 'entertainment_closed', 'household_confined', 'limited_mvt', 'mask', \n",
    "         'nursing_home_closed', 'office_closed', 'public_space_closed', 'public_transport_closed', 'quar_iso', 'religion_closed', \n",
    "         'restaurant_closed', 'school_closed', 'social_group_limits', 'state_of_emergency', 'store_closed', 'symp_screening', \n",
    "         'testing_asymp', 'testing_symp') %>%\n",
    "    replace_na(list(closed_border = 0, contact_tracing = 0, enforcement_deployed = 0, entertainment_closed = 0, household_confined = 0, \n",
    "                    limited_mvt= 0, mask= 0, nursing_home_closed = 0, office_closed = 0, public_space_closed = 0, public_transport_closed = 0,\n",
    "                    quar_iso = 0, religion_closed = 0, restaurant_closed = 0, school_closed = 0, social_group_limits = 0, state_of_emergency = 0,\n",
    "                    store_closed = 0, symp_screening = 0, testing_asymp = 0, testing_symp = 0)) -> policy\n",
    "\n",
    "write_csv(policy, str_c(fp, 'PROCESSED_DATA/policy_full.csv'))"
   ]
  },
  {
   "cell_type": "code",
   "execution_count": null,
   "metadata": {},
   "outputs": [],
   "source": []
  }
 ],
 "metadata": {
  "kernelspec": {
   "display_name": "R 3.6",
   "language": "R",
   "name": "ir36"
  },
  "language_info": {
   "codemirror_mode": "r",
   "file_extension": ".r",
   "mimetype": "text/x-r-source",
   "name": "R",
   "pygments_lexer": "r",
   "version": "3.6.3"
  }
 },
 "nbformat": 4,
 "nbformat_minor": 2
}
