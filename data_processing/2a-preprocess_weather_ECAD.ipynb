{
 "cells": [
  {
   "cell_type": "code",
   "execution_count": 1,
   "metadata": {},
   "outputs": [
    {
     "name": "stderr",
     "output_type": "stream",
     "text": [
      "\n",
      "Attaching package: ‘dplyr’\n",
      "\n",
      "\n",
      "The following objects are masked from ‘package:stats’:\n",
      "\n",
      "    filter, lag\n",
      "\n",
      "\n",
      "The following objects are masked from ‘package:base’:\n",
      "\n",
      "    intersect, setdiff, setequal, union\n",
      "\n",
      "\n",
      "Loading required package: foreach\n",
      "\n",
      "Loading required package: iterators\n",
      "\n",
      "Loading required package: parallel\n",
      "\n"
     ]
    }
   ],
   "source": [
    "library(readr)\n",
    "library(dplyr)\n",
    "library(tidyr)"
   ]
  },
  {
   "cell_type": "code",
   "execution_count": 2,
   "metadata": {},
   "outputs": [
    {
     "name": "stderr",
     "output_type": "stream",
     "text": [
      "Parsed with column specification:\n",
      "cols(\n",
      "  X1 = \u001b[32mcol_double()\u001b[39m,\n",
      "  X2 = \u001b[32mcol_double()\u001b[39m,\n",
      "  X3 = \u001b[32mcol_double()\u001b[39m,\n",
      "  X4 = \u001b[32mcol_double()\u001b[39m,\n",
      "  X5 = \u001b[32mcol_double()\u001b[39m\n",
      ")\n",
      "\n",
      "Parsed with column specification:\n",
      "cols(\n",
      "  X1 = \u001b[32mcol_double()\u001b[39m,\n",
      "  X2 = \u001b[32mcol_double()\u001b[39m,\n",
      "  X3 = \u001b[32mcol_double()\u001b[39m,\n",
      "  X4 = \u001b[32mcol_double()\u001b[39m,\n",
      "  X5 = \u001b[32mcol_double()\u001b[39m\n",
      ")\n",
      "\n"
     ]
    }
   ],
   "source": [
    "### Reading in Data\n",
    "fp <- '/pool001/mfzhao/'\n",
    "prcp <- read_csv(str_c(fp, \"ECAD/prcp.txt\"), col_names = F)\n",
    "tmax <- read_csv(str_c(fp, \"ECAD/tmax.txt\"), col_names = F)"
   ]
  },
  {
   "cell_type": "code",
   "execution_count": 3,
   "metadata": {},
   "outputs": [
    {
     "name": "stderr",
     "output_type": "stream",
     "text": [
      "Joining, by = c(\"STAID\", \"DATE\")\n",
      "\n"
     ]
    }
   ],
   "source": [
    "colnames(prcp) <- c('STAID', 'SOUID', 'DATE', 'PRCP', 'Q_PRCP')\n",
    "colnames(tmax) <- c('STAID', 'SOUID', 'DATE', 'TMAX', 'Q_TMAX')\n",
    "\n",
    "prcp %>% \n",
    "    filter(DATE >= 20100101, Q_PRCP == 0) %>%\n",
    "    select(-SOUID, -Q_PRCP) %>%\n",
    "    full_join(tmax %>% \n",
    "              filter(DATE >= 20100101, Q_TMAX == 0) %>%\n",
    "              select(-SOUID, -Q_TMAX)) -> weather"
   ]
  },
  {
   "cell_type": "code",
   "execution_count": 4,
   "metadata": {},
   "outputs": [],
   "source": [
    "write_csv(weather, str_c(fp, 'PROCESSED_DATA/ecad_weather.csv'))"
   ]
  },
  {
   "cell_type": "code",
   "execution_count": 5,
   "metadata": {},
   "outputs": [
    {
     "name": "stderr",
     "output_type": "stream",
     "text": [
      "Parsed with column specification:\n",
      "cols(\n",
      "  STAID = \u001b[32mcol_double()\u001b[39m,\n",
      "  STANAME = \u001b[31mcol_character()\u001b[39m,\n",
      "  CN = \u001b[31mcol_character()\u001b[39m,\n",
      "  LAT = \u001b[31mcol_character()\u001b[39m,\n",
      "  LON = \u001b[31mcol_character()\u001b[39m,\n",
      "  HGHT = \u001b[32mcol_double()\u001b[39m\n",
      ")\n",
      "\n"
     ]
    }
   ],
   "source": [
    "stations <- read_csv('/pool001/mfzhao/ECAD/stations.txt', skip = 17)\n",
    "\n",
    "stations %>% \n",
    "    separate(LAT, sep = ':', into = c('lat1', 'lat2', 'lat3')) %>%\n",
    "    separate(LON, sep = ':', into = c('lon1', 'lon2', 'lon3')) %>%\n",
    "    mutate(lat1 = as.numeric(lat1),\n",
    "           lat2 = as.numeric(lat2),\n",
    "           lat3 = as.numeric(lat3),\n",
    "           lon1 = as.numeric(lon1),\n",
    "           lon2 = as.numeric(lon2),\n",
    "           lon3 = as.numeric(lon3),\n",
    "           lat = ifelse(lat1 >=0, lat1 + lat2/60 + lat3/3600, lat1 - lat2/60 - lat3/3600),\n",
    "           lng = ifelse(lon1 >=0, lon1 + lon2/60 + lon3/3600, lon1 - lon2/60 - lon3/3600)) %>%\n",
    "    select(STAID, STANAME, CN, lat, lng) -> stations"
   ]
  },
  {
   "cell_type": "code",
   "execution_count": 6,
   "metadata": {},
   "outputs": [],
   "source": [
    "write_csv(stations, str_c(fp, 'PROCESSED_DATA/ecad_stations.csv'))"
   ]
  },
  {
   "cell_type": "code",
   "execution_count": null,
   "metadata": {},
   "outputs": [],
   "source": []
  }
 ],
 "metadata": {
  "kernelspec": {
   "display_name": "R 3.6",
   "language": "R",
   "name": "ir36"
  },
  "language_info": {
   "codemirror_mode": "r",
   "file_extension": ".r",
   "mimetype": "text/x-r-source",
   "name": "R",
   "pygments_lexer": "r",
   "version": "3.6.3"
  }
 },
 "nbformat": 4,
 "nbformat_minor": 2
}
