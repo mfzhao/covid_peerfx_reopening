{
 "cells": [
  {
   "cell_type": "code",
   "execution_count": 3,
   "metadata": {},
   "outputs": [],
   "source": [
    "library(readr)\n",
    "library(dplyr)\n",
    "library(tidyr)"
   ]
  },
  {
   "cell_type": "code",
   "execution_count": 4,
   "metadata": {},
   "outputs": [],
   "source": [
    "### Reading in Data\n",
    "fp <- '/pool001/mfzhao/'\n",
    "weather <- foreach(year = 2010:2020, .combine = 'bind_rows') %dopar% \n",
    "    read_csv(str_c(fp, 'GHCN/', year, '.csv'), \n",
    "             col_names = c(\"STAID\", \"DATE\", \"type\", \"value\", \"X1\", \"X2\", \"SFLAG1\", \"Time\"),\n",
    "             col_types = cols(\n",
    "                 STAID = col_character(),\n",
    "                 DATE = col_double(),\n",
    "                 type = col_character(),\n",
    "                 value = col_double(),\n",
    "                 X1 = col_character(),\n",
    "                 X2 = col_character(),\n",
    "                 SFLAG1 = col_character(),\n",
    "                 Time = col_character()\n",
    "             ))"
   ]
  },
  {
   "cell_type": "code",
   "execution_count": 5,
   "metadata": {},
   "outputs": [],
   "source": [
    "weather %>%\n",
    "    filter(type == 'TMAX' | type == 'PRCP') %>%\n",
    "    select(STAID, DATE, type, value) %>%\n",
    "    spread(key = type, value = value) -> weather"
   ]
  },
  {
   "cell_type": "code",
   "execution_count": 6,
   "metadata": {},
   "outputs": [
    {
     "ename": "ERROR",
     "evalue": "Error in is.data.frame(x): object 'stations' not found\n",
     "output_type": "error",
     "traceback": [
      "Error in is.data.frame(x): object 'stations' not found\nTraceback:\n",
      "1. write_csv(stations, str_c(fp, \"PROCESSED_DATA/ghcn_stations.csv\"))",
      "2. write_delim(x, path, delim = \",\", na = na, append = append, col_names = col_names, \n .     quote_escape = quote_escape)",
      "3. stopifnot(is.data.frame(x))",
      "4. is.data.frame(x)"
     ]
    }
   ],
   "source": [
    "write_csv(weather, str_c(fp, 'PROCESSED_DATA/ghcn_weather.csv'))\n",
    "\n",
    "write_csv(stations, str_c(fp, 'PROCESSED_DATA/ghcn_stations.csv'))"
   ]
  },
  {
   "cell_type": "code",
   "execution_count": null,
   "metadata": {
    "scrolled": true
   },
   "outputs": [],
   "source": [
    "fp <- '/pool001/mfzhao/'\n",
    "stations <- read.fwf(str_c(fp, \"GHCN/ghcnd-stations.txt\"), widths = c(11,9,10,7,3,31,4,4,6), \n",
    "                     comment.char=\"\", stringsAsFactors = F)\n",
    "colnames(stations) <- c(\"STAID\", \"lat\", \"lng\", \"elev\", \"state\", \"STANAME\", \"GSN\", \"HCN/CRN\", \"WMO\")\n",
    "\n",
    "stations %>%\n",
    "    select(STAID, STANAME, lat, lng) -> stations"
   ]
  },
  {
   "cell_type": "code",
   "execution_count": null,
   "metadata": {},
   "outputs": [],
   "source": [
    "gec_to_iso <- read_csv(str_c(fp, 'geo_data/gec_to_iso.csv'))\n",
    "\n",
    "stations %>%\n",
    "    mutate(gec = str_sub(STAID, 1, 2)) %>%\n",
    "    left_join(gec_to_iso) %>%\n",
    "    select(STAID, STANAME, CN = iso2, lat, lng) -> stations\n",
    "\n",
    "write_csv(stations, str_c(fp, 'PROCESSED_DATA/ghcn_stations.csv'))"
   ]
  },
  {
   "cell_type": "code",
   "execution_count": null,
   "metadata": {},
   "outputs": [],
   "source": []
  }
 ],
 "metadata": {
  "kernelspec": {
   "display_name": "R 3.6",
   "language": "R",
   "name": "ir36"
  },
  "language_info": {
   "codemirror_mode": "r",
   "file_extension": ".r",
   "mimetype": "text/x-r-source",
   "name": "R",
   "pygments_lexer": "r",
   "version": "3.6.3"
  }
 },
 "nbformat": 4,
 "nbformat_minor": 2
}
