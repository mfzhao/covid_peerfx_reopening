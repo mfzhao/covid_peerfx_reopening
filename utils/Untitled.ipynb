{
 "cells": [
  {
   "cell_type": "code",
   "execution_count": 1,
   "metadata": {},
   "outputs": [
    {
     "name": "stderr",
     "output_type": "stream",
     "text": [
      "\n",
      "Attaching package: ‘dplyr’\n",
      "\n",
      "\n",
      "The following objects are masked from ‘package:stats’:\n",
      "\n",
      "    filter, lag\n",
      "\n",
      "\n",
      "The following objects are masked from ‘package:base’:\n",
      "\n",
      "    intersect, setdiff, setequal, union\n",
      "\n",
      "\n"
     ]
    }
   ],
   "source": [
    "library(readr)\n",
    "library(dplyr)\n",
    "library(tidyr)\n",
    "library(stringr)"
   ]
  },
  {
   "cell_type": "code",
   "execution_count": 2,
   "metadata": {},
   "outputs": [],
   "source": [
    "weightedAlters <- function(df, wm, ...) {\n",
    "    df %>% \n",
    "        select(date, key, ...) %>%\n",
    "        spread(key = key, value = ...) %>%\n",
    "        ungroup() %>%\n",
    "        select(-date) %>%\n",
    "        as.matrix() -> txn_data\n",
    "    \n",
    "    df %>%\n",
    "        ungroup() %>%\n",
    "        select(date) %>%\n",
    "        distinct() %>%\n",
    "        arrange(date) -> dates\n",
    "    \n",
    "    outMatrix <- tcrossprod(txn_data, wm)\n",
    "    colnames(outMatrix) <- colnames(txn_data)\n",
    "    \n",
    "    data.frame(dates, outMatrix) %>%\n",
    "        gather(key = 'key', value = 'value', -date) %>%\n",
    "        arrange(date, key) %>%\n",
    "        select(-date, -key) -> out_df\n",
    "    return(out_df$value)\n",
    "}"
   ]
  },
  {
   "cell_type": "code",
   "execution_count": null,
   "metadata": {},
   "outputs": [],
   "source": []
  }
 ],
 "metadata": {
  "kernelspec": {
   "display_name": "R 3.6",
   "language": "R",
   "name": "ir36"
  },
  "language_info": {
   "codemirror_mode": "r",
   "file_extension": ".r",
   "mimetype": "text/x-r-source",
   "name": "R",
   "pygments_lexer": "r",
   "version": "3.6.3"
  }
 },
 "nbformat": 4,
 "nbformat_minor": 2
}
