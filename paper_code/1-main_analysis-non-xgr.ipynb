{
 "cells": [
  {
   "cell_type": "code",
   "execution_count": 1,
   "metadata": {},
   "outputs": [
    {
     "name": "stderr",
     "output_type": "stream",
     "text": [
      "\n",
      "Attaching package: ‘dplyr’\n",
      "\n",
      "\n",
      "The following objects are masked from ‘package:stats’:\n",
      "\n",
      "    filter, lag\n",
      "\n",
      "\n",
      "The following objects are masked from ‘package:base’:\n",
      "\n",
      "    intersect, setdiff, setequal, union\n",
      "\n",
      "\n",
      "Loading required package: Matrix\n",
      "\n",
      "\n",
      "Attaching package: ‘lubridate’\n",
      "\n",
      "\n",
      "The following objects are masked from ‘package:dplyr’:\n",
      "\n",
      "    intersect, setdiff, union\n",
      "\n",
      "\n",
      "The following objects are masked from ‘package:base’:\n",
      "\n",
      "    date, intersect, setdiff, union\n",
      "\n",
      "\n",
      "Loading required package: foreach\n",
      "\n",
      "Loading required package: iterators\n",
      "\n",
      "Loading required package: parallel\n",
      "\n",
      "\n",
      "Attaching package: ‘gridExtra’\n",
      "\n",
      "\n",
      "The following object is masked from ‘package:dplyr’:\n",
      "\n",
      "    combine\n",
      "\n",
      "\n",
      "\n",
      "Please cite as: \n",
      "\n",
      "\n",
      " Hlavac, Marek (2018). stargazer: Well-Formatted Regression and Summary Statistics Tables.\n",
      "\n",
      " R package version 5.2.2. https://CRAN.R-project.org/package=stargazer \n",
      "\n",
      "\n",
      "\n",
      "Attaching package: ‘scales’\n",
      "\n",
      "\n",
      "The following object is masked from ‘package:readr’:\n",
      "\n",
      "    col_factor\n",
      "\n",
      "\n"
     ]
    }
   ],
   "source": [
    "library(readr)\n",
    "library(dplyr)\n",
    "library(stringr)\n",
    "library(lfe)\n",
    "library(ggsci)\n",
    "library(lubridate)\n",
    "library(ggplot2)\n",
    "library(doMC)\n",
    "library(gridExtra)\n",
    "library(ggpubr)\n",
    "library(stargazer)\n",
    "library(scales)\n",
    "registerDoMC(4)"
   ]
  },
  {
   "cell_type": "code",
   "execution_count": 2,
   "metadata": {},
   "outputs": [],
   "source": [
    "fp <- '/pool001/mfzhao/'\n",
    "df <- read_rds(str_c(fp, '/PROCESSED_DATA/panel_pre_xgr.RDS'))"
   ]
  },
  {
   "cell_type": "code",
   "execution_count": 3,
   "metadata": {},
   "outputs": [],
   "source": [
    "df %>%\n",
    "    mutate(as_newcases  = asinh(newcases),\n",
    "           as_newdeaths = asinh(newdeaths),\n",
    "           as_stnewcases  = asinh(stnewcases),\n",
    "           as_stnewdeaths = asinh(stnewdeaths),\n",
    "           ct_unemp_rate = as.numeric(ct_unemp_rate),\n",
    "           st_unemp_rate = as.numeric(st_unemp_rate)) %>%\n",
    "    select(key,\n",
    "           date, \n",
    "           cluster,\n",
    "           n,\n",
    "           log_mcbgv,\n",
    "           log_pnchd,\n",
    "           log_pgt1hafh, \n",
    "           log_ppthlt75,\n",
    "           log_pgt2kmt,\n",
    "           matches('unemp'),\n",
    "           matches('^log_stalter_'), \n",
    "           matches('^[pt][rm][ca][px][01][0-9]$'),\n",
    "           matches('^p[123]...$'),\n",
    "           matches('stalter_p[123]...$'),\n",
    "           matches('stalter[NF]'),\n",
    "           matches('stalter_[pt][rm][ca][px][01][0-9]$'),\n",
    "           matches('as_(st)?new')) -> df"
   ]
  },
  {
   "cell_type": "code",
   "execution_count": 4,
   "metadata": {},
   "outputs": [
    {
     "data": {
      "text/html": [
       "<style>\n",
       ".list-inline {list-style: none; margin:0; padding: 0}\n",
       ".list-inline>li {display: inline-block}\n",
       ".list-inline>li:not(:last-child)::after {content: \"\\00b7\"; padding: 0 .5ex}\n",
       "</style>\n",
       "<ol class=list-inline><li>'key'</li><li>'date'</li><li>'cluster'</li><li>'n'</li><li>'log_mcbgv'</li><li>'log_pnchd'</li><li>'log_pgt1hafh'</li><li>'log_ppthlt75'</li><li>'log_pgt2kmt'</li><li>'ct_unemp_rate'</li><li>'st_unemp_rate'</li><li>'log_stalter_mcbgv'</li><li>'log_stalter_pnchd'</li><li>'log_stalter_pgt1hafh'</li><li>'log_stalter_ppthlt75'</li><li>'log_stalter_pgt2kmt'</li><li>'prcp01'</li><li>'prcp02'</li><li>'prcp03'</li><li>'prcp04'</li><li>'prcp05'</li><li>'prcp06'</li><li>'prcp07'</li><li>'prcp08'</li><li>'prcp09'</li><li>'prcp10'</li><li>'tmax02'</li><li>'tmax03'</li><li>'tmax04'</li><li>'tmax05'</li><li>'tmax06'</li><li>'tmax07'</li><li>'tmax08'</li><li>'tmax09'</li><li>'tmax10'</li><li>'p1sdp'</li><li>'p2shp'</li><li>'p3rop'</li><li>'stalter_p1sdp'</li><li>'stalter_p2shp'</li><li>'stalter_p3rop'</li><li>'stalterNear_p1sdp'</li><li>'stalterNear_p2shp'</li><li>'stalterNear_p3rop'</li><li>'stalterFar_p1sdp'</li><li>'stalterFar_p2shp'</li><li>'stalterFar_p3rop'</li><li>'stalter_prcp01'</li><li>'stalter_prcp02'</li><li>'stalter_prcp03'</li><li>'stalter_prcp04'</li><li>'stalter_prcp05'</li><li>'stalter_prcp06'</li><li>'stalter_prcp07'</li><li>'stalter_prcp08'</li><li>'stalter_prcp09'</li><li>'stalter_prcp10'</li><li>'stalter_tmax02'</li><li>'stalter_tmax03'</li><li>'stalter_tmax04'</li><li>'stalter_tmax05'</li><li>'stalter_tmax06'</li><li>'stalter_tmax07'</li><li>'stalter_tmax08'</li><li>'stalter_tmax09'</li><li>'stalter_tmax10'</li><li>'as_newcases'</li><li>'as_newdeaths'</li><li>'as_stnewcases'</li><li>'as_stnewdeaths'</li></ol>\n"
      ],
      "text/latex": [
       "\\begin{enumerate*}\n",
       "\\item 'key'\n",
       "\\item 'date'\n",
       "\\item 'cluster'\n",
       "\\item 'n'\n",
       "\\item 'log\\_mcbgv'\n",
       "\\item 'log\\_pnchd'\n",
       "\\item 'log\\_pgt1hafh'\n",
       "\\item 'log\\_ppthlt75'\n",
       "\\item 'log\\_pgt2kmt'\n",
       "\\item 'ct\\_unemp\\_rate'\n",
       "\\item 'st\\_unemp\\_rate'\n",
       "\\item 'log\\_stalter\\_mcbgv'\n",
       "\\item 'log\\_stalter\\_pnchd'\n",
       "\\item 'log\\_stalter\\_pgt1hafh'\n",
       "\\item 'log\\_stalter\\_ppthlt75'\n",
       "\\item 'log\\_stalter\\_pgt2kmt'\n",
       "\\item 'prcp01'\n",
       "\\item 'prcp02'\n",
       "\\item 'prcp03'\n",
       "\\item 'prcp04'\n",
       "\\item 'prcp05'\n",
       "\\item 'prcp06'\n",
       "\\item 'prcp07'\n",
       "\\item 'prcp08'\n",
       "\\item 'prcp09'\n",
       "\\item 'prcp10'\n",
       "\\item 'tmax02'\n",
       "\\item 'tmax03'\n",
       "\\item 'tmax04'\n",
       "\\item 'tmax05'\n",
       "\\item 'tmax06'\n",
       "\\item 'tmax07'\n",
       "\\item 'tmax08'\n",
       "\\item 'tmax09'\n",
       "\\item 'tmax10'\n",
       "\\item 'p1sdp'\n",
       "\\item 'p2shp'\n",
       "\\item 'p3rop'\n",
       "\\item 'stalter\\_p1sdp'\n",
       "\\item 'stalter\\_p2shp'\n",
       "\\item 'stalter\\_p3rop'\n",
       "\\item 'stalterNear\\_p1sdp'\n",
       "\\item 'stalterNear\\_p2shp'\n",
       "\\item 'stalterNear\\_p3rop'\n",
       "\\item 'stalterFar\\_p1sdp'\n",
       "\\item 'stalterFar\\_p2shp'\n",
       "\\item 'stalterFar\\_p3rop'\n",
       "\\item 'stalter\\_prcp01'\n",
       "\\item 'stalter\\_prcp02'\n",
       "\\item 'stalter\\_prcp03'\n",
       "\\item 'stalter\\_prcp04'\n",
       "\\item 'stalter\\_prcp05'\n",
       "\\item 'stalter\\_prcp06'\n",
       "\\item 'stalter\\_prcp07'\n",
       "\\item 'stalter\\_prcp08'\n",
       "\\item 'stalter\\_prcp09'\n",
       "\\item 'stalter\\_prcp10'\n",
       "\\item 'stalter\\_tmax02'\n",
       "\\item 'stalter\\_tmax03'\n",
       "\\item 'stalter\\_tmax04'\n",
       "\\item 'stalter\\_tmax05'\n",
       "\\item 'stalter\\_tmax06'\n",
       "\\item 'stalter\\_tmax07'\n",
       "\\item 'stalter\\_tmax08'\n",
       "\\item 'stalter\\_tmax09'\n",
       "\\item 'stalter\\_tmax10'\n",
       "\\item 'as\\_newcases'\n",
       "\\item 'as\\_newdeaths'\n",
       "\\item 'as\\_stnewcases'\n",
       "\\item 'as\\_stnewdeaths'\n",
       "\\end{enumerate*}\n"
      ],
      "text/markdown": [
       "1. 'key'\n",
       "2. 'date'\n",
       "3. 'cluster'\n",
       "4. 'n'\n",
       "5. 'log_mcbgv'\n",
       "6. 'log_pnchd'\n",
       "7. 'log_pgt1hafh'\n",
       "8. 'log_ppthlt75'\n",
       "9. 'log_pgt2kmt'\n",
       "10. 'ct_unemp_rate'\n",
       "11. 'st_unemp_rate'\n",
       "12. 'log_stalter_mcbgv'\n",
       "13. 'log_stalter_pnchd'\n",
       "14. 'log_stalter_pgt1hafh'\n",
       "15. 'log_stalter_ppthlt75'\n",
       "16. 'log_stalter_pgt2kmt'\n",
       "17. 'prcp01'\n",
       "18. 'prcp02'\n",
       "19. 'prcp03'\n",
       "20. 'prcp04'\n",
       "21. 'prcp05'\n",
       "22. 'prcp06'\n",
       "23. 'prcp07'\n",
       "24. 'prcp08'\n",
       "25. 'prcp09'\n",
       "26. 'prcp10'\n",
       "27. 'tmax02'\n",
       "28. 'tmax03'\n",
       "29. 'tmax04'\n",
       "30. 'tmax05'\n",
       "31. 'tmax06'\n",
       "32. 'tmax07'\n",
       "33. 'tmax08'\n",
       "34. 'tmax09'\n",
       "35. 'tmax10'\n",
       "36. 'p1sdp'\n",
       "37. 'p2shp'\n",
       "38. 'p3rop'\n",
       "39. 'stalter_p1sdp'\n",
       "40. 'stalter_p2shp'\n",
       "41. 'stalter_p3rop'\n",
       "42. 'stalterNear_p1sdp'\n",
       "43. 'stalterNear_p2shp'\n",
       "44. 'stalterNear_p3rop'\n",
       "45. 'stalterFar_p1sdp'\n",
       "46. 'stalterFar_p2shp'\n",
       "47. 'stalterFar_p3rop'\n",
       "48. 'stalter_prcp01'\n",
       "49. 'stalter_prcp02'\n",
       "50. 'stalter_prcp03'\n",
       "51. 'stalter_prcp04'\n",
       "52. 'stalter_prcp05'\n",
       "53. 'stalter_prcp06'\n",
       "54. 'stalter_prcp07'\n",
       "55. 'stalter_prcp08'\n",
       "56. 'stalter_prcp09'\n",
       "57. 'stalter_prcp10'\n",
       "58. 'stalter_tmax02'\n",
       "59. 'stalter_tmax03'\n",
       "60. 'stalter_tmax04'\n",
       "61. 'stalter_tmax05'\n",
       "62. 'stalter_tmax06'\n",
       "63. 'stalter_tmax07'\n",
       "64. 'stalter_tmax08'\n",
       "65. 'stalter_tmax09'\n",
       "66. 'stalter_tmax10'\n",
       "67. 'as_newcases'\n",
       "68. 'as_newdeaths'\n",
       "69. 'as_stnewcases'\n",
       "70. 'as_stnewdeaths'\n",
       "\n",
       "\n"
      ],
      "text/plain": [
       " [1] \"key\"                  \"date\"                 \"cluster\"             \n",
       " [4] \"n\"                    \"log_mcbgv\"            \"log_pnchd\"           \n",
       " [7] \"log_pgt1hafh\"         \"log_ppthlt75\"         \"log_pgt2kmt\"         \n",
       "[10] \"ct_unemp_rate\"        \"st_unemp_rate\"        \"log_stalter_mcbgv\"   \n",
       "[13] \"log_stalter_pnchd\"    \"log_stalter_pgt1hafh\" \"log_stalter_ppthlt75\"\n",
       "[16] \"log_stalter_pgt2kmt\"  \"prcp01\"               \"prcp02\"              \n",
       "[19] \"prcp03\"               \"prcp04\"               \"prcp05\"              \n",
       "[22] \"prcp06\"               \"prcp07\"               \"prcp08\"              \n",
       "[25] \"prcp09\"               \"prcp10\"               \"tmax02\"              \n",
       "[28] \"tmax03\"               \"tmax04\"               \"tmax05\"              \n",
       "[31] \"tmax06\"               \"tmax07\"               \"tmax08\"              \n",
       "[34] \"tmax09\"               \"tmax10\"               \"p1sdp\"               \n",
       "[37] \"p2shp\"                \"p3rop\"                \"stalter_p1sdp\"       \n",
       "[40] \"stalter_p2shp\"        \"stalter_p3rop\"        \"stalterNear_p1sdp\"   \n",
       "[43] \"stalterNear_p2shp\"    \"stalterNear_p3rop\"    \"stalterFar_p1sdp\"    \n",
       "[46] \"stalterFar_p2shp\"     \"stalterFar_p3rop\"     \"stalter_prcp01\"      \n",
       "[49] \"stalter_prcp02\"       \"stalter_prcp03\"       \"stalter_prcp04\"      \n",
       "[52] \"stalter_prcp05\"       \"stalter_prcp06\"       \"stalter_prcp07\"      \n",
       "[55] \"stalter_prcp08\"       \"stalter_prcp09\"       \"stalter_prcp10\"      \n",
       "[58] \"stalter_tmax02\"       \"stalter_tmax03\"       \"stalter_tmax04\"      \n",
       "[61] \"stalter_tmax05\"       \"stalter_tmax06\"       \"stalter_tmax07\"      \n",
       "[64] \"stalter_tmax08\"       \"stalter_tmax09\"       \"stalter_tmax10\"      \n",
       "[67] \"as_newcases\"          \"as_newdeaths\"         \"as_stnewcases\"       \n",
       "[70] \"as_stnewdeaths\"      "
      ]
     },
     "metadata": {},
     "output_type": "display_data"
    }
   ],
   "source": [
    "cns <- colnames(df)\n",
    "cns"
   ]
  },
  {
   "cell_type": "code",
   "execution_count": 5,
   "metadata": {},
   "outputs": [],
   "source": [
    "ldvs <- c('log_mcbgv', 'log_pgt2kmt', 'log_pgt1hafh', 'log_pnchd')\n",
    "dvs  <- c('mcbgv', 'pnchd', 'pgt1hafh', 'pgt2kmt')"
   ]
  },
  {
   "cell_type": "code",
   "execution_count": 6,
   "metadata": {},
   "outputs": [],
   "source": [
    "get_coefs <- function(dv, vars, ivmod = F, ...) {\n",
    "    lhs <- str_c(dv, ' ~ ')\n",
    "    rhs <- str_c(vars, '| key + date | ')\n",
    "\n",
    "    if(ivmod == T) {\n",
    "        alter_weather <- str_c(cns[str_detect(cns, '^stalter_[pt][rm][ca][px][01][0-9]$')], collapse = ' + ')\n",
    "        iv <- ifelse(str_detect(dv, 'log'), str_replace(dv, 'log', 'log_stalter'), str_c('alter_', dv))\n",
    "        ivf <- str_c('(', iv, ' ~ ', alter_weather, ') | cluster')\n",
    "        rhs <- str_c(rhs, ivf)\n",
    "    } else {\n",
    "        rhs <- str_c(rhs, '0 | cluster')\n",
    "    }\n",
    "    form  <- as.formula(str_c(lhs, rhs))\n",
    "    model <- felm(form, df, weights = df$n, ...)\n",
    "    \n",
    "    as.data.frame(summary(model)$coef) %>%\n",
    "        mutate(var   = rownames(.),\n",
    "               dv    = dv,\n",
    "               model = ifelse(vars == f1, 'base', \n",
    "                              ifelse(vars == f2, 'ap', 'apnf')),\n",
    "               model = ifelse(ivmod, str_c(model, ' + iv'), model)) %>%\n",
    "        filter(!str_detect(var, '[pPtT][rRmM][cCaA][pPxX]')) %>%\n",
    "        select(7, 6, 5, 1, 2, 3, 4) -> out\n",
    "    \n",
    "    colnames(out) <- c('model', 'dv', 'var', 'estimate', 'se', 't', 'p-val')\n",
    "    return(out)\n",
    "}"
   ]
  },
  {
   "cell_type": "code",
   "execution_count": 7,
   "metadata": {},
   "outputs": [],
   "source": [
    "ctrls <- '+ prcp01 + prcp02 + prcp03 + prcp04 + prcp05 + prcp06 + prcp07 + prcp08 + prcp09 + prcp10 + \n",
    "            tmax02 + tmax03 + tmax04 + tmax05 + tmax06 + tmax07 + tmax08 + tmax09 + tmax10 + \n",
    "            as_newcases + as_newdeaths + as_stnewcases + as_stnewdeaths + ct_unemp_rate + st_unemp_rate '\n",
    "f1    <- str_c(' p1sdp + p2shp + p3rop ', ctrls)  \n",
    "f2    <- str_c(' p1sdp + p2shp + p3rop + stalter_p1sdp + stalter_p2shp + stalter_p3rop ', ctrls)\n",
    "f3    <- str_c(' p1sdp + p2shp + p3rop + stalterNear_p1sdp + stalterNear_p2shp + stalterNear_p3rop +\n",
    "                 stalterFar_p1sdp + stalterFar_p2shp + stalterFar_p3rop ', ctrls)"
   ]
  },
  {
   "cell_type": "code",
   "execution_count": 8,
   "metadata": {},
   "outputs": [],
   "source": [
    "foreach(dv = ldvs, .combine = rbind) %:% \n",
    "    foreach(f = c(f1, f2, f3), .combine = rbind) %:%\n",
    "    foreach(ivmod = c(T, F), .combine = rbind) %dopar%\n",
    "    get_coefs(dv, f, ivmod) -> coefs"
   ]
  },
  {
   "cell_type": "code",
   "execution_count": 27,
   "metadata": {},
   "outputs": [
    {
     "data": {
      "text/html": [
       "<table>\n",
       "<caption>A data.frame: 1 × 3</caption>\n",
       "<thead>\n",
       "\t<tr><th scope=col>min</th><th scope=col>max</th><th scope=col>mean</th></tr>\n",
       "\t<tr><th scope=col>&lt;dbl&gt;</th><th scope=col>&lt;dbl&gt;</th><th scope=col>&lt;dbl&gt;</th></tr>\n",
       "</thead>\n",
       "<tbody>\n",
       "\t<tr><td>-0.03512586</td><td>-0.0282385</td><td>-0.03031691</td></tr>\n",
       "</tbody>\n",
       "</table>\n"
      ],
      "text/latex": [
       "A data.frame: 1 × 3\n",
       "\\begin{tabular}{lll}\n",
       " min & max & mean\\\\\n",
       " <dbl> & <dbl> & <dbl>\\\\\n",
       "\\hline\n",
       "\t -0.03512586 & -0.0282385 & -0.03031691\\\\\n",
       "\\end{tabular}\n"
      ],
      "text/markdown": [
       "\n",
       "A data.frame: 1 × 3\n",
       "\n",
       "| min &lt;dbl&gt; | max &lt;dbl&gt; | mean &lt;dbl&gt; |\n",
       "|---|---|---|\n",
       "| -0.03512586 | -0.0282385 | -0.03031691 |\n",
       "\n"
      ],
      "text/plain": [
       "  min         max        mean       \n",
       "1 -0.03512586 -0.0282385 -0.03031691"
      ]
     },
     "metadata": {},
     "output_type": "display_data"
    },
    {
     "data": {
      "text/html": [
       "<table>\n",
       "<caption>A data.frame: 1 × 3</caption>\n",
       "<thead>\n",
       "\t<tr><th scope=col>min</th><th scope=col>max</th><th scope=col>mean</th></tr>\n",
       "\t<tr><th scope=col>&lt;dbl&gt;</th><th scope=col>&lt;dbl&gt;</th><th scope=col>&lt;dbl&gt;</th></tr>\n",
       "</thead>\n",
       "<tbody>\n",
       "\t<tr><td>0.01987253</td><td>0.02799747</td><td>0.02404431</td></tr>\n",
       "</tbody>\n",
       "</table>\n"
      ],
      "text/latex": [
       "A data.frame: 1 × 3\n",
       "\\begin{tabular}{lll}\n",
       " min & max & mean\\\\\n",
       " <dbl> & <dbl> & <dbl>\\\\\n",
       "\\hline\n",
       "\t 0.01987253 & 0.02799747 & 0.02404431\\\\\n",
       "\\end{tabular}\n"
      ],
      "text/markdown": [
       "\n",
       "A data.frame: 1 × 3\n",
       "\n",
       "| min &lt;dbl&gt; | max &lt;dbl&gt; | mean &lt;dbl&gt; |\n",
       "|---|---|---|\n",
       "| 0.01987253 | 0.02799747 | 0.02404431 |\n",
       "\n"
      ],
      "text/plain": [
       "  min        max        mean      \n",
       "1 0.01987253 0.02799747 0.02404431"
      ]
     },
     "metadata": {},
     "output_type": "display_data"
    },
    {
     "data": {
      "text/html": [
       "<table>\n",
       "<caption>A data.frame: 1 × 3</caption>\n",
       "<thead>\n",
       "\t<tr><th scope=col>min</th><th scope=col>max</th><th scope=col>mean</th></tr>\n",
       "\t<tr><th scope=col>&lt;dbl&gt;</th><th scope=col>&lt;dbl&gt;</th><th scope=col>&lt;dbl&gt;</th></tr>\n",
       "</thead>\n",
       "<tbody>\n",
       "\t<tr><td>-0.08168051</td><td>-0.06129055</td><td>-0.07445315</td></tr>\n",
       "</tbody>\n",
       "</table>\n"
      ],
      "text/latex": [
       "A data.frame: 1 × 3\n",
       "\\begin{tabular}{lll}\n",
       " min & max & mean\\\\\n",
       " <dbl> & <dbl> & <dbl>\\\\\n",
       "\\hline\n",
       "\t -0.08168051 & -0.06129055 & -0.07445315\\\\\n",
       "\\end{tabular}\n"
      ],
      "text/markdown": [
       "\n",
       "A data.frame: 1 × 3\n",
       "\n",
       "| min &lt;dbl&gt; | max &lt;dbl&gt; | mean &lt;dbl&gt; |\n",
       "|---|---|---|\n",
       "| -0.08168051 | -0.06129055 | -0.07445315 |\n",
       "\n"
      ],
      "text/plain": [
       "  min         max         mean       \n",
       "1 -0.08168051 -0.06129055 -0.07445315"
      ]
     },
     "metadata": {},
     "output_type": "display_data"
    },
    {
     "data": {
      "text/html": [
       "<table>\n",
       "<caption>A data.frame: 1 × 3</caption>\n",
       "<thead>\n",
       "\t<tr><th scope=col>min</th><th scope=col>max</th><th scope=col>mean</th></tr>\n",
       "\t<tr><th scope=col>&lt;dbl&gt;</th><th scope=col>&lt;dbl&gt;</th><th scope=col>&lt;dbl&gt;</th></tr>\n",
       "</thead>\n",
       "<tbody>\n",
       "\t<tr><td>-0.1176446</td><td>-0.08270042</td><td>-0.1064879</td></tr>\n",
       "</tbody>\n",
       "</table>\n"
      ],
      "text/latex": [
       "A data.frame: 1 × 3\n",
       "\\begin{tabular}{lll}\n",
       " min & max & mean\\\\\n",
       " <dbl> & <dbl> & <dbl>\\\\\n",
       "\\hline\n",
       "\t -0.1176446 & -0.08270042 & -0.1064879\\\\\n",
       "\\end{tabular}\n"
      ],
      "text/markdown": [
       "\n",
       "A data.frame: 1 × 3\n",
       "\n",
       "| min &lt;dbl&gt; | max &lt;dbl&gt; | mean &lt;dbl&gt; |\n",
       "|---|---|---|\n",
       "| -0.1176446 | -0.08270042 | -0.1064879 |\n",
       "\n"
      ],
      "text/plain": [
       "  min        max         mean      \n",
       "1 -0.1176446 -0.08270042 -0.1064879"
      ]
     },
     "metadata": {},
     "output_type": "display_data"
    },
    {
     "data": {
      "text/html": [
       "<table>\n",
       "<caption>A data.frame: 1 × 3</caption>\n",
       "<thead>\n",
       "\t<tr><th scope=col>min</th><th scope=col>max</th><th scope=col>mean</th></tr>\n",
       "\t<tr><th scope=col>&lt;dbl&gt;</th><th scope=col>&lt;dbl&gt;</th><th scope=col>&lt;dbl&gt;</th></tr>\n",
       "</thead>\n",
       "<tbody>\n",
       "\t<tr><td>0.1210666</td><td>0.2138602</td><td>0.1700797</td></tr>\n",
       "</tbody>\n",
       "</table>\n"
      ],
      "text/latex": [
       "A data.frame: 1 × 3\n",
       "\\begin{tabular}{lll}\n",
       " min & max & mean\\\\\n",
       " <dbl> & <dbl> & <dbl>\\\\\n",
       "\\hline\n",
       "\t 0.1210666 & 0.2138602 & 0.1700797\\\\\n",
       "\\end{tabular}\n"
      ],
      "text/markdown": [
       "\n",
       "A data.frame: 1 × 3\n",
       "\n",
       "| min &lt;dbl&gt; | max &lt;dbl&gt; | mean &lt;dbl&gt; |\n",
       "|---|---|---|\n",
       "| 0.1210666 | 0.2138602 | 0.1700797 |\n",
       "\n"
      ],
      "text/plain": [
       "  min       max       mean     \n",
       "1 0.1210666 0.2138602 0.1700797"
      ]
     },
     "metadata": {},
     "output_type": "display_data"
    }
   ],
   "source": [
    "coefs %>%\n",
    "    filter(var == 'p2shp') %>%\n",
    "    filter(model == 'base') %>%\n",
    "    filter(!str_detect(model, 'iv'), model != 'apnf') %>%\n",
    "    summarize(min  = min(exp(estimate) - 1),\n",
    "              max  = max(exp(estimate) - 1),\n",
    "              mean = mean(exp(estimate) - 1))\n",
    "\n",
    "coefs %>%\n",
    "    filter(var == 'p3rop') %>%\n",
    "        filter(model == 'base') %>%\n",
    "    filter(!str_detect(model, 'iv'), model != 'apnf') %>%\n",
    "    summarize(min = min(exp(estimate) - 1),\n",
    "              max = max(exp(estimate) - 1),\n",
    "               mean = mean(exp(estimate) - 1))\n",
    "\n",
    "coefs %>%\n",
    "    filter(var == 'stalter_p1sdp') %>%\n",
    "    filter(!str_detect(model, 'iv'), model != 'apnf') %>%\n",
    "    summarize(min  = min(exp(estimate) - 1),\n",
    "              max  = max(exp(estimate) - 1),\n",
    "              mean = mean(exp(estimate) - 1))\n",
    "\n",
    "coefs %>%\n",
    "    filter(var == 'stalter_p2shp') %>%\n",
    "    filter(!str_detect(model, 'iv'), model != 'apnf') %>%\n",
    "    summarize(min  = min(exp(estimate) - 1),\n",
    "              max  = max(exp(estimate) - 1),\n",
    "              mean = mean(exp(estimate) - 1))\n",
    "\n",
    "coefs %>%\n",
    "    filter(var == 'stalter_p3rop') %>%\n",
    "    filter(!str_detect(model, 'iv'), model != 'apnf') %>%\n",
    "    summarize(min = min(exp(estimate) - 1),\n",
    "              max = max(exp(estimate) - 1),\n",
    "               mean = mean(exp(estimate) - 1))"
   ]
  },
  {
   "cell_type": "code",
   "execution_count": 10,
   "metadata": {},
   "outputs": [
    {
     "data": {
      "image/png": "[encoded data removed]",
      "text/plain": [
       "plot without title"
      ]
     },
     "metadata": {
      "image/png": {
       "height": 600,
       "width": 900
      },
      "text/plain": {
       "height": 600,
       "width": 900
      }
     },
     "output_type": "display_data"
    }
   ],
   "source": [
    "options(repr.plot.width=15, repr.plot.height=10)\n",
    "pn <- c('p1sdp' = \"Initial Policies\",\n",
    "        'p2shp' = \"Shelter-in-place\",\n",
    "        'p3rop' = \"Reopening\",\n",
    "        'a'     = 'Ego state policy',\n",
    "        'b'     = 'Alter state policy')\n",
    "\n",
    "coefs %>%\n",
    "    mutate(dv  = str_replace(dv, '\\\\.r', ''),\n",
    "           var = str_replace(var, '\\\\.r', ''),\n",
    "           var = ifelse(str_detect(var, 'fit'), 'Peer Effect', var)) %>%\n",
    "    filter(!str_detect(var, 'unemp')) %>%\n",
    "    filter(!str_detect(var, 'new')) %>%\n",
    "    filter(var != 'Peer Effect') %>%\n",
    "    filter(!str_detect(model, 'iv')) %>%\n",
    "    filter(!str_detect(model, 'apnf')) %>%\n",
    "    mutate(vtype = ifelse(str_detect(var, 'stalter'), 'b', 'a'),\n",
    "           var   = str_replace(var, 'stalter_', ''),\n",
    "           model = factor(model, levels = c('base', 'base + iv', 'ap', 'ap + iv')),\n",
    "           dv = case_when(dv == 'log_mcbgv' ~ 'Average number of locations visited',\n",
    "                         dv == 'log_pgt2kmt' ~ 'Traveling more than 2km',\n",
    "                         dv == 'log_pgt1hafh' ~ 'More than 1 hour away from home',\n",
    "                         TRUE ~ 'Leaving home'),\n",
    "           dv = factor(dv, levels = c('Average number of locations visited', \n",
    "                                      'Traveling more than 2km', \n",
    "                                      'More than 1 hour away from home', \n",
    "                                      'Leaving home')),\n",
    "           estimate = exp(estimate) - 1,\n",
    "           u95ci   = exp(estimate + 1.98 * se) - 1,\n",
    "           l95ci    = exp(estimate - 1.98 * se) - 1,\n",
    "           model = ifelse(model == 'base', 'DiD without\\nspillovers', 'DiD with\\nalter state policies'),\n",
    "           model = factor(model, levels = c('DiD without\\nspillovers',\n",
    "                                           'DiD with\\nalter state policies'))) %>%\n",
    "    ggplot(aes(x = model, y = estimate, color = dv)) +\n",
    "    geom_hline(aes(yintercept = 0), linetype = 2) +\n",
    "    geom_point(position = position_dodge(width = .5), size = 2) + \n",
    "    geom_linerange(aes(ymin = estimate - 1.98 * se, ymax = estimate + 1.98 * se), \n",
    "                   position = position_dodge(width = .5), size = .5) +\n",
    "    facet_grid(vtype~var, scales = 'free_y', labeller = as_labeller(pn)) +\n",
    "    xlab('') + \n",
    "    ylab('Relative effect size') +\n",
    "    scale_color_d3() +\n",
    "    labs(color = \"Outcome\") +\n",
    "    theme_light() +\n",
    "    theme(text = element_text(size=20),\n",
    "          legend.position = 'bottom',\n",
    "         legend.title = element_blank()) + \n",
    "    scale_y_continuous(labels=percent) + \n",
    "    guides(color = guide_legend(nrow = 2))-> p2a\n",
    "\n",
    "#ggsave('/home/dholtz/p4_new.pdf', p2a, device = 'pdf', width = 6.5, height = 5, scale = 2)\n",
    "p2a"
   ]
  },
  {
   "cell_type": "code",
   "execution_count": null,
   "metadata": {},
   "outputs": [],
   "source": [
    "coefs %>%\n",
    "    mutate(dv  = str_replace(dv, '\\\\.r', ''),\n",
    "           var = str_replace(var, '\\\\.r', ''),\n",
    "           var = ifelse(str_detect(var, 'fit'), 'Peer Effect', var)) %>%\n",
    "    filter(!str_detect(var, 'new')) %>%\n",
    "    filter(model == 'apnf') %>%\n",
    "    filter(str_detect(var, 'stalter')) %>%\n",
    "    mutate(nf  = ifelse(str_detect(var, 'Near'), 'Near', 'Far'),\n",
    "           var = str_replace(var, 'stalterNear_', ''),\n",
    "           var = str_replace(var, 'stalterFar_', '')) %>%\n",
    "    ggplot(aes(x = var, y = estimate, color = nf)) +\n",
    "    geom_hline(aes(yintercept = 0), linetype = 2) +\n",
    "    geom_point(position = position_dodge(0.25)) + \n",
    "    geom_linerange(aes(ymin = estimate - 1.98 * se, ymax = estimate + 1.98 * se), position = position_dodge(0.25)) + \n",
    "    facet_grid(dv ~ ., scales = 'free') + \n",
    "    theme_light()"
   ]
  },
  {
   "cell_type": "code",
   "execution_count": null,
   "metadata": {},
   "outputs": [],
   "source": [
    "get_models <- function(dv, vars, ivmod = F, ...) {\n",
    "    lhs <- str_c(dv, ' ~ ')\n",
    "    rhs <- str_c(vars, '| key + date | ')\n",
    "\n",
    "    if(ivmod == T) {\n",
    "        alter_weather <- str_c(cns[str_detect(cns, '^stalter_[pt][rm][ca][px][01][0-9]\\\\.r$')], collapse = ' + ')\n",
    "        iv <- ifelse(str_detect(dv, 'log'), str_replace(dv, 'log', 'log_stalter'), str_c('stalter_', dv))\n",
    "        ivf <- str_c('(', iv, ' ~ ', alter_weather, ') | cluster')\n",
    "        rhs <- str_c(rhs, ivf)\n",
    "    } else {\n",
    "        rhs <- str_c(rhs, '0 | cluster')\n",
    "    }\n",
    "    form <- as.formula(str_c(lhs, rhs))\n",
    "    model <- felm(form, df, weights = df$n, ...)\n",
    "    \n",
    "    return(model)\n",
    "}"
   ]
  },
  {
   "cell_type": "code",
   "execution_count": null,
   "metadata": {},
   "outputs": [],
   "source": []
  },
  {
   "cell_type": "code",
   "execution_count": null,
   "metadata": {},
   "outputs": [],
   "source": [
    "foreach(dv = ldvs) %dopar% get_models(dv, f1, F) -> models_base"
   ]
  },
  {
   "cell_type": "code",
   "execution_count": null,
   "metadata": {},
   "outputs": [],
   "source": [
    "stargazer(models_base)"
   ]
  },
  {
   "cell_type": "code",
   "execution_count": null,
   "metadata": {},
   "outputs": [],
   "source": [
    "foreach(dv = ldvs) %dopar% get_models(dv, f2, F) -> models_ap"
   ]
  },
  {
   "cell_type": "code",
   "execution_count": null,
   "metadata": {},
   "outputs": [],
   "source": [
    "stargazer(models_ap)"
   ]
  },
  {
   "cell_type": "code",
   "execution_count": null,
   "metadata": {},
   "outputs": [],
   "source": [
    "foreach(dv = ldvs) %dopar% get_models(dv, f2, T) -> models_apiv"
   ]
  },
  {
   "cell_type": "code",
   "execution_count": null,
   "metadata": {
    "scrolled": true
   },
   "outputs": [],
   "source": [
    "stargazer(models_apiv)"
   ]
  },
  {
   "cell_type": "code",
   "execution_count": null,
   "metadata": {},
   "outputs": [],
   "source": [
    "condfstat(models_apiv[[1]])\n",
    "condfstat(models_apiv[[2]])\n",
    "condfstat(models_apiv[[3]])\n",
    "condfstat(models_apiv[[4]])"
   ]
  },
  {
   "cell_type": "code",
   "execution_count": null,
   "metadata": {},
   "outputs": [],
   "source": [
    "foreach(dv = ldvs) %dopar% get_models(dv, f2, T, kclass = 'liml') -> models_apiv_liml"
   ]
  },
  {
   "cell_type": "code",
   "execution_count": null,
   "metadata": {},
   "outputs": [],
   "source": [
    "stargazer(models_apiv_liml)"
   ]
  },
  {
   "cell_type": "code",
   "execution_count": null,
   "metadata": {},
   "outputs": [],
   "source": [
    "coefs %>%\n",
    "    mutate(dv  = str_replace(dv, '\\\\.r', ''),\n",
    "           var = str_replace(var, '\\\\.r', ''),\n",
    "           var = ifelse(str_detect(var, 'fit'), 'Peer Effect', var)) %>%\n",
    "    filter(model == 'ap + iv') -> apiv\n",
    "    "
   ]
  },
  {
   "cell_type": "code",
   "execution_count": null,
   "metadata": {},
   "outputs": [],
   "source": [
    "options(repr.plot.width=15, repr.plot.height=10)\n",
    "pn <- c('p1sdp' = \"Initial Policies\",\n",
    "        'p2shp' = \"Shelter-in-place\",\n",
    "        'p3rop' = \"Reopening\",\n",
    "        'a'     = 'ego state policy',\n",
    "        'b'     = 'alter state policy')\n",
    "\n",
    "coefs %>%\n",
    "    mutate(dv  = str_replace(dv, '\\\\.r', ''),\n",
    "           var = str_replace(var, '\\\\.r', ''),\n",
    "           var = ifelse(str_detect(var, 'fit'), 'Peer Effect', var)) %>%\n",
    "    filter(var != 'Peer Effect') %>%\n",
    "    filter(model != 'base + iv') %>%\n",
    "    mutate(vtype = ifelse(str_detect(var, 'stalter'), 'b', 'a'),\n",
    "           var   = str_replace(var, 'stalter_', ''),\n",
    "           model = factor(model, levels = c('base', 'base + iv', 'ap', 'ap + iv')),\n",
    "           dv = factor(dv, levels = c('log_mcbgv', 'log_pgt2kmt', 'log_pgt1hafh', 'log_pnchd'))) %>%\n",
    "    ggplot(aes(x = model, y = estimate, color = dv)) +\n",
    "    geom_hline(aes(yintercept = 0), linetype = 2) +\n",
    "    geom_point(position = position_dodge(width = .5), size = 2) + \n",
    "    geom_linerange(aes(ymin = estimate - 1.98 * se, ymax = estimate + 1.98 * se), \n",
    "                   position = position_dodge(width = .5), size = .5) +\n",
    "    facet_grid(vtype~var, scales = 'free_y', labeller = as_labeller(pn)) +\n",
    "    xlab('') + \n",
    "    ylab('') +\n",
    "    ggtitle('A') + \n",
    "    scale_color_d3() +\n",
    "    labs(color = \"Outcome\") +\n",
    "    theme_light() +\n",
    "    theme(text = element_text(size=20),\n",
    "          legend.position = 'None',\n",
    "          plot.margin = margin(0, 10, 0, 20)) -> p2a\n",
    "\n",
    "p2a"
   ]
  },
  {
   "cell_type": "code",
   "execution_count": null,
   "metadata": {},
   "outputs": [],
   "source": [
    "options(repr.plot.width=10, repr.plot.height=10)\n",
    "apiv %>%\n",
    "    filter(var == 'Peer Effect') %>%\n",
    "    select(dv, pfxCoef = estimate, pfxSe = se) %>%\n",
    "    left_join(apiv %>%\n",
    "              filter(!str_detect(var, 'stalter'),\n",
    "                     var != 'Peer Effect')) %>%\n",
    "    mutate(estimate = estimate * pfxCoef,\n",
    "           se       = estimate * pfxSe,\n",
    "           var      = str_c('pfx_', var)) %>%\n",
    "    select(model, dv, var, estimate, se, t, `p-val`) %>%\n",
    "    bind_rows(apiv %>%\n",
    "              filter(var != 'Peer Effect',\n",
    "                     !str_detect(var, 'stalter'))) %>%\n",
    "    mutate(policy = str_sub(var, -5, -1),\n",
    "           type   = ifelse(str_detect(var, 'pfx'), 'Peer Effect',\n",
    "                           ifelse(str_detect(var, 'stalter'), 'Alter Policy', 'Ego Policy')),\n",
    "           dv = factor(dv, levels = c('log_mcbgv', 'log_pgt2kmt', 'log_pgt1hafh', 'log_pnchd'))) %>%\n",
    "    ggplot(aes(x = type, y = estimate, color = dv)) + \n",
    "    geom_hline(aes(yintercept = 0), linetype = 2) +\n",
    "    geom_point(position = position_dodge(width = .5), size = 2) + \n",
    "    geom_linerange(aes(ymin = estimate - 1.98 * se, ymax = estimate + 1.98 * se), \n",
    "                   position = position_dodge(width = .5), size = .5) +\n",
    "    facet_grid(policy~., scales = 'free_y', labeller = as_labeller(pn)) +\n",
    "    xlab('') + \n",
    "    ylab('') +\n",
    "    ggtitle('B') +\n",
    "    scale_color_d3() +\n",
    "    labs(color = \"Outcome\") +\n",
    "    theme_light() +\n",
    "    theme(text = element_text(size=20),\n",
    "          legend.position = 'None', \n",
    "          plot.margin = margin(0, 10, 0, 20)) -> p2b\n",
    "\n",
    "p2b\n",
    "#ggsave('/home/mfzhao/p2b.svg', p2b, device = 'svg', width = 2, height = 5, scale = 2)"
   ]
  },
  {
   "cell_type": "code",
   "execution_count": null,
   "metadata": {},
   "outputs": [],
   "source": [
    "options(repr.plot.width=15, repr.plot.height=10)\n",
    "pn <- c('p1sdp' = \"Initial Policies\",\n",
    "        'p2shp' = \"Shelter-in-place\",\n",
    "        'p3rop' = \"Reopening\",\n",
    "        'a'     = 'ego state policy',\n",
    "        'b'     = 'alter state policy')\n",
    "\n",
    "coefs %>%\n",
    "    mutate(dv  = str_replace(dv, '\\\\.r', ''),\n",
    "           var = str_replace(var, '\\\\.r', ''),\n",
    "           var = ifelse(str_detect(var, 'fit'), 'Peer Effect', var)) %>%\n",
    "    filter(var != 'Peer Effect') %>%\n",
    "    filter(model != 'base + iv') %>%\n",
    "    mutate(vtype = ifelse(str_detect(var, 'stalter'), 'b', 'a'),\n",
    "           var   = str_replace(var, 'stalter_', ''),\n",
    "           model = factor(model, levels = c('base', 'base + iv', 'ap', 'ap + iv')),\n",
    "           dv = factor(dv, levels = c('log_mcbgv', 'log_pgt2kmt', 'log_pgt1hafh', 'log_pnchd'))) %>%\n",
    "    ggplot(aes(x = model, y = estimate, color = dv)) +\n",
    "    geom_hline(aes(yintercept = 0), linetype = 2) +\n",
    "    geom_point(position = position_dodge(width = .5), size = 2) + \n",
    "    geom_linerange(aes(ymin = estimate - 1.98 * se, ymax = estimate + 1.98 * se), \n",
    "                   position = position_dodge(width = .5), size = .5) +\n",
    "    facet_grid(vtype~var, scales = 'free_y', labeller = as_labeller(pn)) +\n",
    "    xlab('') + \n",
    "    ylab('') +\n",
    "    scale_color_d3() +\n",
    "    labs(color = \"Outcome\") +\n",
    "    theme_light() +\n",
    "    theme(text = element_text(size=20),\n",
    "          legend.position = 'bottom') -> leg\n",
    "\n",
    "\n",
    "get_legend(leg) %>%\n",
    "    as_ggplot() -> leg"
   ]
  },
  {
   "cell_type": "code",
   "execution_count": null,
   "metadata": {},
   "outputs": [],
   "source": [
    "p2a + theme(plot.title = element_text(hjust = -0.05, vjust = -1)) -> p2a\n",
    "p2b + theme(plot.title = element_text(hjust = -0.05, vjust = -1)) -> p2b"
   ]
  },
  {
   "cell_type": "code",
   "execution_count": null,
   "metadata": {},
   "outputs": [],
   "source": [
    "p2a"
   ]
  },
  {
   "cell_type": "code",
   "execution_count": null,
   "metadata": {},
   "outputs": [],
   "source": [
    "p2a + theme(plot.title = element_text(size = 30, hjust = -0.075, vjust = -1.5)) -> p2a\n",
    "p2b + theme(plot.title = element_text(size = 30, hjust = -0.25, vjust = -1.5)) -> p2b\n",
    "lay <- rbind(c(rep(1,16), rep(2,8)),\n",
    "             c(rep(1,16), rep(2,8)),\n",
    "             c(rep(1,16), rep(2,8)),\n",
    "             c(rep(1,16), rep(2,8)),\n",
    "             c(rep(1,16), rep(2,8)),\n",
    "             c(rep(1,16), rep(2,8)),\n",
    "             c(rep(1,16), rep(2,8)),\n",
    "             c(rep(1,16), rep(2,8)),\n",
    "             c(rep(1,16), rep(2,8)),\n",
    "             c(rep(1,16), rep(2,8)),\n",
    "             c(rep(1,16), rep(2,8)),\n",
    "             c(rep(1,16), rep(2,8)),\n",
    "             rep(3, 24))\n",
    "grid.arrange(grobs = list(p2a, p2b, leg), layout_matrix = lay) -> p2\n",
    "\n",
    "ggsave('/home/mfzhao/p2.pdf', p2, device = 'pdf', width = 6.5, height = 5, scale = 2)"
   ]
  },
  {
   "cell_type": "code",
   "execution_count": null,
   "metadata": {},
   "outputs": [],
   "source": [
    "ggsave('/home/mfzhao/p2.pdf', p2, device = 'pdf', width = 6.5, height = 5, scale = 2)"
   ]
  },
  {
   "cell_type": "code",
   "execution_count": null,
   "metadata": {},
   "outputs": [],
   "source": [
    "ggsave('/home/mfzhao/p2leg.svg', leg, device = 'svg', width = 6.5, height = 5, scale = 2)"
   ]
  },
  {
   "cell_type": "code",
   "execution_count": null,
   "metadata": {},
   "outputs": [],
   "source": []
  }
 ],
 "metadata": {
  "kernelspec": {
   "display_name": "R 3.6",
   "language": "R",
   "name": "ir36"
  },
  "language_info": {
   "codemirror_mode": "r",
   "file_extension": ".r",
   "mimetype": "text/x-r-source",
   "name": "R",
   "pygments_lexer": "r",
   "version": "3.6.3"
  }
 },
 "nbformat": 4,
 "nbformat_minor": 2
}
