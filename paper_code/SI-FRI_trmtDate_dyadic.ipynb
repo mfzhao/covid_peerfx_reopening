{
 "cells": [
  {
   "cell_type": "code",
   "execution_count": 1,
   "metadata": {},
   "outputs": [
    {
     "name": "stderr",
     "output_type": "stream",
     "text": [
      "\n",
      "Attaching package: ‘dplyr’\n",
      "\n",
      "\n",
      "The following objects are masked from ‘package:stats’:\n",
      "\n",
      "    filter, lag\n",
      "\n",
      "\n",
      "The following objects are masked from ‘package:base’:\n",
      "\n",
      "    intersect, setdiff, setequal, union\n",
      "\n",
      "\n",
      "Loading required package: Matrix\n",
      "\n",
      "\n",
      "Attaching package: ‘Matrix’\n",
      "\n",
      "\n",
      "The following objects are masked from ‘package:tidyr’:\n",
      "\n",
      "    expand, pack, unpack\n",
      "\n",
      "\n",
      "Loading required package: foreach\n",
      "\n",
      "Loading required package: iterators\n",
      "\n",
      "Loading required package: parallel\n",
      "\n"
     ]
    }
   ],
   "source": [
    "library(dplyr)\n",
    "library(tidyr)\n",
    "library(ggsci)\n",
    "library(readr)\n",
    "library(lfe)\n",
    "library(stringr)\n",
    "library(ggplot2)\n",
    "library(doMC)\n",
    "registerDoMC(4)"
   ]
  },
  {
   "cell_type": "code",
   "execution_count": 3,
   "metadata": {},
   "outputs": [
    {
     "name": "stderr",
     "output_type": "stream",
     "text": [
      "Parsed with column specification:\n",
      "cols(\n",
      "  key = \u001b[31mcol_character()\u001b[39m,\n",
      "  p1sdp = \u001b[34mcol_date(format = \"\")\u001b[39m,\n",
      "  p2shp = \u001b[34mcol_date(format = \"\")\u001b[39m,\n",
      "  p3rop = \u001b[34mcol_date(format = \"\")\u001b[39m\n",
      ")\n",
      "\n"
     ]
    }
   ],
   "source": [
    "df <- data.table::fread('/pool001/mfzhao/PROCESSED_DATA/dyadic_mvmt_2020.csv')\n",
    "pp <- read_csv('/pool001/mfzhao/PROCESSED_DATA/policyPeriods.csv')"
   ]
  },
  {
   "cell_type": "code",
   "execution_count": 4,
   "metadata": {},
   "outputs": [],
   "source": [
    "df %>% \n",
    "    filter(origin_cluster != destination_cluster) %>%\n",
    "    mutate(oRain  = as.numeric(oPRCP > 0),\n",
    "           dRain  = as.numeric(dPRCP > 0),\n",
    "           nearby = as.numeric(dist < 100)) -> df"
   ]
  },
  {
   "cell_type": "code",
   "execution_count": 5,
   "metadata": {},
   "outputs": [],
   "source": [
    "pp %>%\n",
    "    mutate(cluster = as.numeric(str_sub(key, 1, 2))) %>%\n",
    "    select(-key) %>%\n",
    "    distinct() %>%\n",
    "    rename(p1date = p1sdp, \n",
    "           p2date = p2shp,\n",
    "           p3date = p3rop) -> statePolicy"
   ]
  },
  {
   "cell_type": "code",
   "execution_count": 18,
   "metadata": {},
   "outputs": [],
   "source": [
    "cns     <- colnames(df)\n",
    "wctrls  <- str_c(cns[str_detect(cns, '[od][pt][rm][ca][px]..')], collapse = ' + ')\n",
    "cdctrls <- str_c(cns[str_detect(cns, '[od][acs][st]_')], collapse = ' + ')\n",
    "ctrls   <- str_c(wctrls, ' + ', cdctrls)"
   ]
  },
  {
   "cell_type": "code",
   "execution_count": 33,
   "metadata": {},
   "outputs": [],
   "source": [
    "fri <- function(df) {\n",
    "    statePolicy %>%\n",
    "        mutate(cluster = sample(cluster, n(), replace = F)) -> swap\n",
    "    \n",
    "    df %>%\n",
    "        select(-matches('[od]p[123]')) %>%\n",
    "        left_join(statePolicy %>%\n",
    "                  rename(origin_cluster = cluster,\n",
    "                         odate1 = p1date,\n",
    "                         odate2 = p2date,\n",
    "                         odate3 = p3date)) %>%\n",
    "        left_join(statePolicy %>%\n",
    "                  rename(destination_cluster = cluster,\n",
    "                         ddate1 = p1date,\n",
    "                         ddate2 = p2date,\n",
    "                         ddate3 = p3date)) %>%\n",
    "        mutate(op1 = as.numeric(difftime(date, odate1, units = 'day') >= 0),\n",
    "               op2 = as.numeric(difftime(date, odate2, units = 'day') >= 0),\n",
    "               op3 = as.numeric(difftime(date, odate3, units = 'day') >= 0),\n",
    "               dp1 = as.numeric(difftime(date, ddate1, units = 'day') >= 0),\n",
    "               dp2 = as.numeric(difftime(date, ddate2, units = 'day') >= 0),\n",
    "               dp3 = as.numeric(difftime(date, ddate3, units = 'day') >= 0)) %>%\n",
    "        replace_na(list(op2 = 0, dp2 = 0)) %>%\n",
    "        select(-matches('[od]date')) -> temp\n",
    "    \n",
    "    f1 <- str_c('log(ndotd) ~ op1 + op2 + op3 + dp1 + dp2 + dp3 + ', ctrls, \n",
    "                ' | dyad + date | 0 | origin_cluster + destination_cluster')\n",
    "    f2 <- str_c('log(pdotd) ~ op1 + op2 + op3 + dp1 + dp2 + dp3 + ', ctrls, \n",
    "                ' | dyad + date | 0 | origin_cluster + destination_cluster')\n",
    "    \n",
    "    fit1 <- felm(as.formula(f1), temp)\n",
    "    fit2 <- felm(as.formula(f2), temp, weights = temp$n)\n",
    "    \n",
    "    as.data.frame(summary(fit1)$coef) %>%\n",
    "        mutate(var  = rownames(.),\n",
    "               dv   = 'ndotd') %>%\n",
    "        bind_rows(as.data.frame(summary(fit2)$coef) %>% \n",
    "                  mutate(var  = rownames(.),\n",
    "                         dv   = 'pdotd')) %>%\n",
    "        rename(estimate = Estimate, se = `Cluster s.e.`) %>%\n",
    "        filter(str_detect(var, '[od]p[123]')) -> out\n",
    "    \n",
    "    return(out)\n",
    "}\n",
    "\n",
    "foreach(i = 1:500, .combine = rbind) %dopar% fri(df) -> fri_results"
   ]
  },
  {
   "cell_type": "code",
   "execution_count": 20,
   "metadata": {},
   "outputs": [
    {
     "name": "stderr",
     "output_type": "stream",
     "text": [
      "Warning message in newols(mm, nostats = nostats[1], exactDOF = exactDOF, onlyse = onlyse, :\n",
      "“Negative eigenvalues set to zero in multiway clustered variance matrix. See felm(...,psdef=FALSE)”\n",
      "Warning message in newols(mm, nostats = nostats[1], exactDOF = exactDOF, onlyse = onlyse, :\n",
      "“Negative eigenvalues set to zero in multiway clustered variance matrix. See felm(...,psdef=FALSE)”\n",
      "Warning message in chol.default(mat, pivot = TRUE, tol = tol):\n",
      "“the matrix is either rank-deficient or indefinite”\n",
      "Warning message in chol.default(mat, pivot = TRUE, tol = tol):\n",
      "“the matrix is either rank-deficient or indefinite”\n"
     ]
    }
   ],
   "source": [
    "f1 <- str_c('log(ndotd) ~ op1 + op2 + op3 + dp1 + dp2 + dp3 + ', ctrls, \n",
    "            ' | dyad + date | 0 | origin_cluster + destination_cluster')\n",
    "f2 <- str_c('log(pdotd) ~ op1 + op2 + op3 + dp1 + dp2 + dp3 + ', ctrls, \n",
    "            ' | dyad + date | 0 | origin_cluster + destination_cluster')\n",
    "\n",
    "fit1 <- felm(as.formula(f1), df)\n",
    "fit2 <- felm(as.formula(f2), df, weights = df$n)\n",
    "\n",
    "as.data.frame(summary(fit1)$coef) %>%\n",
    "    mutate(var  = rownames(.),\n",
    "            dv   = 'ndotd') %>%\n",
    "    bind_rows(as.data.frame(summary(fit2)$coef) %>% \n",
    "              mutate(var  = rownames(.),\n",
    "                     dv   = 'pdotd')) %>%\n",
    "    rename(estimate = Estimate, se = `Cluster s.e.`) %>%\n",
    "    filter(str_detect(var, '[od]p[123]')) -> base"
   ]
  },
  {
   "cell_type": "code",
   "execution_count": null,
   "metadata": {},
   "outputs": [],
   "source": [
    "vns <- c('dp1'   = \"Dest:(ip)\",\n",
    "         'dp2'   = \"Dest:(sh)\",\n",
    "         'dp3'   = \"Dest:(ro)\",\n",
    "         'op1'   = 'Ori:(ip)',\n",
    "         'op2'   = 'Ori:(sh)',\n",
    "         'op3'   = 'Ori:(ro)',\n",
    "         'pdotd' = 'log_pdotd', \n",
    "         'ndotd' = 'log_ndotd')\n",
    "\n",
    "options(repr.plot.width=15, repr.plot.height=10)\n",
    "fri_results %>%\n",
    "    mutate(estimate = .8 * estimate) %>%\n",
    "    ggplot(aes(x = estimate, fill = dv)) +\n",
    "    geom_histogram(bins = 40) +\n",
    "    geom_vline(aes(xintercept = base), data = base) +\n",
    "    facet_grid(dv ~ var, scales = 'free', labeller = as_labeller(vns)) +\n",
    "    theme_light() +\n",
    "    scale_fill_d3() +\n",
    "    theme(text = element_text(size = 20),\n",
    "          legend.position = 'bottom') -> p\n",
    "\n",
    "ggsave('/home/mfzhao/SI_plots/rc3b_fri_dyad.pdf', p, device = 'pdf', width = 6.5, height = 6.5, scale = 2)"
   ]
  },
  {
   "cell_type": "code",
   "execution_count": null,
   "metadata": {},
   "outputs": [],
   "source": []
  }
 ],
 "metadata": {
  "kernelspec": {
   "display_name": "R 3.6",
   "language": "R",
   "name": "ir36"
  },
  "language_info": {
   "codemirror_mode": "r",
   "file_extension": ".r",
   "mimetype": "text/x-r-source",
   "name": "R",
   "pygments_lexer": "r",
   "version": "3.6.3"
  }
 },
 "nbformat": 4,
 "nbformat_minor": 4
}
