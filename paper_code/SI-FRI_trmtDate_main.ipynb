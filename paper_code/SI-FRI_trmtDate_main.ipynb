{
 "cells": [
  {
   "cell_type": "code",
   "execution_count": 56,
   "metadata": {},
   "outputs": [],
   "source": [
    "library(readr)\n",
    "library(dplyr)\n",
    "library(tidyr)\n",
    "library(stringr)\n",
    "library(doMC)\n",
    "library(lubridate)\n",
    "library(ggplot2)\n",
    "library(lfe)\n",
    "library(ggsci)\n",
    "library(xgboost)\n",
    "library(doMC)\n",
    "registerDoMC(24)"
   ]
  },
  {
   "cell_type": "code",
   "execution_count": 25,
   "metadata": {},
   "outputs": [
    {
     "name": "stderr",
     "output_type": "stream",
     "text": [
      "Parsed with column specification:\n",
      "cols(\n",
      "  key = \u001b[31mcol_character()\u001b[39m,\n",
      "  p1sdp = \u001b[34mcol_date(format = \"\")\u001b[39m,\n",
      "  p2shp = \u001b[34mcol_date(format = \"\")\u001b[39m,\n",
      "  p3rop = \u001b[34mcol_date(format = \"\")\u001b[39m\n",
      ")\n",
      "\n"
     ]
    }
   ],
   "source": [
    "fp  <- '/pool001/mfzhao/'\n",
    "df  <- read_rds(str_c(fp, 'PROCESSED_DATA/panel_xgr.RDS'))\n",
    "pp  <- read_csv(str_c(fp, 'PROCESSED_DATA/policyPeriods.csv'))\n",
    "WM  <- read_rds(str_c(fp, 'PROCESSED_DATA/stateWM.RDS'))"
   ]
  },
  {
   "cell_type": "code",
   "execution_count": 26,
   "metadata": {},
   "outputs": [],
   "source": [
    "weightedAlters <- function(df, wm, ...) {\n",
    "    df %>% \n",
    "        select(date, key, ...) %>%\n",
    "        spread(key = key, value = ...) %>%\n",
    "        ungroup() %>%\n",
    "        select(-date) %>%\n",
    "        as.matrix() -> txn_data\n",
    "    \n",
    "    df %>%\n",
    "        ungroup() %>%\n",
    "        select(date) %>%\n",
    "        distinct() %>%\n",
    "        arrange(date) -> dates\n",
    "    \n",
    "    outMatrix <- tcrossprod(txn_data, wm)\n",
    "    colnames(outMatrix) <- colnames(txn_data)\n",
    "    \n",
    "    data.frame(dates, outMatrix) %>%\n",
    "        gather(key = 'key', value = 'value', -date) %>%\n",
    "        arrange(date, key) %>%\n",
    "        select(-date, -key) -> out_df\n",
    "    return(out_df$value)\n",
    "}"
   ]
  },
  {
   "cell_type": "code",
   "execution_count": 27,
   "metadata": {},
   "outputs": [],
   "source": [
    "pp %>%\n",
    "    mutate(cluster = str_sub(key, 1, 2)) %>%\n",
    "    select(-key) %>%\n",
    "    distinct() %>%\n",
    "    rename(p1date = p1sdp, \n",
    "           p2date = p2shp,\n",
    "           p3date = p3rop) -> statePolicy"
   ]
  },
  {
   "cell_type": "code",
   "execution_count": 31,
   "metadata": {},
   "outputs": [],
   "source": [
    "folds <- read_rds(str_c(fp, 'PROCESSED_DATA/folds.RDS'))\n",
    "rdf   <- read_rds(str_c(fp, 'PROCESSED_DATA/residualizer_data.RDS'))"
   ]
  },
  {
   "cell_type": "code",
   "execution_count": 50,
   "metadata": {},
   "outputs": [],
   "source": [
    "get_coefs <- function(dv, vars, df.r, ...) {\n",
    "    lhs <- str_c(dv, ' ~ ')\n",
    "    rhs <- str_c(vars, '| key + date | 0 | cluster')\n",
    "    form <- as.formula(str_c(lhs, rhs))\n",
    "    \n",
    "    model <- felm(form, df.r, weights = df.r$n, ...)\n",
    "    \n",
    "    as.data.frame(summary(model)$coef) %>%\n",
    "        mutate(var   = rownames(.),\n",
    "               dv    = dv,\n",
    "               model = ifelse(vars == ' p1sdp.r + p2shp.r + p3rop.r ' , 'base', 'ap')) %>%\n",
    "        filter(!str_detect(var, '[pPtT][rRmM][cCaA][pPxX]')) %>%\n",
    "        select(7, 6, 5, 1, 2, 3, 4) -> out\n",
    "    \n",
    "    colnames(out) <- c('model', 'dv', 'var', 'estimate', 'se', 't', 'p-val')\n",
    "    return(out)\n",
    "}"
   ]
  },
  {
   "cell_type": "code",
   "execution_count": 47,
   "metadata": {},
   "outputs": [],
   "source": [
    "XGresidualizer <- function(Y, colname) {\n",
    "    print(colname)\n",
    "    rdf %>%\n",
    "        ungroup() %>% \n",
    "        mutate(Y = Y,\n",
    "               Y.r = felm(Y ~ 0 | key + date, ., weights = rdf$n)$resid) -> temp_df\n",
    "  \n",
    "    folds <- list(which(temp_df$fold %in% 1), \n",
    "                  which(temp_df$fold %in% 2), \n",
    "                  which(temp_df$fold %in% 3))\n",
    "\n",
    "    dm    <- xgb.DMatrix(data = model.matrix(~ 0 + PRCP.r_fe + TMAX.r_fe, temp_df), label = temp_df$Y.r)\n",
    "    param <- list(max_depth=2, eta=.5, silent=1, objective='reg:linear')\n",
    "    fit   <- xgb.cv(params = param, \n",
    "                    data = dm, \n",
    "                    folds = folds,\n",
    "                    nrounds = 100, \n",
    "                    early_stopping_rounds = 3, \n",
    "                    weight = temp_df$n, \n",
    "                    nthread = 1)\n",
    "    best_n <- fit$best_iteration\n",
    "    for (i in 1:3) {\n",
    "        tr  <- temp_df %>% filter(fold != i)\n",
    "        trm <- xgb.DMatrix(data = model.matrix(~ 0 + PRCP.r_fe + TMAX.r_fe, tr), label = tr$Y.r)\n",
    "        fit <- xgb.train(params = param, \n",
    "                         data = trm, \n",
    "                         nrounds = best_n, \n",
    "                         weight = tr$n,\n",
    "                         nthread = 1)\n",
    "        te  <- temp_df %>% filter(fold == i)\n",
    "        tem <- xgb.DMatrix(data = model.matrix(~ 0 + PRCP.r_fe + TMAX.r_fe, te), label = te$Y.r)\n",
    "        te %>%\n",
    "            select(date, key) %>%\n",
    "            mutate(pred = predict(fit, newdata = tem)) -> pred_df \n",
    "        assign(str_c('temp',i), pred_df) %>%\n",
    "        select(-pred, -date, -key)\n",
    "    }\n",
    "    out <- bind_rows(temp1, temp2, temp3) %>%\n",
    "        arrange(date, key) %>%\n",
    "        mutate(tempname = temp_df$Y.r - pred) %>%\n",
    "        select(-pred, -date, -key)\n",
    "    \n",
    "    colnames(out) <- str_c(colname, '.r')\n",
    "    return(out)\n",
    "}"
   ]
  },
  {
   "cell_type": "code",
   "execution_count": 53,
   "metadata": {},
   "outputs": [],
   "source": [
    "fri <- function(df, iter) {\n",
    "    df %>%\n",
    "        select(-matches('p1sdp'),\n",
    "               -matches('p2shp'),\n",
    "               -matches('p3rop')) %>%\n",
    "        left_join(statePolicy %>%\n",
    "                  mutate(cluster = sample(cluster, n(), replace = F))) %>%\n",
    "        mutate(p1sdp = as.numeric(date - p1date >= 0),\n",
    "               p2shp = ifelse(is.na(p2date), 0, as.numeric(date - p2date >= 0)),\n",
    "               p3rop = as.numeric(date - p3date >= 0)) %>%\n",
    "        mutate(stalter_p1sdp =  weightedAlters(., WM, p1sdp),\n",
    "               stalter_p2shp =  weightedAlters(., WM, p2shp),\n",
    "               stalter_p3rop =  weightedAlters(., WM, p3rop)) -> temp\n",
    "    \n",
    "        cols_to_xgr <- colnames(\n",
    "            temp %>% select(\n",
    "                p1sdp,\n",
    "                p2shp,\n",
    "                p3rop,\n",
    "                stalter_p1sdp,\n",
    "                stalter_p2shp,\n",
    "                stalter_p3rop\n",
    "            )\n",
    "        )\n",
    "\n",
    "    foreach(i = 1:length(cols_to_xgr), .combine = cbind) %do% \n",
    "        XGresidualizer(temp[[cols_to_xgr[i]]], cols_to_xgr[i]) -> xg.residuals\n",
    "    \n",
    "    temp %>%\n",
    "        select(-p1sdp,\n",
    "               -p2shp,\n",
    "               -p3rop,\n",
    "               -stalter_p1sdp,\n",
    "               -stalter_p2shp,\n",
    "               -stalter_p3rop) %>%\n",
    "        bind_cols(xg.residuals) -> df.r\n",
    "    \n",
    "    ldvs <- c('log_mcbgv.r', 'log_pgt2kmt.r', 'log_pgt1hafh.r', 'log_pnchd.r')\n",
    "    f1 <- ' p1sdp.r + p2shp.r + p3rop.r '  \n",
    "    f2 <- ' p1sdp.r + p2shp.r + p3rop.r + stalter_p1sdp.r + stalter_p2shp.r + stalter_p3rop.r '\n",
    "    \n",
    "    foreach(dv = ldvs, .combine = rbind) %:% \n",
    "        foreach(f = c(f1, f2), .combine = rbind) %do%\n",
    "        get_coefs(dv, f, df.r) %>%\n",
    "        select(-se, -t) %>%\n",
    "        mutate(iter = iter) -> coefs\n",
    "    \n",
    "    return(coefs)\n",
    "}"
   ]
  },
  {
   "cell_type": "code",
   "execution_count": 57,
   "metadata": {},
   "outputs": [],
   "source": [
    "foreach(i = 1:500, .combine = rbind) %dopar% fri(df, i) -> fri_results"
   ]
  },
  {
   "cell_type": "code",
   "execution_count": 61,
   "metadata": {},
   "outputs": [],
   "source": [
    "ldvs <- c('log_mcbgv.r', 'log_pgt2kmt.r', 'log_pgt1hafh.r', 'log_pnchd.r')\n",
    "f1   <- ' p1sdp.r + p2shp.r + p3rop.r '  \n",
    "f2   <- ' p1sdp.r + p2shp.r + p3rop.r + stalter_p1sdp.r + stalter_p2shp.r + stalter_p3rop.r '\n",
    "\n",
    "foreach(dv = ldvs, .combine = rbind) %:% \n",
    "    foreach(f = c(f1, f2), .comb ine = rbind) %dopar%\n",
    "    get_coefs(dv, f, df) -> coefs"
   ]
  },
  {
   "cell_type": "code",
   "execution_count": 137,
   "metadata": {},
   "outputs": [
    {
     "name": "stderr",
     "output_type": "stream",
     "text": [
      "Warning message:\n",
      "“Ignoring unknown parameters: inherit.aes”\n"
     ]
    }
   ],
   "source": [
    "coefs %>%\n",
    "    filter(model == 'ap') %>%\n",
    "    mutate(dv  = str_sub(dv, 1, -3),\n",
    "           var = str_sub(var, 1, -3)) -> base\n",
    "\n",
    "options(repr.plot.width=15, repr.plot.height=10)\n",
    "fri_results %>%\n",
    "    filter(model == 'ap') %>%\n",
    "    mutate(dv  = str_sub(dv, 1, -3),\n",
    "           var = str_sub(var, 1, -3)) %>%\n",
    "    mutate(estimate = ifelse(var != 'p1sdp', estimate, estimate)) %>%\n",
    "    ggplot(aes(x = estimate, fill = dv)) + \n",
    "    geom_histogram(bins = 40) + \n",
    "    geom_vline(aes(xintercept = estimate), size = 1, data = base, color = 'black', inherit.aes = F) +\n",
    "    facet_grid(dv ~ var, scales = 'free') +\n",
    "    xlab('') + \n",
    "    ylab('') +\n",
    "    scale_fill_d3() +\n",
    "    theme_light() + \n",
    "    theme(text = element_text(size = 20),\n",
    "          legend.position = 'bottom') -> p\n",
    "\n",
    "ggsave('/home/mfzhao/SI_plots/rc3a_fri_main.pdf', p, device = 'pdf', width = 6.5, height = 6.5, scale = 2)"
   ]
  },
  {
   "cell_type": "code",
   "execution_count": 135,
   "metadata": {},
   "outputs": [
    {
     "name": "stderr",
     "output_type": "stream",
     "text": [
      "Joining, by = c(\"model\", \"dv\", \"var\")\n",
      "\n"
     ]
    },
    {
     "data": {
      "text/html": [
       "<table>\n",
       "<caption>A tibble: 6 × 5</caption>\n",
       "<thead>\n",
       "\t<tr><th scope=col>var</th><th scope=col>log_mcbgv</th><th scope=col>log_pgt2kmt</th><th scope=col>log_pgt1hafh</th><th scope=col>log_pnchd</th></tr>\n",
       "\t<tr><th scope=col>&lt;chr&gt;</th><th scope=col>&lt;dbl&gt;</th><th scope=col>&lt;dbl&gt;</th><th scope=col>&lt;dbl&gt;</th><th scope=col>&lt;dbl&gt;</th></tr>\n",
       "</thead>\n",
       "<tbody>\n",
       "\t<tr><td>p1sdp        </td><td>0.092</td><td>0.126</td><td>0.254</td><td>0.380</td></tr>\n",
       "\t<tr><td>p2shp        </td><td>0.000</td><td>0.000</td><td>0.002</td><td>0.000</td></tr>\n",
       "\t<tr><td>p3rop        </td><td>0.002</td><td>0.006</td><td>0.008</td><td>0.010</td></tr>\n",
       "\t<tr><td>stalter_p1sdp</td><td>0.018</td><td>0.024</td><td>0.046</td><td>0.074</td></tr>\n",
       "\t<tr><td>stalter_p2shp</td><td>0.032</td><td>0.028</td><td>0.032</td><td>0.022</td></tr>\n",
       "\t<tr><td>stalter_p3rop</td><td>0.000</td><td>0.000</td><td>0.000</td><td>0.000</td></tr>\n",
       "</tbody>\n",
       "</table>\n"
      ],
      "text/latex": [
       "A tibble: 6 × 5\n",
       "\\begin{tabular}{lllll}\n",
       " var & log\\_mcbgv & log\\_pgt2kmt & log\\_pgt1hafh & log\\_pnchd\\\\\n",
       " <chr> & <dbl> & <dbl> & <dbl> & <dbl>\\\\\n",
       "\\hline\n",
       "\t p1sdp         & 0.092 & 0.126 & 0.254 & 0.380\\\\\n",
       "\t p2shp         & 0.000 & 0.000 & 0.002 & 0.000\\\\\n",
       "\t p3rop         & 0.002 & 0.006 & 0.008 & 0.010\\\\\n",
       "\t stalter\\_p1sdp & 0.018 & 0.024 & 0.046 & 0.074\\\\\n",
       "\t stalter\\_p2shp & 0.032 & 0.028 & 0.032 & 0.022\\\\\n",
       "\t stalter\\_p3rop & 0.000 & 0.000 & 0.000 & 0.000\\\\\n",
       "\\end{tabular}\n"
      ],
      "text/markdown": [
       "\n",
       "A tibble: 6 × 5\n",
       "\n",
       "| var &lt;chr&gt; | log_mcbgv &lt;dbl&gt; | log_pgt2kmt &lt;dbl&gt; | log_pgt1hafh &lt;dbl&gt; | log_pnchd &lt;dbl&gt; |\n",
       "|---|---|---|---|---|\n",
       "| p1sdp         | 0.092 | 0.126 | 0.254 | 0.380 |\n",
       "| p2shp         | 0.000 | 0.000 | 0.002 | 0.000 |\n",
       "| p3rop         | 0.002 | 0.006 | 0.008 | 0.010 |\n",
       "| stalter_p1sdp | 0.018 | 0.024 | 0.046 | 0.074 |\n",
       "| stalter_p2shp | 0.032 | 0.028 | 0.032 | 0.022 |\n",
       "| stalter_p3rop | 0.000 | 0.000 | 0.000 | 0.000 |\n",
       "\n"
      ],
      "text/plain": [
       "  var           log_mcbgv log_pgt2kmt log_pgt1hafh log_pnchd\n",
       "1 p1sdp         0.092     0.126       0.254        0.380    \n",
       "2 p2shp         0.000     0.000       0.002        0.000    \n",
       "3 p3rop         0.002     0.006       0.008        0.010    \n",
       "4 stalter_p1sdp 0.018     0.024       0.046        0.074    \n",
       "5 stalter_p2shp 0.032     0.028       0.032        0.022    \n",
       "6 stalter_p3rop 0.000     0.000       0.000        0.000    "
      ]
     },
     "metadata": {},
     "output_type": "display_data"
    }
   ],
   "source": [
    "fri_results %>%\n",
    "    filter(model == 'ap') %>%\n",
    "    mutate(dv  = str_sub(dv, 1, -3),\n",
    "           var = str_sub(var, 1, -3)) %>%\n",
    "    mutate(estimate = ifelse(var != 'p1sdp', estimate, estimate)) %>%\n",
    "    left_join(base %>% select(model, dv, var, base = estimate)) %>%\n",
    "    group_by(model, dv, var) %>%\n",
    "    summarize(pv = sum(estimate > base)/500) %>%\n",
    "    mutate(pv = ifelse(pv > 0.5, (1 - pv), pv)) %>%\n",
    "    spread(key = dv, value = pv) %>%\n",
    "    ungroup() %>%\n",
    "    select(var, log_mcbgv, log_pgt2kmt, log_pgt1hafh, log_pnchd)"
   ]
  },
  {
   "cell_type": "code",
   "execution_count": null,
   "metadata": {},
   "outputs": [],
   "source": []
  }
 ],
 "metadata": {
  "kernelspec": {
   "display_name": "R 3.6",
   "language": "R",
   "name": "ir36"
  },
  "language_info": {
   "codemirror_mode": "r",
   "file_extension": ".r",
   "mimetype": "text/x-r-source",
   "name": "R",
   "pygments_lexer": "r",
   "version": "3.6.3"
  }
 },
 "nbformat": 4,
 "nbformat_minor": 4
}
