{
 "cells": [
  {
   "cell_type": "code",
   "execution_count": null,
   "metadata": {},
   "outputs": [],
   "source": [
    "library(dplyr)\n",
    "library(tidyr)\n",
    "library(ggsci)\n",
    "library(lfe)\n",
    "library(stringr)\n",
    "library(ggplot2)"
   ]
  },
  {
   "cell_type": "code",
   "execution_count": null,
   "metadata": {},
   "outputs": [],
   "source": [
    "df <- data.table::fread('/pool001/mfzhao/PROCESSED_DATA/dyadic_mvmt_2020.csv')"
   ]
  },
  {
   "cell_type": "code",
   "execution_count": null,
   "metadata": {},
   "outputs": [],
   "source": [
    "df %>% \n",
    "    filter(origin_cluster != destination_cluster) %>%\n",
    "    mutate(oRain  = as.numeric(oPRCP > 0),\n",
    "           dRain  = as.numeric(dPRCP > 0),\n",
    "           nearby = as.numeric(dist < 100)) -> df"
   ]
  },
  {
   "cell_type": "code",
   "execution_count": null,
   "metadata": {},
   "outputs": [],
   "source": [
    "df %>%\n",
    "    group_by(dyad) %>%\n",
    "    mutate_at(vars(op1, op2, op3, dp1, dp2, dp3),\n",
    "              .funs = list(l1 = function(x) lag(x),\n",
    "                           l2 = function(x) lag(x, 2),\n",
    "                           l3 = function(x) lag(x, 3),\n",
    "                           l4 = function(x) lag(x, 4),\n",
    "                           l5 = function(x) lag(x, 5),\n",
    "                           m1 = function(x) lead(x),\n",
    "                           m2 = function(x) lead(x, 2),\n",
    "                           m3 = function(x) lead(x, 3),\n",
    "                           m4 = function(x) lead(x, 4),\n",
    "                           m5 = function(x) lead(x, 5))) -> df\n",
    "                           \n",
    "df %>%\n",
    "    fill(matches(\"m[0-9]\"), .direction = 'down') %>%\n",
    "    fill(matches(\"l[0-9]\"), .direction = 'up') -> df"
   ]
  },
  {
   "cell_type": "code",
   "execution_count": null,
   "metadata": {},
   "outputs": [],
   "source": [
    "cns <- colnames(df)\n",
    "rhs <- str_c(cns[str_detect(cns, '[od]p[123]_[ml][0-9]')], collapse = ' + ')"
   ]
  },
  {
   "cell_type": "code",
   "execution_count": null,
   "metadata": {},
   "outputs": [],
   "source": [
    "fit1 <- felm(log(ndotd) ~ op1 + op2 + op3 + dp1 + dp2 + dp3 \n",
    "             | dyad + date | 0 | origin_cluster + destination_cluster, df)\n",
    "fit2 <- felm(log(pdotd) ~ op1 + op2 + op3 + dp1 + dp2 + dp3\n",
    "             | dyad + date | 0 | origin_cluster + destination_cluster, df, weights = df$n)\n"
   ]
  },
  {
   "cell_type": "code",
   "execution_count": null,
   "metadata": {},
   "outputs": [],
   "source": [
    "df$op1"
   ]
  },
  {
   "cell_type": "code",
   "execution_count": null,
   "metadata": {},
   "outputs": [],
   "source": [
    "fit1 <- felm(as.formula(str_c('log(ndotd) ~ op1 + op2 + op3 + dp1 + dp2 + dp3 + ', rhs, \n",
    "             ' | dyad + date | 0 | origin_cluster + destination_cluster')), df)\n",
    "fit2 <- felm(as.formula(str_c('log(ndotd) ~ op1 + op2 + op3 + dp1 + dp2 + dp3 + ', rhs, \n",
    "             ' | dyad + date | 0 | origin_cluster + destination_cluster')), df, weights = df$n)"
   ]
  },
  {
   "cell_type": "code",
   "execution_count": null,
   "metadata": {},
   "outputs": [],
   "source": [
    "vns <- c('dp1'   = \"Dest:(ip)\",\n",
    "         'dp2'   = \"Dest:(sh)\",\n",
    "         'dp3'   = \"Dest:(ro)\",\n",
    "         'op1'   = 'Ori:(ip)',\n",
    "         'op2'   = 'Ori:(sh)',\n",
    "         'op3'   = 'Ori:(ro)',\n",
    "         'pdotd' = 'log_pdotd', \n",
    "         'ndotd' = 'log_ndotd')\n",
    "\n",
    "as.data.frame(summary(fit1)$coef) %>%\n",
    "     mutate(var  = rownames(.),\n",
    "            dv   = 'ndotd') %>%\n",
    "    bind_rows(as.data.frame(summary(fit2)$coef) %>%\n",
    "              mutate(var  = rownames(.),\n",
    "                     dv   = 'pdotd')) %>%\n",
    "    mutate(ll  = ifelse(str_detect(var, '_l[0-9]'), as.numeric(str_sub(var, -1, -1)), \n",
    "                        ifelse(str_detect(var, '_m[0-9]'), -1 * as.numeric(str_sub(var, -1, -1)), 0)),\n",
    "           var = str_replace(var, '_[lm][0-9]', '')) %>%\n",
    "    rename(estimate = Estimate, se = `Cluster s.e.`) %>%\n",
    "    ggplot(aes(x = ll, y = estimate, color = dv)) +\n",
    "    geom_hline(aes(yintercept = 0), linetype = 2) +\n",
    "    geom_point(position = position_dodge(width = .5), size = 2) + \n",
    "    geom_linerange(aes(ymin = estimate - 1.98 * se, ymax = estimate + 1.98 * se), \n",
    "                   position = position_dodge(width = .5), size = .5) +\n",
    "    facet_grid(var~dv, scales = 'free_y', labeller = as_labeller(vns)) +\n",
    "    xlab('') + \n",
    "    ylab('') +\n",
    "    scale_color_d3() +\n",
    "    labs(color = \"Outcome\") +\n",
    "    theme_light() +\n",
    "    theme(text = element_text(size=20),\n",
    "          legend.position = 'bottom') -> p\n",
    "\n",
    "p\n",
    "ggsave('/home/mfzhao/SI_plots/rc2b_ll_dyad.pdf', p, device = 'pdf', width = 6.5, height = 6.5, scale = 2)"
   ]
  },
  {
   "cell_type": "code",
   "execution_count": null,
   "metadata": {},
   "outputs": [],
   "source": [
    "as.data.frame(summary(fit1)$coef) %>%\n",
    "     mutate(var  = rownames(.),\n",
    "            dv   = 'ndotd') %>%\n",
    "    bind_rows(as.data.frame(summary(fit2)$coef) %>%\n",
    "              mutate(var  = rownames(.),\n",
    "                     dv   = 'pdotd')) %>%\n",
    "    mutate(ll  = ifelse(str_detect(var, '_l[0-9]'), as.numeric(str_sub(var, -1, -1)), \n",
    "                        ifelse(str_detect(var, '_m[0-9]'), -1 * as.numeric(str_sub(var, -1, -1)), 0))) %>%\n",
    "    filter(str_detect(var, '[od]p[123]$'))"
   ]
  },
  {
   "cell_type": "code",
   "execution_count": null,
   "metadata": {},
   "outputs": [],
   "source": [
    "options(repr.plot.width=15, repr.plot.height=10)\n",
    "temp %>%\n",
    "    mutate(od = ifelse(str_detect(var, 'op'), 'origin policy', 'destination policy'),\n",
    "           od = factor(od, c('origin policy', 'destination policy')),\n",
    "           var = ifelse(str_detect(var, 'p1'), 'ip', \n",
    "                        ifelse(str_detect(var, 'p2'), 'sh', 'ro')),\n",
    "           var = factor(var, levels = c('ip', 'sh', 'ro'))) %>%\n",
    "    ggplot(aes(x = var, y = estimate, color = type)) + \n",
    "    geom_hline(aes(yintercept = 0), linetype = 2) +\n",
    "    geom_point(position = position_dodge(0.5), size = 3) +\n",
    "    geom_linerange(aes(ymin = estimate - 1.98 * se, ymax = estimate + 1.98 * se), \n",
    "                   position = position_dodge(0.5), size = 1) +\n",
    "    xlab('') + \n",
    "    ylab('') +\n",
    "    scale_color_d3() + \n",
    "    facet_grid(dv ~ od, scales = 'free_x') +\n",
    "    theme_light() +\n",
    "    theme(text = element_text(size=20),\n",
    "          legend.position = 'bottom') -> p\n",
    "\n",
    "ggsave('/home/mfzhao/p3.pdf', p, device = 'pdf', width = 6.5, height = 5, scale = 2)"
   ]
  },
  {
   "cell_type": "code",
   "execution_count": null,
   "metadata": {},
   "outputs": [],
   "source": [
    "p"
   ]
  },
  {
   "cell_type": "code",
   "execution_count": null,
   "metadata": {},
   "outputs": [],
   "source": [
    "temp %>% \n",
    "    mutate(impact = (exp(estimate) - 1) * 100) %>%\n",
    "    filter(type == 'all')"
   ]
  },
  {
   "cell_type": "code",
   "execution_count": null,
   "metadata": {},
   "outputs": [],
   "source": [
    "df.op_mex %>%\n",
    "    mutate(o   = ifelse(op3 == 1, 'p3', \n",
    "                     ifelse(op2 == 1, 'p2', \n",
    "                        ifelse(op1 == 1, 'p1', 'p0'))),\n",
    "           dp0 = 1) -> df.op_mex"
   ]
  },
  {
   "cell_type": "code",
   "execution_count": null,
   "metadata": {},
   "outputs": [],
   "source": []
  },
  {
   "cell_type": "code",
   "execution_count": null,
   "metadata": {},
   "outputs": [],
   "source": [
    "df.op_mex %>%\n",
    "    select(date, dyad, origin_cluster, destination_cluster, n, nearby, bordering, dist, \n",
    "           ndotd, pdotd, oRain, dRain, oTMAX, dTMAX) %>%\n",
    "    bind_cols(as.data.frame(model.matrix(ndotd ~ 0 + o * (dp0 + dp1 + dp2 + dp3), df.op_mex))) -> df.opex"
   ]
  },
  {
   "cell_type": "code",
   "execution_count": null,
   "metadata": {},
   "outputs": [],
   "source": [
    "df.opex %>%\n",
    "    mutate(`op0:dp0` = op0 * dp0,\n",
    "           `op0:dp1` = op0 * dp1,\n",
    "           `op0:dp2` = op0 * dp2,\n",
    "           `op0:dp3` = op0 * dp3) -> df.opex\n",
    "\n",
    "colnames(df.opex) <- str_replace(colnames(df.opex), ':', '_')"
   ]
  },
  {
   "cell_type": "code",
   "execution_count": null,
   "metadata": {},
   "outputs": [],
   "source": [
    "fit7 <- felm(log(ndotd) ~ \n",
    "                          op1 + op2 + op3 +\n",
    "                          op0_dp1 + op0_dp2 + op0_dp3 +\n",
    "                          op1_dp1 + op1_dp2 + op1_dp3 +\n",
    "                          op2_dp1 + op2_dp2 + op2_dp3 +\n",
    "                          op3_dp1 + op3_dp2 + op3_dp3 \n",
    "             | dyad + date | 0 | origin_cluster + destination_cluster, df.opex)\n",
    "\n",
    "fit8 <- felm(log(pdotd) ~ \n",
    "                          op1 + op2 + op3 +\n",
    "                          op0_dp1 + op0_dp2 + op0_dp3 +\n",
    "                          op1_dp1 + op1_dp2 + op1_dp3 +\n",
    "                          op2_dp1 + op2_dp2 + op2_dp3 +\n",
    "                          op3_dp1 + op3_dp2 + op3_dp3 \n",
    "             | dyad + date | 0 | origin_cluster + destination_cluster, df.opex, weights = df.opex$n)\n"
   ]
  },
  {
   "cell_type": "code",
   "execution_count": null,
   "metadata": {},
   "outputs": [],
   "source": [
    "df.opex %>%\n",
    "    filter(op3_dp1 == 1 & op3_dp2 == 0) %>%\n",
    "    select(dyad) %>%\n",
    "    distinct()"
   ]
  },
  {
   "cell_type": "code",
   "execution_count": null,
   "metadata": {},
   "outputs": [],
   "source": [
    "df.opex  %>%\n",
    "    mutate_at(vars(matches('[od]p[0123]')), \n",
    "              .funs = list(c  = function(x) x * .$nearby, \n",
    "                           nc = function(x) x * (1 - .$nearby))) -> df.opex2\n",
    "colnames(df.opex2)"
   ]
  },
  {
   "cell_type": "code",
   "execution_count": null,
   "metadata": {},
   "outputs": [],
   "source": [
    "fit9 <- felm(log(ndotd) ~ \n",
    "                          op1_c + op2_c + op3_c +\n",
    "                          op0_dp1_c + op0_dp2_c + op0_dp3_c +\n",
    "                          op1_dp1_c + op1_dp2_c + op1_dp3_c +\n",
    "                          op2_dp1_c + op2_dp2_c + op2_dp3_c +\n",
    "                          op3_dp1_c + op3_dp2_c + op3_dp3_c +\n",
    "                          op1_nc + op2_nc + op3_nc +\n",
    "                          op0_dp1_nc + op0_dp2_nc + op0_dp3_nc +\n",
    "                          op1_dp1_nc + op1_dp2_nc + op1_dp3_nc +\n",
    "                          op2_dp1_nc + op2_dp2_nc + op2_dp3_nc +\n",
    "                          op3_dp1_nc + op3_dp2_nc + op3_dp3_nc \n",
    "             | dyad + date | 0 | origin_cluster + destination_cluster, df.opex2)\n",
    "\n",
    "fit10 <- felm(log(pdotd) ~ \n",
    "                          op1_c + op2_c + op3_c +\n",
    "                          op0_dp1_c + op0_dp2_c + op0_dp3_c +\n",
    "                          op1_dp1_c + op1_dp2_c + op1_dp3_c +\n",
    "                          op2_dp1_c + op2_dp2_c + op2_dp3_c +\n",
    "                          op3_dp1_c + op3_dp2_c + op3_dp3_c +\n",
    "                          op1_nc + op2_nc + op3_nc +\n",
    "                          op0_dp1_nc + op0_dp2_nc + op0_dp3_nc +\n",
    "                          op1_dp1_nc + op1_dp2_nc + op1_dp3_nc +\n",
    "                          op2_dp1_nc + op2_dp2_nc + op2_dp3_nc +\n",
    "                          op3_dp1_nc + op3_dp2_nc + op3_dp3_nc  \n",
    "             | dyad + date | 0 | origin_cluster + destination_cluster, df.opex2, weights = df.opex2$n)\n"
   ]
  },
  {
   "cell_type": "code",
   "execution_count": null,
   "metadata": {},
   "outputs": [],
   "source": [
    "df %>%\n",
    "    mutate(o = ifelse(op3 == 1, 'op3', \n",
    "                     ifelse(op2 == 1, 'op2',\n",
    "                           ifelse(op1 == 1, 'op1', 'op0'))),\n",
    "           d = ifelse(dp3 == 1, 'dp3', \n",
    "                     ifelse(dp2 == 1, 'dp2',\n",
    "                           ifelse(dp1 == 1, 'dp1', 'dp0')))) %>%\n",
    "    group_by(o, d, nearby) %>%\n",
    "    tally() -> ics\n",
    "\n",
    "ics %>%\n",
    "    ungroup() %>%\n",
    "    rename(type = nearby) %>%\n",
    "    mutate(type = ifelse(type, 'nearby', 'distant')) %>%\n",
    "    bind_rows(df %>%\n",
    "              mutate(o = ifelse(op3 == 1, 'op3', \n",
    "                     ifelse(op2 == 1, 'op2',\n",
    "                           ifelse(op1 == 1, 'op1', 'op0'))),\n",
    "                     d = ifelse(dp3 == 1, 'dp3', \n",
    "                     ifelse(dp2 == 1, 'dp2',\n",
    "                           ifelse(dp1 == 1, 'dp1', 'dp0'))),\n",
    "                    type = 'all') %>%\n",
    "              group_by(o, d, type) %>%\n",
    "              tally()) %>%\n",
    "    rename(`origin policy` = o, `destination policy` = d) -> ics"
   ]
  },
  {
   "cell_type": "code",
   "execution_count": null,
   "metadata": {},
   "outputs": [],
   "source": [
    "pn <- c('op1'   = \"Origin Initial Policies\",\n",
    "        'op2'   = \"Origin Shelter-in-place\",\n",
    "        'op3'   = \"Origin Reopening\",\n",
    "        'ndotd' = 'log_ndotd',\n",
    "        'pdotd' = 'log_pdotd')\n",
    "\n",
    "as.data.frame(summary(fit9)$coef) %>%\n",
    "    mutate(var = rownames(.)) %>%\n",
    "    filter(!is.na(Estimate)) %>%\n",
    "    mutate(var  = ifelse(var == 'op3_dp0', 'op3_dp1', var),\n",
    "           dv   = 'ndotd',\n",
    "           type = ifelse(str_detect(var, '_nc$'), 'distant', 'nearby'),\n",
    "           var  = str_replace(var, '_n?c', '')) %>%\n",
    "    bind_rows(as.data.frame(summary(fit10)$coef) %>%\n",
    "              mutate(var = rownames(.)) %>%\n",
    "              filter(!is.na(Estimate)) %>%\n",
    "              mutate(var  = ifelse(var == 'op3_dp0', 'op3_dp1', var),\n",
    "                     dv   = 'pdotd',\n",
    "                     type = ifelse(str_detect(var, '_nc$'), 'distant', 'nearby'),\n",
    "                     var  = str_replace(var, '_n?c', '')),\n",
    "              as.data.frame(summary(fit7)$coef) %>%\n",
    "              mutate(var = rownames(.)) %>%\n",
    "              filter(!is.na(Estimate)) %>%\n",
    "              mutate(var  = ifelse(var == 'op3_dp0', 'op3_dp1', var),\n",
    "                     dv   = 'ndotd', \n",
    "                     type = 'all'), \n",
    "              as.data.frame(summary(fit8)$coef) %>%\n",
    "              mutate(var = rownames(.)) %>%\n",
    "              filter(!is.na(Estimate)) %>%\n",
    "              mutate(var  = ifelse(var == 'op3_dp0', 'op3_dp1', var),\n",
    "                     dv   = 'pdotd',\n",
    "                     type = 'all')) %>%\n",
    "    filter(!str_detect(var, 'Rain'), !str_detect(var, 'TMAX')) %>%\n",
    "    separate(var, into = c('origin policy', 'destination policy')) %>%\n",
    "    left_join(ics) %>%\n",
    "    rename(estimate = Estimate, se = `Cluster s.e.`) %>%\n",
    "    filter(!is.na(`destination policy`), `origin policy` != 'op0', `destination policy` != 'dp0') %>%\n",
    "    mutate(`destination policy` = ifelse(str_detect(`destination policy`, 'p1'), 'D:(ip)', \n",
    "                                        ifelse(str_detect(`destination policy`, 'p2'), 'D:(sh)', 'D:(ro)')),\n",
    "           `destination policy` = factor(`destination policy`, levels = c('D:(ip)', 'D:(sh)', 'D:(ro)'))) -> temp\n",
    "\n",
    "temp %>%\n",
    "    filter(n > 4000) %>%\n",
    "    ggplot(aes(x = `destination policy`, y = estimate, color = type)) + \n",
    "    geom_hline(aes(yintercept = 0), linetype = 2) +\n",
    "    geom_point(position = position_dodge(0.5), size = 3) +\n",
    "    geom_linerange(aes(ymin = estimate - 1.98 * se, ymax = estimate + 1.98 * se), \n",
    "                   position = position_dodge(0.5), size = 1) +\n",
    "    scale_color_d3() +\n",
    "    xlab('') + \n",
    "    ylab('') +\n",
    "    facet_grid(dv ~ `origin policy`, labeller = as_labeller(pn)) +\n",
    "    theme_light() +\n",
    "    theme(text = element_text(size=20),\n",
    "          legend.position = 'bottom') -> p\n",
    "\n",
    "ggsave('/home/mfzhao/p4.pdf', p, device = 'pdf', width = 6.5, height = 5, scale = 2)\n",
    "\n",
    "p"
   ]
  },
  {
   "cell_type": "code",
   "execution_count": null,
   "metadata": {},
   "outputs": [],
   "source": [
    "sum(ics$n)"
   ]
  },
  {
   "cell_type": "code",
   "execution_count": null,
   "metadata": {
    "scrolled": true
   },
   "outputs": [],
   "source": [
    "4000/(6214936/2)"
   ]
  },
  {
   "cell_type": "code",
   "execution_count": null,
   "metadata": {},
   "outputs": [],
   "source": [
    "as.data.frame(summary(fit7)$coef) %>%\n",
    "    mutate(var = rownames(.)) %>%\n",
    "    filter(!is.na(Estimate)) %>%\n",
    "    mutate(var = ifelse(var == 'op3_dp0', 'op3_dp1', var),\n",
    "           dv  = 'ndotd') %>%\n",
    "    bind_rows(as.data.frame(summary(fit8)$coef) %>%\n",
    "              mutate(var = rownames(.)) %>%\n",
    "              filter(!is.na(Estimate)) %>%\n",
    "              mutate(var = ifelse(var == 'op3_dp0', 'op3_dp1', var),\n",
    "                     dv  = 'pdotd')) %>%\n",
    "    filter(!str_detect(var, 'Rain'), !str_detect(var, 'TMAX')) %>%\n",
    "    separate(var, into = c('origin policy', 'destination policy')) %>%\n",
    "    rename(estimate = Estimate, se = `Cluster s.e.`) %>%\n",
    "    filter(!is.na(`destination policy`), `origin policy` != 'op0') %>%\n",
    "    ggplot(aes(x = `destination policy`, y = estimate)) + \n",
    "    geom_hline(aes(yintercept = 0), linetype = 2) +\n",
    "    geom_point(position = position_dodge(0.5), size = 3) +\n",
    "    geom_linerange(aes(ymin = estimate - 1.98 * se, ymax = estimate + 1.98 * se), \n",
    "                   position = position_dodge(0.5), size = 1) +\n",
    "    xlab('') + \n",
    "    ylab('') +\n",
    "    facet_grid(dv ~ `origin policy`) +\n",
    "    theme_light() +\n",
    "    theme(text = element_text(size=20),\n",
    "          legend.position = 'bottom')"
   ]
  },
  {
   "cell_type": "code",
   "execution_count": null,
   "metadata": {},
   "outputs": [],
   "source": [
    "temp %>%\n",
    "    mutate(impact = (exp(estimate) - 1) * 100) %>%\n",
    "    filter(`origin policy`      == 'op3', \n",
    "           `destination policy` == 'D:(ro)')"
   ]
  },
  {
   "cell_type": "code",
   "execution_count": null,
   "metadata": {},
   "outputs": [],
   "source": [
    "fit1 <- felm(log(pdotd) ~ oRain1 + oRain2 + poly(oTMAX, 2) + poly(dTMAX, 2) +\n",
    "             op1 + op2 + op3 + dp1 + dp2 + dp3 + \n",
    "             op1:dp1 + op1:dp2 + op1:dp3 + \n",
    "             op2:dp1 + op2:dp2 + op2:dp3 + \n",
    "             op3:dp1 + op3:dp2 + op3:dp3\n",
    "             | dyad + date | 0 | origin_cluster + destination_cluster, df, weights = df$n)\n",
    "summary(fit1)"
   ]
  },
  {
   "cell_type": "code",
   "execution_count": null,
   "metadata": {},
   "outputs": [],
   "source": [
    "fit1 <- felm(log(ndotd) ~ oRain + dRain + poly(oTMAX, 2) + poly(dTMAX, 2) +\n",
    "             op2 + op3 + dp2 + dp3 +\n",
    "             op2:dp2 + op2:dp3 + \n",
    "             op3:dp2 + op3:dp3\n",
    "             | dyad + date | 0 | origin_cluster + destination_cluster, df)\n",
    "summary(fit1)"
   ]
  },
  {
   "cell_type": "code",
   "execution_count": null,
   "metadata": {},
   "outputs": [],
   "source": [
    "fit1 <- felm(log(pdotd) ~ oRain + dRain + poly(oTMAX, 2) + poly(dTMAX, 2) +\n",
    "             op2 + op3 + dp2 + dp3 +\n",
    "             op2:dp2 + op2:dp3 + \n",
    "             op3:dp2 + op3:dp3\n",
    "             | dyad + date | 0 | origin_cluster + destination_cluster, df, weights = df$n)\n",
    "summary(fit1)"
   ]
  },
  {
   "cell_type": "code",
   "execution_count": null,
   "metadata": {},
   "outputs": [],
   "source": [
    "df %>%\n",
    "    mutate(origin = str_sub(dyad, 1, 5)) %>%\n",
    "    select(origin, n) %>%\n",
    "    distinct() %>%\n",
    "    arrange(n) %>%\n",
    "    summarize(sum(n))"
   ]
  },
  {
   "cell_type": "code",
   "execution_count": null,
   "metadata": {},
   "outputs": [],
   "source": []
  }
 ],
 "metadata": {
  "kernelspec": {
   "display_name": "R 3.6",
   "language": "R",
   "name": "ir36"
  },
  "language_info": {
   "codemirror_mode": "r",
   "file_extension": ".r",
   "mimetype": "text/x-r-source",
   "name": "R",
   "pygments_lexer": "r",
   "version": "3.6.3"
  }
 },
 "nbformat": 4,
 "nbformat_minor": 4
}
