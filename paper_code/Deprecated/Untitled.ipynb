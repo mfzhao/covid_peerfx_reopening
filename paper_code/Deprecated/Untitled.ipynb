{
 "cells": [
  {
   "cell_type": "code",
   "execution_count": 21,
   "metadata": {},
   "outputs": [
    {
     "name": "stderr",
     "output_type": "stream",
     "text": [
      "Loading required package: Matrix\n",
      "\n"
     ]
    }
   ],
   "source": [
    "library(readr)\n",
    "library(dplyr)\n",
    "library(ggplot2)\n",
    "library(stringr)\n",
    "library(lfe)"
   ]
  },
  {
   "cell_type": "code",
   "execution_count": 7,
   "metadata": {},
   "outputs": [
    {
     "name": "stderr",
     "output_type": "stream",
     "text": [
      "Parsed with column specification:\n",
      "cols(\n",
      "  date = \u001b[34mcol_date(format = \"\")\u001b[39m,\n",
      "  key = \u001b[31mcol_character()\u001b[39m,\n",
      "  nocd = \u001b[32mcol_double()\u001b[39m,\n",
      "  nocdb = \u001b[32mcol_double()\u001b[39m\n",
      ")\n",
      "\n"
     ]
    }
   ],
   "source": [
    "fp    <- '/pool001/mfzhao/'\n",
    "nocd  <- read_csv(str_c(fp, 'PROCESSED_DATA/n_outside_county_devices.csv'))\n",
    "panel <- read_rds(str_c(fp, 'PROCESSED_DATA/panel_pre_xgr.RDS'))"
   ]
  },
  {
   "cell_type": "code",
   "execution_count": 31,
   "metadata": {},
   "outputs": [
    {
     "name": "stderr",
     "output_type": "stream",
     "text": [
      "Joining, by = c(\"date\", \"key\")\n",
      "\n"
     ]
    }
   ],
   "source": [
    "nocd %>%\n",
    "    inner_join(panel %>%\n",
    "              select(key, date, TMAX, PRCP, n, cluster,\n",
    "                     p1sdp, p2shp, p3rop, \n",
    "                     p1sdpDSS, p2shpDSS, p3ropDSS, \n",
    "                     alter_p1sdp, alter_p2shp, alter_p3rop)) -> df\n",
    "    "
   ]
  },
  {
   "cell_type": "code",
   "execution_count": 38,
   "metadata": {},
   "outputs": [
    {
     "data": {
      "text/plain": [
       "\n",
       "Call:\n",
       "   felm(formula = log(nocd) ~ p1sdp + p2shp + p3rop | key + date |      0 | cluster, data = df) \n",
       "\n",
       "Residuals:\n",
       "     Min       1Q   Median       3Q      Max \n",
       "-2.62184 -0.11255 -0.00202  0.10466  2.76059 \n",
       "\n",
       "Coefficients:\n",
       "       Estimate Cluster s.e. t value Pr(>|t|)    \n",
       "p1sdp -0.007006     0.020417  -0.343    0.733    \n",
       "p2shp -0.127357     0.027347  -4.657  2.4e-05 ***\n",
       "p3rop -0.039258     0.034751  -1.130    0.264    \n",
       "---\n",
       "Signif. codes:  0 ‘***’ 0.001 ‘**’ 0.01 ‘*’ 0.05 ‘.’ 0.1 ‘ ’ 1\n",
       "\n",
       "Residual standard error: 0.2094 on 309698 degrees of freedom\n",
       "Multiple R-squared(full model): 0.9675   Adjusted R-squared: 0.9673 \n",
       "Multiple R-squared(proj model): 0.01476   Adjusted R-squared: 0.007749 \n",
       "F-statistic(full model, *iid*): 4184 on 2205 and 309698 DF, p-value: < 2.2e-16 \n",
       "F-statistic(proj model): 20.61 on 3 and 50 DF, p-value: 7.877e-09 \n",
       "\n"
      ]
     },
     "metadata": {},
     "output_type": "display_data"
    }
   ],
   "source": [
    "fit <- felm(log(nocd) ~ p1sdp + p2shp + p3rop | key + date | 0 | cluster, df, weights = df$n)\n",
    "summary(fit)"
   ]
  },
  {
   "cell_type": "code",
   "execution_count": 44,
   "metadata": {},
   "outputs": [
    {
     "data": {
      "text/plain": [
       "\n",
       "Call:\n",
       "   felm(formula = log(nocdb + 1) ~ p1sdp + p2shp + p3rop | key +      date | 0 | cluster, data = df, weights = df$n) \n",
       "\n",
       "Weighted Residuals:\n",
       "    Min      1Q  Median      3Q     Max \n",
       "-950.05  -33.79   -1.17   32.38 1146.38 \n",
       "\n",
       "Coefficients:\n",
       "      Estimate Cluster s.e. t value Pr(>|t|)    \n",
       "p1sdp -0.01837      0.01367  -1.344  0.18504    \n",
       "p2shp -0.19038      0.01578 -12.065  < 2e-16 ***\n",
       "p3rop -0.08129      0.02646  -3.072  0.00344 ** \n",
       "---\n",
       "Signif. codes:  0 ‘***’ 0.001 ‘**’ 0.01 ‘*’ 0.05 ‘.’ 0.1 ‘ ’ 1\n",
       "\n",
       "Residual standard error: 65.2 on 309698 degrees of freedom\n",
       "Multiple R-squared(full model): 0.9898   Adjusted R-squared: 0.9898 \n",
       "Multiple R-squared(proj model): 0.03689   Adjusted R-squared: 0.03003 \n",
       "F-statistic(full model, *iid*):1.367e+04 on 2205 and 309698 DF, p-value: < 2.2e-16 \n",
       "F-statistic(proj model): 63.41 on 3 and 50 DF, p-value: < 2.2e-16 \n",
       "\n"
      ]
     },
     "metadata": {},
     "output_type": "display_data"
    }
   ],
   "source": [
    "fit <- felm(log(nocdb + 1) ~ p1sdp + p2shp + p3rop | key + date | 0 | cluster, df, weights = df$n)\n",
    "summary(fit)"
   ]
  },
  {
   "cell_type": "code",
   "execution_count": 45,
   "metadata": {},
   "outputs": [
    {
     "data": {
      "text/plain": [
       "\n",
       "Call:\n",
       "   felm(formula = log(nocd) ~ p1sdp + p2shp + p3rop + alter_p1sdp +      alter_p2shp + alter_p3rop | key + date | 0 | cluster, data = df,      weights = df$n) \n",
       "\n",
       "Weighted Residuals:\n",
       "     Min       1Q   Median       3Q      Max \n",
       "-1725.65   -40.33    -2.03    37.54  1537.59 \n",
       "\n",
       "Coefficients:\n",
       "            Estimate Cluster s.e. t value Pr(>|t|)  \n",
       "p1sdp       -0.19721      0.10377  -1.900   0.0631 .\n",
       "p2shp       -0.22205      0.11451  -1.939   0.0581 .\n",
       "p3rop       -0.31019      0.14264  -2.175   0.0344 *\n",
       "alter_p1sdp  0.36036      0.20285   1.777   0.0817 .\n",
       "alter_p2shp  0.03863      0.22793   0.169   0.8661  \n",
       "alter_p3rop  0.47395      0.28352   1.672   0.1008  \n",
       "---\n",
       "Signif. codes:  0 ‘***’ 0.001 ‘**’ 0.01 ‘*’ 0.05 ‘.’ 0.1 ‘ ’ 1\n",
       "\n",
       "Residual standard error: 78.62 on 309695 degrees of freedom\n",
       "Multiple R-squared(full model): 0.9787   Adjusted R-squared: 0.9785 \n",
       "Multiple R-squared(proj model): 0.03127   Adjusted R-squared: 0.02437 \n",
       "F-statistic(full model, *iid*): 6436 on 2208 and 309695 DF, p-value: < 2.2e-16 \n",
       "F-statistic(proj model): 20.77 on 6 and 50 DF, p-value: 4.855e-12 \n",
       "\n"
      ]
     },
     "metadata": {},
     "output_type": "display_data"
    }
   ],
   "source": [
    "fit <- felm(log(nocd) ~ p1sdp + p2shp + p3rop + alter_p1sdp + alter_p2shp + alter_p3rop\n",
    "            | key + date | 0 | cluster, df, weights = df$n)\n",
    "summary(fit)"
   ]
  },
  {
   "cell_type": "code",
   "execution_count": 37,
   "metadata": {},
   "outputs": [
    {
     "data": {
      "text/plain": [
       "\n",
       "Call:\n",
       "   felm(formula = log(nocd) ~ p1sdp + p2shp + p3rop + p1sdpDSS +      p2shpDSS + p3ropDSS | key + date | 0 | cluster, data = df) \n",
       "\n",
       "Residuals:\n",
       "     Min       1Q   Median       3Q      Max \n",
       "-2.61242 -0.11230 -0.00204  0.10464  2.76471 \n",
       "\n",
       "Coefficients:\n",
       "          Estimate Cluster s.e. t value Pr(>|t|)    \n",
       "p1sdp    -0.003661     0.021718  -0.169   0.8668    \n",
       "p2shp    -0.164057     0.030638  -5.355 2.16e-06 ***\n",
       "p3rop    -0.258521     0.100984  -2.560   0.0135 *  \n",
       "p1sdpDSS -0.003876     0.002048  -1.893   0.0642 .  \n",
       "p2shpDSS -0.003818     0.002021  -1.889   0.0647 .  \n",
       "p3ropDSS  0.001680     0.001325   1.268   0.2107    \n",
       "---\n",
       "Signif. codes:  0 ‘***’ 0.001 ‘**’ 0.01 ‘*’ 0.05 ‘.’ 0.1 ‘ ’ 1\n",
       "\n",
       "Residual standard error: 0.209 on 309695 degrees of freedom\n",
       "Multiple R-squared(full model): 0.9676   Adjusted R-squared: 0.9674 \n",
       "Multiple R-squared(proj model): 0.01816   Adjusted R-squared: 0.01116 \n",
       "F-statistic(full model, *iid*): 4193 on 2208 and 309695 DF, p-value: < 2.2e-16 \n",
       "F-statistic(proj model): 13.78 on 6 and 50 DF, p-value: 3.623e-09 \n",
       "\n"
      ]
     },
     "metadata": {},
     "output_type": "display_data"
    }
   ],
   "source": [
    "fit <- felm(log(nocd) ~ p1sdp + p2shp + p3rop + p1sdpDSS + p2shpDSS + p3ropDSS\n",
    "            | key + date | 0 | cluster, df, weights = df$n)\n",
    "summary(fit)"
   ]
  },
  {
   "cell_type": "code",
   "execution_count": 42,
   "metadata": {},
   "outputs": [
    {
     "data": {
      "text/plain": [
       "\n",
       "Call:\n",
       "   felm(formula = log(nocdb + 1) ~ p1sdp + p2shp + p3rop + p1sdpDSS +      p2shpDSS + p3ropDSS | key + date | 0 | cluster, data = df,      weights = df$n) \n",
       "\n",
       "Weighted Residuals:\n",
       "     Min       1Q   Median       3Q      Max \n",
       "-1029.45   -33.07    -1.29    31.67  1165.31 \n",
       "\n",
       "Coefficients:\n",
       "          Estimate Cluster s.e. t value Pr(>|t|)    \n",
       "p1sdp    -0.014865     0.013424  -1.107 0.273437    \n",
       "p2shp    -0.210502     0.022288  -9.445 1.06e-12 ***\n",
       "p3rop    -0.451005     0.089186  -5.057 6.11e-06 ***\n",
       "p1sdpDSS -0.004622     0.001815  -2.547 0.013998 *  \n",
       "p2shpDSS -0.006830     0.001707  -4.002 0.000208 ***\n",
       "p3ropDSS  0.004157     0.001602   2.596 0.012362 *  \n",
       "---\n",
       "Signif. codes:  0 ‘***’ 0.001 ‘**’ 0.01 ‘*’ 0.05 ‘.’ 0.1 ‘ ’ 1\n",
       "\n",
       "Residual standard error: 64.55 on 309695 degrees of freedom\n",
       "Multiple R-squared(full model):  0.99   Adjusted R-squared:  0.99 \n",
       "Multiple R-squared(proj model): 0.05598   Adjusted R-squared: 0.04924 \n",
       "F-statistic(full model, *iid*):1.393e+04 on 2208 and 309695 DF, p-value: < 2.2e-16 \n",
       "F-statistic(proj model): 35.31 on 6 and 50 DF, p-value: 2.471e-16 \n",
       "\n"
      ]
     },
     "metadata": {},
     "output_type": "display_data"
    }
   ],
   "source": [
    "fit <- felm(log(nocdb + 1) ~ p1sdp + p2shp + p3rop + p1sdpDSS + p2shpDSS + p3ropDSS\n",
    "            | key + date | 0 | cluster, df, weights = df$n)\n",
    "summary(fit)"
   ]
  },
  {
   "cell_type": "code",
   "execution_count": 36,
   "metadata": {},
   "outputs": [
    {
     "data": {
      "text/html": [
       "-0.159978"
      ],
      "text/latex": [
       "-0.159978"
      ],
      "text/markdown": [
       "-0.159978"
      ],
      "text/plain": [
       "[1] -0.159978"
      ]
     },
     "metadata": {},
     "output_type": "display_data"
    }
   ],
   "source": [
    "42 * -0.0038090"
   ]
  },
  {
   "cell_type": "code",
   "execution_count": null,
   "metadata": {},
   "outputs": [],
   "source": []
  }
 ],
 "metadata": {
  "kernelspec": {
   "display_name": "R 3.6",
   "language": "R",
   "name": "ir36"
  },
  "language_info": {
   "codemirror_mode": "r",
   "file_extension": ".r",
   "mimetype": "text/x-r-source",
   "name": "R",
   "pygments_lexer": "r",
   "version": "3.6.3"
  }
 },
 "nbformat": 4,
 "nbformat_minor": 4
}
