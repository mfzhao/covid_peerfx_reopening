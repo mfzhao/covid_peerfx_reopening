{
 "cells": [
  {
   "cell_type": "code",
   "execution_count": 4,
   "metadata": {},
   "outputs": [],
   "source": [
    "library(dplyr)\n",
    "library(tidyr)\n",
    "library(lfe)\n",
    "library(stringr)\n",
    "library(ggplot2)\n",
    "library(readr)"
   ]
  },
  {
   "cell_type": "code",
   "execution_count": 5,
   "metadata": {},
   "outputs": [],
   "source": [
    "df <- read_rds('/pool001/mfzhao/PROCESSED_DATA/dyad_xgr.RDS')"
   ]
  },
  {
   "cell_type": "code",
   "execution_count": 6,
   "metadata": {},
   "outputs": [
    {
     "data": {
      "text/html": [
       "<style>\n",
       ".list-inline {list-style: none; margin:0; padding: 0}\n",
       ".list-inline>li {display: inline-block}\n",
       ".list-inline>li:not(:last-child)::after {content: \"\\00b7\"; padding: 0 .5ex}\n",
       "</style>\n",
       "<ol class=list-inline><li>'date'</li><li>'dyad'</li><li>'origin_cluster'</li><li>'destination_cluster'</li><li>'n'</li><li>'bordering'</li><li>'ndotd.uwr'</li><li>'log_ndotd.uwr'</li><li>'pdotd.uwr'</li><li>'log_pdotd.uwr'</li><li>'op1.uwr'</li><li>'op2.uwr'</li><li>'op3.uwr'</li><li>'dp1.uwr'</li><li>'dp2.uwr'</li><li>'dp3.uwr'</li><li>'op1:dp1.uwr'</li><li>'op1:dp2.uwr'</li><li>'op1:dp3.uwr'</li><li>'op2:dp1.uwr'</li><li>'op2:dp2.uwr'</li><li>'op2:dp3.uwr'</li><li>'op3:dp1.uwr'</li><li>'op3:dp2.uwr'</li><li>'op3:dp3.uwr'</li><li>'ndotd.wr'</li><li>'log_ndotd.wr'</li><li>'pdotd.wr'</li><li>'log_pdotd.wr'</li><li>'op1.wr'</li><li>'op2.wr'</li><li>'op3.wr'</li><li>'dp1.wr'</li><li>'dp2.wr'</li><li>'dp3.wr'</li><li>'op1:dp1.wr'</li><li>'op1:dp2.wr'</li><li>'op1:dp3.wr'</li><li>'op2:dp1.wr'</li><li>'op2:dp2.wr'</li><li>'op2:dp3.wr'</li><li>'op3:dp1.wr'</li><li>'op3:dp2.wr'</li><li>'op3:dp3.wr'</li></ol>\n"
      ],
      "text/latex": [
       "\\begin{enumerate*}\n",
       "\\item 'date'\n",
       "\\item 'dyad'\n",
       "\\item 'origin\\_cluster'\n",
       "\\item 'destination\\_cluster'\n",
       "\\item 'n'\n",
       "\\item 'bordering'\n",
       "\\item 'ndotd.uwr'\n",
       "\\item 'log\\_ndotd.uwr'\n",
       "\\item 'pdotd.uwr'\n",
       "\\item 'log\\_pdotd.uwr'\n",
       "\\item 'op1.uwr'\n",
       "\\item 'op2.uwr'\n",
       "\\item 'op3.uwr'\n",
       "\\item 'dp1.uwr'\n",
       "\\item 'dp2.uwr'\n",
       "\\item 'dp3.uwr'\n",
       "\\item 'op1:dp1.uwr'\n",
       "\\item 'op1:dp2.uwr'\n",
       "\\item 'op1:dp3.uwr'\n",
       "\\item 'op2:dp1.uwr'\n",
       "\\item 'op2:dp2.uwr'\n",
       "\\item 'op2:dp3.uwr'\n",
       "\\item 'op3:dp1.uwr'\n",
       "\\item 'op3:dp2.uwr'\n",
       "\\item 'op3:dp3.uwr'\n",
       "\\item 'ndotd.wr'\n",
       "\\item 'log\\_ndotd.wr'\n",
       "\\item 'pdotd.wr'\n",
       "\\item 'log\\_pdotd.wr'\n",
       "\\item 'op1.wr'\n",
       "\\item 'op2.wr'\n",
       "\\item 'op3.wr'\n",
       "\\item 'dp1.wr'\n",
       "\\item 'dp2.wr'\n",
       "\\item 'dp3.wr'\n",
       "\\item 'op1:dp1.wr'\n",
       "\\item 'op1:dp2.wr'\n",
       "\\item 'op1:dp3.wr'\n",
       "\\item 'op2:dp1.wr'\n",
       "\\item 'op2:dp2.wr'\n",
       "\\item 'op2:dp3.wr'\n",
       "\\item 'op3:dp1.wr'\n",
       "\\item 'op3:dp2.wr'\n",
       "\\item 'op3:dp3.wr'\n",
       "\\end{enumerate*}\n"
      ],
      "text/markdown": [
       "1. 'date'\n",
       "2. 'dyad'\n",
       "3. 'origin_cluster'\n",
       "4. 'destination_cluster'\n",
       "5. 'n'\n",
       "6. 'bordering'\n",
       "7. 'ndotd.uwr'\n",
       "8. 'log_ndotd.uwr'\n",
       "9. 'pdotd.uwr'\n",
       "10. 'log_pdotd.uwr'\n",
       "11. 'op1.uwr'\n",
       "12. 'op2.uwr'\n",
       "13. 'op3.uwr'\n",
       "14. 'dp1.uwr'\n",
       "15. 'dp2.uwr'\n",
       "16. 'dp3.uwr'\n",
       "17. 'op1:dp1.uwr'\n",
       "18. 'op1:dp2.uwr'\n",
       "19. 'op1:dp3.uwr'\n",
       "20. 'op2:dp1.uwr'\n",
       "21. 'op2:dp2.uwr'\n",
       "22. 'op2:dp3.uwr'\n",
       "23. 'op3:dp1.uwr'\n",
       "24. 'op3:dp2.uwr'\n",
       "25. 'op3:dp3.uwr'\n",
       "26. 'ndotd.wr'\n",
       "27. 'log_ndotd.wr'\n",
       "28. 'pdotd.wr'\n",
       "29. 'log_pdotd.wr'\n",
       "30. 'op1.wr'\n",
       "31. 'op2.wr'\n",
       "32. 'op3.wr'\n",
       "33. 'dp1.wr'\n",
       "34. 'dp2.wr'\n",
       "35. 'dp3.wr'\n",
       "36. 'op1:dp1.wr'\n",
       "37. 'op1:dp2.wr'\n",
       "38. 'op1:dp3.wr'\n",
       "39. 'op2:dp1.wr'\n",
       "40. 'op2:dp2.wr'\n",
       "41. 'op2:dp3.wr'\n",
       "42. 'op3:dp1.wr'\n",
       "43. 'op3:dp2.wr'\n",
       "44. 'op3:dp3.wr'\n",
       "\n",
       "\n"
      ],
      "text/plain": [
       " [1] \"date\"                \"dyad\"                \"origin_cluster\"     \n",
       " [4] \"destination_cluster\" \"n\"                   \"bordering\"          \n",
       " [7] \"ndotd.uwr\"           \"log_ndotd.uwr\"       \"pdotd.uwr\"          \n",
       "[10] \"log_pdotd.uwr\"       \"op1.uwr\"             \"op2.uwr\"            \n",
       "[13] \"op3.uwr\"             \"dp1.uwr\"             \"dp2.uwr\"            \n",
       "[16] \"dp3.uwr\"             \"op1:dp1.uwr\"         \"op1:dp2.uwr\"        \n",
       "[19] \"op1:dp3.uwr\"         \"op2:dp1.uwr\"         \"op2:dp2.uwr\"        \n",
       "[22] \"op2:dp3.uwr\"         \"op3:dp1.uwr\"         \"op3:dp2.uwr\"        \n",
       "[25] \"op3:dp3.uwr\"         \"ndotd.wr\"            \"log_ndotd.wr\"       \n",
       "[28] \"pdotd.wr\"            \"log_pdotd.wr\"        \"op1.wr\"             \n",
       "[31] \"op2.wr\"              \"op3.wr\"              \"dp1.wr\"             \n",
       "[34] \"dp2.wr\"              \"dp3.wr\"              \"op1:dp1.wr\"         \n",
       "[37] \"op1:dp2.wr\"          \"op1:dp3.wr\"          \"op2:dp1.wr\"         \n",
       "[40] \"op2:dp2.wr\"          \"op2:dp3.wr\"          \"op3:dp1.wr\"         \n",
       "[43] \"op3:dp2.wr\"          \"op3:dp3.wr\"         "
      ]
     },
     "metadata": {},
     "output_type": "display_data"
    }
   ],
   "source": [
    "colnames(df)"
   ]
  },
  {
   "cell_type": "code",
   "execution_count": 27,
   "metadata": {},
   "outputs": [],
   "source": [
    "df %>% \n",
    "    filter(bordering == 1) -> brdr"
   ]
  },
  {
   "cell_type": "code",
   "execution_count": 9,
   "metadata": {},
   "outputs": [
    {
     "name": "stderr",
     "output_type": "stream",
     "text": [
      "Warning message in log(pdotd.wr):\n",
      "“NaNs produced”\n"
     ]
    },
    {
     "data": {
      "text/plain": [
       "\n",
       "Call:\n",
       "   felm(formula = log(pdotd.wr) ~ 0 + op1.wr + op2.wr + op3.wr +      dp1.wr + dp2.wr + dp3.wr | 0 | 0 | origin_cluster + destination_cluster,      data = df, weights = df$n) \n",
       "\n",
       "Weighted Residuals:\n",
       "   Min     1Q Median     3Q    Max \n",
       "-48260  -7396  -4773  -2926   -249 \n",
       "\n",
       "Coefficients:\n",
       "       Estimate Cluster s.e. t value Pr(>|t|)\n",
       "op1.wr  -0.2162       2.1808  -0.099    0.921\n",
       "op2.wr  -0.8540       2.0825  -0.410    0.682\n",
       "op3.wr  -0.1927       1.9549  -0.099    0.921\n",
       "dp1.wr   0.3433       1.1231   0.306    0.760\n",
       "dp2.wr   0.7416       1.5333   0.484    0.629\n",
       "dp3.wr  -0.5865       1.2264  -0.478    0.633\n",
       "\n",
       "Residual standard error: 7019 on 1994542 degrees of freedom\n",
       "  (2240046 observations deleted due to missingness)\n",
       "Multiple R-squared(full model): -35.36   Adjusted R-squared: -35.36 \n",
       "Multiple R-squared(proj model): -35.36   Adjusted R-squared: -35.36 \n",
       "F-statistic(full model, *iid*):-3.233e+05 on 6 and 1994542 DF, p-value: 1 \n",
       "F-statistic(proj model): 0.1201 on 6 and 50 DF, p-value: 0.9935 \n",
       "\n"
      ]
     },
     "metadata": {},
     "output_type": "display_data"
    }
   ],
   "source": [
    "fit <- felm(log(pdotd.wr) ~ 0 + op1.wr + op2.wr + op3.wr + dp1.wr + dp2.wr + dp3.wr\n",
    "             | 0 | 0 | origin_cluster + destination_cluster, df, weights = df$n)\n",
    "summary(fit)"
   ]
  },
  {
   "cell_type": "code",
   "execution_count": null,
   "metadata": {},
   "outputs": [],
   "source": [
    "fit <- felm(log(pdotd.wr) ~ op1.wr + op2.wr + op3.wr + dp1.wr + dp2.wr + dp3.wr\n",
    "             | dyad + date | 0 | origin_cluster + destination_cluster, df, weights = df$n)\n",
    "summary(fit)"
   ]
  },
  {
   "cell_type": "code",
   "execution_count": 79,
   "metadata": {},
   "outputs": [
    {
     "name": "stderr",
     "output_type": "stream",
     "text": [
      "Warning message in newols(mm, nostats = nostats[1], exactDOF = exactDOF, onlyse = onlyse, :\n",
      "“Negative eigenvalues set to zero in multiway clustered variance matrix. See felm(...,psdef=FALSE)”\n",
      "Warning message in newols(mm, nostats = nostats[1], exactDOF = exactDOF, onlyse = onlyse, :\n",
      "“Negative eigenvalues set to zero in multiway clustered variance matrix. See felm(...,psdef=FALSE)”\n"
     ]
    }
   ],
   "source": [
    "fit1 <- felm(log(pdotd.wr) ~ op1b + op2b + op3b + dp1b + dp2b + dp3b + op1nb + op2nb + op3nb + dp1nb + dp2nb + dp3nb\n",
    "             | dyad + date | 0 | origin_cluster + destination_cluster, df, weights = df$n)\n",
    "fit2 <- felm(log(pdotd) ~ op1 + op2 + op3 + dp1 + dp2 + dp3\n",
    "             | dyad + date | 0 | origin_cluster + destination_cluster, df, weights = df$n)"
   ]
  },
  {
   "cell_type": "code",
   "execution_count": 76,
   "metadata": {},
   "outputs": [
    {
     "name": "stderr",
     "output_type": "stream",
     "text": [
      "Warning message in chol.default(mat, pivot = TRUE, tol = tol):\n",
      "“the matrix is either rank-deficient or indefinite”\n",
      "Warning message in chol.default(mat, pivot = TRUE, tol = tol):\n",
      "“the matrix is either rank-deficient or indefinite”\n"
     ]
    }
   ],
   "source": [
    "as.data.frame(summary(fit1)$coef) %>%\n",
    "    mutate(var = rownames(.),\n",
    "           type = ifelse(str_detect(var, 'nb$'), 'not bordering', 'bordering'),\n",
    "           var = str_replace(var, 'n?b', '')) %>%\n",
    "    rename(estimate = Estimate, se = `Cluster s.e.`) %>%\n",
    "    bind_rows(as.data.frame(summary(fit2)$coef) %>%\n",
    "              mutate(var = rownames(.),\n",
    "                     type = 'all') %>%\n",
    "              rename(estimate = Estimate, se = `Cluster s.e.`)) -> temp"
   ]
  },
  {
   "cell_type": "code",
   "execution_count": 77,
   "metadata": {},
   "outputs": [
    {
     "data": {
      "image/png": "[encoded data removed]",
      "text/plain": [
       "plot without title"
      ]
     },
     "metadata": {
      "image/png": {
       "height": 420,
       "width": 420
      },
      "text/plain": {
       "height": 420,
       "width": 420
      }
     },
     "output_type": "display_data"
    }
   ],
   "source": [
    "temp %>%\n",
    "    ggplot(aes(x = var, y = estimate, color = type)) + \n",
    "    geom_hline(aes(yintercept = 0), linetype = 2) +\n",
    "    geom_point(position = position_dodge(0.5), size = 2) +\n",
    "    geom_linerange(aes(ymin = estimate - 1.98 * se, ymax = estimate + 1.98 * se), position = position_dodge(0.5), size = .5) +\n",
    "    xlab('') + \n",
    "    ylab('') +\n",
    "    labs(color = \"type\") +\n",
    "    theme_light() +\n",
    "    theme(text = element_text(size=20),\n",
    "          legend.position = 'bottom')\n",
    "    "
   ]
  },
  {
   "cell_type": "code",
   "execution_count": 80,
   "metadata": {},
   "outputs": [
    {
     "name": "stderr",
     "output_type": "stream",
     "text": [
      "Warning message in chol.default(mat, pivot = TRUE, tol = tol):\n",
      "“the matrix is either rank-deficient or indefinite”\n",
      "Warning message in chol.default(mat, pivot = TRUE, tol = tol):\n",
      "“the matrix is either rank-deficient or indefinite”\n"
     ]
    },
    {
     "data": {
      "image/png": "[encoded data removed]",
      "text/plain": [
       "plot without title"
      ]
     },
     "metadata": {
      "image/png": {
       "height": 420,
       "width": 420
      },
      "text/plain": {
       "height": 420,
       "width": 420
      }
     },
     "output_type": "display_data"
    }
   ],
   "source": [
    "as.data.frame(summary(fit1)$coef) %>%\n",
    "    mutate(var = rownames(.),\n",
    "           type = ifelse(str_detect(var, 'nb$'), 'not bordering', 'bordering'),\n",
    "           var = str_replace(var, 'n?b', '')) %>%\n",
    "    rename(estimate = Estimate, se = `Cluster s.e.`) %>%\n",
    "    bind_rows(as.data.frame(summary(fit2)$coef) %>%\n",
    "              mutate(var = rownames(.),\n",
    "                     type = 'all') %>%\n",
    "              rename(estimate = Estimate, se = `Cluster s.e.`)) %>%\n",
    "    ggplot(aes(x = var, y = estimate, color = type)) + \n",
    "    geom_hline(aes(yintercept = 0), linetype = 2) +\n",
    "    geom_point(position = position_dodge(0.5), size = 2) +\n",
    "    geom_linerange(aes(ymin = estimate - 1.98 * se, ymax = estimate + 1.98 * se), position = position_dodge(0.5), size = .5) +\n",
    "    xlab('') + \n",
    "    ylab('') +\n",
    "    labs(color = \"type\") +\n",
    "    theme_light() +\n",
    "    theme(text = element_text(size=20),\n",
    "          legend.position = 'bottom')\n",
    "    "
   ]
  },
  {
   "cell_type": "code",
   "execution_count": 29,
   "metadata": {},
   "outputs": [
    {
     "data": {
      "text/plain": [
       "\n",
       "Call:\n",
       "   felm(formula = log(ndotd) ~ (op1 + op2 + op3 + dp1 + dp2 + dp3) |      dyad + date | 0 | origin_cluster + destination_cluster, data = brdr) \n",
       "\n",
       "Residuals:\n",
       "    Min      1Q  Median      3Q     Max \n",
       "-3.2044 -0.1414  0.0070  0.1499  3.8489 \n",
       "\n",
       "Coefficients:\n",
       "     Estimate Cluster s.e. t value Pr(>|t|)    \n",
       "op1 -0.003758     0.013383  -0.281 0.780025    \n",
       "op2 -0.060800     0.022894  -2.656 0.010647 *  \n",
       "op3  0.025407     0.012837   1.979 0.053432 .  \n",
       "dp1 -0.015875     0.012672  -1.253 0.216232    \n",
       "dp2 -0.049590     0.025047  -1.980 0.053351 .  \n",
       "dp3  0.046597     0.011882   3.922 0.000274 ***\n",
       "---\n",
       "Signif. codes:  0 ‘***’ 0.001 ‘**’ 0.01 ‘*’ 0.05 ‘.’ 0.1 ‘ ’ 1\n",
       "\n",
       "Residual standard error: 0.2733 on 2314441 degrees of freedom\n",
       "Multiple R-squared(full model): 0.9637   Adjusted R-squared: 0.9635 \n",
       "Multiple R-squared(proj model): 0.008081   Adjusted R-squared: 0.00252 \n",
       "F-statistic(full model, *iid*): 4742 on 12974 and 2314441 DF, p-value: < 2.2e-16 \n",
       "F-statistic(proj model): 17.75 on 6 and 49 DF, p-value: 8.471e-11 \n",
       "\n"
      ]
     },
     "metadata": {},
     "output_type": "display_data"
    }
   ],
   "source": [
    "fit1 <- felm(log(ndotd) ~ (op1 + op2 + op3 + dp1 + dp2 + dp3)\n",
    "             | dyad + date | 0 | origin_cluster + destination_cluster, brdr)\n",
    "summary(fit1)"
   ]
  },
  {
   "cell_type": "code",
   "execution_count": null,
   "metadata": {},
   "outputs": [],
   "source": [
    "fit1 <- felm(log(pdotd) ~ op1 + op2 + op3 + dp1 + dp2 + dp3 + \n",
    "             op1:dp1 + op1:dp2 + op1:dp3 + \n",
    "             op2:dp1 + op2:dp2 + op2:dp3 + \n",
    "             op3:dp1 + op3:dp2 + op3:dp3\n",
    "             | dyad + date | 0 | origin_cluster + destination_cluster, df, weights = df$n)\n",
    "summary(fit1)"
   ]
  },
  {
   "cell_type": "code",
   "execution_count": 81,
   "metadata": {},
   "outputs": [
    {
     "data": {
      "text/html": [
       "<style>\n",
       ".list-inline {list-style: none; margin:0; padding: 0}\n",
       ".list-inline>li {display: inline-block}\n",
       ".list-inline>li:not(:last-child)::after {content: \"\\00b7\"; padding: 0 .5ex}\n",
       "</style>\n",
       "<ol class=list-inline><li>'date'</li><li>'dyad'</li><li>'origin_cluster'</li><li>'destination_cluster'</li><li>'n'</li><li>'bordering'</li><li>'ndotd'</li><li>'pdotd'</li><li>'oPRCP'</li><li>'oTMAX'</li><li>'dPRCP'</li><li>'dTMAX'</li><li>'op1'</li><li>'op2'</li><li>'op3'</li><li>'dp1'</li><li>'dp2'</li><li>'dp3'</li><li>'op1:dp1'</li><li>'op1:dp2'</li><li>'op1:dp3'</li><li>'op2:dp1'</li><li>'op2:dp2'</li><li>'op2:dp3'</li><li>'op3:dp1'</li><li>'op3:dp2'</li><li>'op3:dp3'</li><li>'op1b'</li><li>'op2b'</li><li>'op3b'</li><li>'dp1b'</li><li>'dp2b'</li><li>'dp3b'</li><li>'op1nb'</li><li>'op2nb'</li><li>'op3nb'</li><li>'dp1nb'</li><li>'dp2nb'</li><li>'dp3nb'</li></ol>\n"
      ],
      "text/latex": [
       "\\begin{enumerate*}\n",
       "\\item 'date'\n",
       "\\item 'dyad'\n",
       "\\item 'origin\\_cluster'\n",
       "\\item 'destination\\_cluster'\n",
       "\\item 'n'\n",
       "\\item 'bordering'\n",
       "\\item 'ndotd'\n",
       "\\item 'pdotd'\n",
       "\\item 'oPRCP'\n",
       "\\item 'oTMAX'\n",
       "\\item 'dPRCP'\n",
       "\\item 'dTMAX'\n",
       "\\item 'op1'\n",
       "\\item 'op2'\n",
       "\\item 'op3'\n",
       "\\item 'dp1'\n",
       "\\item 'dp2'\n",
       "\\item 'dp3'\n",
       "\\item 'op1:dp1'\n",
       "\\item 'op1:dp2'\n",
       "\\item 'op1:dp3'\n",
       "\\item 'op2:dp1'\n",
       "\\item 'op2:dp2'\n",
       "\\item 'op2:dp3'\n",
       "\\item 'op3:dp1'\n",
       "\\item 'op3:dp2'\n",
       "\\item 'op3:dp3'\n",
       "\\item 'op1b'\n",
       "\\item 'op2b'\n",
       "\\item 'op3b'\n",
       "\\item 'dp1b'\n",
       "\\item 'dp2b'\n",
       "\\item 'dp3b'\n",
       "\\item 'op1nb'\n",
       "\\item 'op2nb'\n",
       "\\item 'op3nb'\n",
       "\\item 'dp1nb'\n",
       "\\item 'dp2nb'\n",
       "\\item 'dp3nb'\n",
       "\\end{enumerate*}\n"
      ],
      "text/markdown": [
       "1. 'date'\n",
       "2. 'dyad'\n",
       "3. 'origin_cluster'\n",
       "4. 'destination_cluster'\n",
       "5. 'n'\n",
       "6. 'bordering'\n",
       "7. 'ndotd'\n",
       "8. 'pdotd'\n",
       "9. 'oPRCP'\n",
       "10. 'oTMAX'\n",
       "11. 'dPRCP'\n",
       "12. 'dTMAX'\n",
       "13. 'op1'\n",
       "14. 'op2'\n",
       "15. 'op3'\n",
       "16. 'dp1'\n",
       "17. 'dp2'\n",
       "18. 'dp3'\n",
       "19. 'op1:dp1'\n",
       "20. 'op1:dp2'\n",
       "21. 'op1:dp3'\n",
       "22. 'op2:dp1'\n",
       "23. 'op2:dp2'\n",
       "24. 'op2:dp3'\n",
       "25. 'op3:dp1'\n",
       "26. 'op3:dp2'\n",
       "27. 'op3:dp3'\n",
       "28. 'op1b'\n",
       "29. 'op2b'\n",
       "30. 'op3b'\n",
       "31. 'dp1b'\n",
       "32. 'dp2b'\n",
       "33. 'dp3b'\n",
       "34. 'op1nb'\n",
       "35. 'op2nb'\n",
       "36. 'op3nb'\n",
       "37. 'dp1nb'\n",
       "38. 'dp2nb'\n",
       "39. 'dp3nb'\n",
       "\n",
       "\n"
      ],
      "text/plain": [
       " [1] \"date\"                \"dyad\"                \"origin_cluster\"     \n",
       " [4] \"destination_cluster\" \"n\"                   \"bordering\"          \n",
       " [7] \"ndotd\"               \"pdotd\"               \"oPRCP\"              \n",
       "[10] \"oTMAX\"               \"dPRCP\"               \"dTMAX\"              \n",
       "[13] \"op1\"                 \"op2\"                 \"op3\"                \n",
       "[16] \"dp1\"                 \"dp2\"                 \"dp3\"                \n",
       "[19] \"op1:dp1\"             \"op1:dp2\"             \"op1:dp3\"            \n",
       "[22] \"op2:dp1\"             \"op2:dp2\"             \"op2:dp3\"            \n",
       "[25] \"op3:dp1\"             \"op3:dp2\"             \"op3:dp3\"            \n",
       "[28] \"op1b\"                \"op2b\"                \"op3b\"               \n",
       "[31] \"dp1b\"                \"dp2b\"                \"dp3b\"               \n",
       "[34] \"op1nb\"               \"op2nb\"               \"op3nb\"              \n",
       "[37] \"dp1nb\"               \"dp2nb\"               \"dp3nb\"              "
      ]
     },
     "metadata": {},
     "output_type": "display_data"
    }
   ],
   "source": [
    "colnames(df)"
   ]
  },
  {
   "cell_type": "code",
   "execution_count": null,
   "metadata": {},
   "outputs": [],
   "source": []
  }
 ],
 "metadata": {
  "kernelspec": {
   "display_name": "R 3.6",
   "language": "R",
   "name": "ir36"
  },
  "language_info": {
   "codemirror_mode": "r",
   "file_extension": ".r",
   "mimetype": "text/x-r-source",
   "name": "R",
   "pygments_lexer": "r",
   "version": "3.6.3"
  }
 },
 "nbformat": 4,
 "nbformat_minor": 4
}
